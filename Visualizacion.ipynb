{
  "cells": [
    {
      "cell_type": "markdown",
      "metadata": {
        "id": "view-in-github",
        "colab_type": "text"
      },
      "source": [
        "<a href=\"https://colab.research.google.com/github/sttesta3/7506R-1C2024-GRUPO08/blob/santiago/Pandas_TP_01_Filtrado.ipynb\" target=\"_parent\"><img src=\"https://colab.research.google.com/assets/colab-badge.svg\" alt=\"Open In Colab\"/></a>"
      ]
    },
    {
      "cell_type": "code",
      "execution_count": null,
      "metadata": {
        "id": "wYvbDLaCu2Zy"
      },
      "outputs": [],
      "source": [
        " import pandas as pd"
      ]
    },
    {
      "cell_type": "code",
      "execution_count": null,
      "metadata": {
        "colab": {
          "base_uri": "https://localhost:8080/"
        },
        "id": "q3cj6btv3XTa",
        "outputId": "ef57c3d3-3530-436e-80d3-224b812586ff"
      },
      "outputs": [
        {
          "output_type": "execute_result",
          "data": {
            "text/plain": [
              "(460154, 20)"
            ]
          },
          "metadata": {},
          "execution_count": 318
        }
      ],
      "source": [
        "df =pd.read_csv('./datasets/properati_argentina_2021.csv')\n",
        "df.shape\n",
        "#registros: 460154 , columnas 20"
      ]
    },
    {
      "cell_type": "code",
      "execution_count": null,
      "metadata": {
        "colab": {
          "base_uri": "https://localhost:8080/"
        },
        "id": "s_IF0T153g1r",
        "outputId": "c1900409-54b2-40d4-f09b-921c19116ba6"
      },
      "outputs": [
        {
          "output_type": "stream",
          "name": "stdout",
          "text": [
            "<class 'pandas.core.frame.DataFrame'>\n",
            "RangeIndex: 460154 entries, 0 to 460153\n",
            "Data columns (total 20 columns):\n",
            " #   Column                    Non-Null Count   Dtype  \n",
            "---  ------                    --------------   -----  \n",
            " 0   id                        460154 non-null  object \n",
            " 1   start_date                460154 non-null  object \n",
            " 2   end_date                  460154 non-null  object \n",
            " 3   created_on                460154 non-null  object \n",
            " 4   latitud                   419740 non-null  float64\n",
            " 5   longitud                  419740 non-null  float64\n",
            " 6   place_l2                  460154 non-null  object \n",
            " 7   place_l3                  437665 non-null  object \n",
            " 8   place_l4                  139020 non-null  object \n",
            " 9   place_l5                  2430 non-null    object \n",
            " 10  place_l6                  0 non-null       float64\n",
            " 11  operation                 460154 non-null  object \n",
            " 12  property_type             460154 non-null  object \n",
            " 13  property_rooms            368498 non-null  float64\n",
            " 14  property_bedrooms         344113 non-null  float64\n",
            " 15  property_surface_total    397813 non-null  float64\n",
            " 16  property_surface_covered  427916 non-null  float64\n",
            " 17  property_price            442153 non-null  float64\n",
            " 18  property_currency         441590 non-null  object \n",
            " 19  property_title            460154 non-null  object \n",
            "dtypes: float64(8), object(12)\n",
            "memory usage: 70.2+ MB\n"
          ]
        }
      ],
      "source": [
        "df.info()"
      ]
    },
    {
      "cell_type": "code",
      "execution_count": null,
      "metadata": {
        "colab": {
          "base_uri": "https://localhost:8080/",
          "height": 174
        },
        "id": "iu9fTi1zpnqS",
        "outputId": "97b47852-9012-40b9-fb5a-8846e570d6ca"
      },
      "outputs": [
        {
          "output_type": "execute_result",
          "data": {
            "text/plain": [
              "\"<class 'pandas.core.frame.DataFrame'>\\nRangeIndex: 460154 entries, 0 to 460153\\nData columns (total 20 columns):\\n #   Column                    Non-Null Count   Dtype\\n---  ------                    --------------   -----\\n 0   id                        460154 non-null  object\\n 1   start_date                460154 non-null  object  fecha ini             #time\\n 2   end_date                  460154 non-null  object  fecha fin             #time\\n 3   created_on                460154 non-null  object  fecha creacion        #time\\n 4   latitud                   419740 non-null  float64\\n 5   longitud                  419740 non-null  float64\\n 6   place_l2                  460154 non-null  object  localidad barrio\\n 7   place_l3                  437665 non-null  object  localidad barrio\\n 8   place_l4                  139020 non-null  object  localidad barrio\\n 9   place_l5                  2430 non-null    object  localidad barrio\\n 10  place_l6                  0 non-null       float64 localidad barrio\\n 11  operation                 460154 non-null  object  venta,,,,             #category\\n 12  property_type             460154 non-null  object  casa,departamento,,,, #category\\n 13  property_rooms            368498 non-null  float64 ambientes\\n 14  property_bedrooms         344113 non-null  float64 dormitorio\\n 15  property_surface_total    397813 non-null  float64 superficie total\\n 16  property_surface_covered  427916 non-null  float64 superficie cubierta(construida)\\n 17  property_price            442153 non-null  float64 precio\\n 18  property_currency         441590 non-null  object  moneda: USD, PESO       #category\\n 19  property_title            460154 non-null  object  titulo (titulo publicado en redes)\\ndtypes: float64(8), object(12)\\nmemory usage: 70.2+ MB \""
            ],
            "application/vnd.google.colaboratory.intrinsic+json": {
              "type": "string"
            }
          },
          "metadata": {},
          "execution_count": 320
        }
      ],
      "source": [
        "#     registros:               460154 , columnas 20\n",
        "'''<class 'pandas.core.frame.DataFrame'>\n",
        "RangeIndex: 460154 entries, 0 to 460153\n",
        "Data columns (total 20 columns):\n",
        " #   Column                    Non-Null Count   Dtype\n",
        "---  ------                    --------------   -----\n",
        " 0   id                        460154 non-null  object\n",
        " 1   start_date                460154 non-null  object  fecha ini             #time\n",
        " 2   end_date                  460154 non-null  object  fecha fin             #time\n",
        " 3   created_on                460154 non-null  object  fecha creacion        #time\n",
        " 4   latitud                   419740 non-null  float64\n",
        " 5   longitud                  419740 non-null  float64\n",
        " 6   place_l2                  460154 non-null  object  localidad barrio\n",
        " 7   place_l3                  437665 non-null  object  localidad barrio\n",
        " 8   place_l4                  139020 non-null  object  localidad barrio\n",
        " 9   place_l5                  2430 non-null    object  localidad barrio\n",
        " 10  place_l6                  0 non-null       float64 localidad barrio\n",
        " 11  operation                 460154 non-null  object  venta,,,,             #category\n",
        " 12  property_type             460154 non-null  object  casa,departamento,,,, #category\n",
        " 13  property_rooms            368498 non-null  float64 ambientes\n",
        " 14  property_bedrooms         344113 non-null  float64 dormitorio\n",
        " 15  property_surface_total    397813 non-null  float64 superficie total\n",
        " 16  property_surface_covered  427916 non-null  float64 superficie cubierta(construida)\n",
        " 17  property_price            442153 non-null  float64 precio\n",
        " 18  property_currency         441590 non-null  object  moneda: USD, PESO       #category\n",
        " 19  property_title            460154 non-null  object  titulo (titulo publicado en redes)\n",
        "dtypes: float64(8), object(12)\n",
        "memory usage: 70.2+ MB '''"
      ]
    },
    {
      "cell_type": "code",
      "execution_count": null,
      "metadata": {
        "colab": {
          "base_uri": "https://localhost:8080/",
          "height": 721
        },
        "id": "RRGE6LGg5dhO",
        "outputId": "b610db09-03d9-4eab-96aa-145a33f4c76f"
      },
      "outputs": [
        {
          "output_type": "execute_result",
          "data": {
            "text/plain": [
              "                              id  start_date    end_date  created_on  \\\n",
              "0       XZq2dFGxBiboHY3Bo/tqlw==  2021-09-09  2022-01-27  2021-09-09   \n",
              "1       8afoK+yMH/rnnlYiktwgNA==  2021-09-09  2021-10-23  2021-09-09   \n",
              "2       iVaG5rBB47dd1Ya4BMXREA==  2021-09-09  2022-03-09  2021-09-09   \n",
              "3       QE1QVMWKAHWkd0qT0FtPWA==  2021-09-09  2022-01-27  2021-09-09   \n",
              "4       tJ5lSk7IysG/71OGhacNZA==  2021-09-09  2022-01-27  2021-09-09   \n",
              "...                          ...         ...         ...         ...   \n",
              "460149  EWHC/xcODFkeEA0+pPE6Rw==  2021-01-05  2021-01-08  2021-01-05   \n",
              "460150  txKUq0LjMaORjJQeeqTOfw==  2021-01-05  2021-11-01  2021-01-05   \n",
              "460151  E0zwHT18DX8AxhU22hXgng==  2021-01-05  2021-03-01  2021-01-05   \n",
              "460152  Ec4Tvy/WX5f6RgfaJf2FHQ==  2021-01-05  2021-11-28  2021-01-05   \n",
              "460153  Y7KBafQ+e5noGh2Pio0xLg==  2021-01-05  9999-12-31  2021-01-05   \n",
              "\n",
              "          latitud   longitud                  place_l2               place_l3  \\\n",
              "0      -38.957632 -68.105443                   Neuquén                    NaN   \n",
              "1      -34.888878 -56.092368                Montevideo                    NaN   \n",
              "2      -32.488717 -58.257499                Entre Ríos                    NaN   \n",
              "3      -34.900165 -54.808453                 Maldonado                    NaN   \n",
              "4      -38.954528 -68.041862                   Neuquén                    NaN   \n",
              "...           ...        ...                       ...                    ...   \n",
              "460149 -34.599594 -58.588715  Bs.As. G.B.A. Zona Oeste        Tres de Febrero   \n",
              "460150 -34.582777 -58.545220  Bs.As. G.B.A. Zona Norte     General San Martín   \n",
              "460151        NaN        NaN  Bs.As. G.B.A. Zona Norte     General San Martín   \n",
              "460152 -33.226234 -60.331848                  Santa Fe     Villa Constitución   \n",
              "460153 -26.827938 -65.220708                   Tucumán  San Miguel de Tucumán   \n",
              "\n",
              "           place_l4 place_l5  place_l6 operation    property_type  \\\n",
              "0               NaN      NaN       NaN     Venta             Casa   \n",
              "1               NaN      NaN       NaN     Venta             Casa   \n",
              "2               NaN      NaN       NaN     Venta             Casa   \n",
              "3               NaN      NaN       NaN     Venta             Casa   \n",
              "4               NaN      NaN       NaN     Venta               PH   \n",
              "...             ...      ...       ...       ...              ...   \n",
              "460149          NaN      NaN       NaN     Venta  Local comercial   \n",
              "460150  Villa Lynch      NaN       NaN     Venta  Local comercial   \n",
              "460151          NaN      NaN       NaN     Venta  Local comercial   \n",
              "460152          NaN      NaN       NaN  Alquiler  Local comercial   \n",
              "460153          NaN      NaN       NaN     Venta  Local comercial   \n",
              "\n",
              "        property_rooms  property_bedrooms  property_surface_total  \\\n",
              "0                  6.0                NaN                     NaN   \n",
              "1                  4.0                3.0                   193.0   \n",
              "2                  NaN                NaN                   110.0   \n",
              "3                  NaN                3.0                     NaN   \n",
              "4                  3.0                2.0                     NaN   \n",
              "...                ...                ...                     ...   \n",
              "460149             NaN                NaN                   113.0   \n",
              "460150             NaN                NaN                 11580.0   \n",
              "460151             NaN                NaN                   915.0   \n",
              "460152             NaN                NaN                     NaN   \n",
              "460153             1.0                NaN                   243.0   \n",
              "\n",
              "        property_surface_covered  property_price property_currency  \\\n",
              "0                          206.0             NaN               NaN   \n",
              "1                          193.0        390000.0               USD   \n",
              "2                           45.0         47000.0               USD   \n",
              "3                          180.0        400000.0               USD   \n",
              "4                           98.0        102000.0               USD   \n",
              "...                          ...             ...               ...   \n",
              "460149                     113.0        190000.0               USD   \n",
              "460150                   11580.0       3500000.0               USD   \n",
              "460151                     915.0        800000.0               USD   \n",
              "460152                      15.0             NaN               NaN   \n",
              "460153                     133.0        160000.0               USD   \n",
              "\n",
              "                                           property_title  \n",
              "0                                          Casa - Capital  \n",
              "1                                           Casa - Malvín  \n",
              "2                                          Casa - Uruguay  \n",
              "3                                        Casa - El Chorro  \n",
              "4                                      PH - Villa Farrell  \n",
              "...                                                   ...  \n",
              "460149   LOCAL COMERCIAL MAS DE 100 MTS. - Ciudad jardín-  \n",
              "460150                      Nave Industrial - Villa Lynch  \n",
              "460151  importante edificio comercial en tres plantas ...  \n",
              "460152                         Local - Villa Constitucion  \n",
              "460153                      Local - San Miguel De Tucumán  \n",
              "\n",
              "[460154 rows x 20 columns]"
            ],
            "text/html": [
              "\n",
              "  <div id=\"df-2951b4ea-313b-419f-9304-5407aedcf175\" class=\"colab-df-container\">\n",
              "    <div>\n",
              "<style scoped>\n",
              "    .dataframe tbody tr th:only-of-type {\n",
              "        vertical-align: middle;\n",
              "    }\n",
              "\n",
              "    .dataframe tbody tr th {\n",
              "        vertical-align: top;\n",
              "    }\n",
              "\n",
              "    .dataframe thead th {\n",
              "        text-align: right;\n",
              "    }\n",
              "</style>\n",
              "<table border=\"1\" class=\"dataframe\">\n",
              "  <thead>\n",
              "    <tr style=\"text-align: right;\">\n",
              "      <th></th>\n",
              "      <th>id</th>\n",
              "      <th>start_date</th>\n",
              "      <th>end_date</th>\n",
              "      <th>created_on</th>\n",
              "      <th>latitud</th>\n",
              "      <th>longitud</th>\n",
              "      <th>place_l2</th>\n",
              "      <th>place_l3</th>\n",
              "      <th>place_l4</th>\n",
              "      <th>place_l5</th>\n",
              "      <th>place_l6</th>\n",
              "      <th>operation</th>\n",
              "      <th>property_type</th>\n",
              "      <th>property_rooms</th>\n",
              "      <th>property_bedrooms</th>\n",
              "      <th>property_surface_total</th>\n",
              "      <th>property_surface_covered</th>\n",
              "      <th>property_price</th>\n",
              "      <th>property_currency</th>\n",
              "      <th>property_title</th>\n",
              "    </tr>\n",
              "  </thead>\n",
              "  <tbody>\n",
              "    <tr>\n",
              "      <th>0</th>\n",
              "      <td>XZq2dFGxBiboHY3Bo/tqlw==</td>\n",
              "      <td>2021-09-09</td>\n",
              "      <td>2022-01-27</td>\n",
              "      <td>2021-09-09</td>\n",
              "      <td>-38.957632</td>\n",
              "      <td>-68.105443</td>\n",
              "      <td>Neuquén</td>\n",
              "      <td>NaN</td>\n",
              "      <td>NaN</td>\n",
              "      <td>NaN</td>\n",
              "      <td>NaN</td>\n",
              "      <td>Venta</td>\n",
              "      <td>Casa</td>\n",
              "      <td>6.0</td>\n",
              "      <td>NaN</td>\n",
              "      <td>NaN</td>\n",
              "      <td>206.0</td>\n",
              "      <td>NaN</td>\n",
              "      <td>NaN</td>\n",
              "      <td>Casa - Capital</td>\n",
              "    </tr>\n",
              "    <tr>\n",
              "      <th>1</th>\n",
              "      <td>8afoK+yMH/rnnlYiktwgNA==</td>\n",
              "      <td>2021-09-09</td>\n",
              "      <td>2021-10-23</td>\n",
              "      <td>2021-09-09</td>\n",
              "      <td>-34.888878</td>\n",
              "      <td>-56.092368</td>\n",
              "      <td>Montevideo</td>\n",
              "      <td>NaN</td>\n",
              "      <td>NaN</td>\n",
              "      <td>NaN</td>\n",
              "      <td>NaN</td>\n",
              "      <td>Venta</td>\n",
              "      <td>Casa</td>\n",
              "      <td>4.0</td>\n",
              "      <td>3.0</td>\n",
              "      <td>193.0</td>\n",
              "      <td>193.0</td>\n",
              "      <td>390000.0</td>\n",
              "      <td>USD</td>\n",
              "      <td>Casa - Malvín</td>\n",
              "    </tr>\n",
              "    <tr>\n",
              "      <th>2</th>\n",
              "      <td>iVaG5rBB47dd1Ya4BMXREA==</td>\n",
              "      <td>2021-09-09</td>\n",
              "      <td>2022-03-09</td>\n",
              "      <td>2021-09-09</td>\n",
              "      <td>-32.488717</td>\n",
              "      <td>-58.257499</td>\n",
              "      <td>Entre Ríos</td>\n",
              "      <td>NaN</td>\n",
              "      <td>NaN</td>\n",
              "      <td>NaN</td>\n",
              "      <td>NaN</td>\n",
              "      <td>Venta</td>\n",
              "      <td>Casa</td>\n",
              "      <td>NaN</td>\n",
              "      <td>NaN</td>\n",
              "      <td>110.0</td>\n",
              "      <td>45.0</td>\n",
              "      <td>47000.0</td>\n",
              "      <td>USD</td>\n",
              "      <td>Casa - Uruguay</td>\n",
              "    </tr>\n",
              "    <tr>\n",
              "      <th>3</th>\n",
              "      <td>QE1QVMWKAHWkd0qT0FtPWA==</td>\n",
              "      <td>2021-09-09</td>\n",
              "      <td>2022-01-27</td>\n",
              "      <td>2021-09-09</td>\n",
              "      <td>-34.900165</td>\n",
              "      <td>-54.808453</td>\n",
              "      <td>Maldonado</td>\n",
              "      <td>NaN</td>\n",
              "      <td>NaN</td>\n",
              "      <td>NaN</td>\n",
              "      <td>NaN</td>\n",
              "      <td>Venta</td>\n",
              "      <td>Casa</td>\n",
              "      <td>NaN</td>\n",
              "      <td>3.0</td>\n",
              "      <td>NaN</td>\n",
              "      <td>180.0</td>\n",
              "      <td>400000.0</td>\n",
              "      <td>USD</td>\n",
              "      <td>Casa - El Chorro</td>\n",
              "    </tr>\n",
              "    <tr>\n",
              "      <th>4</th>\n",
              "      <td>tJ5lSk7IysG/71OGhacNZA==</td>\n",
              "      <td>2021-09-09</td>\n",
              "      <td>2022-01-27</td>\n",
              "      <td>2021-09-09</td>\n",
              "      <td>-38.954528</td>\n",
              "      <td>-68.041862</td>\n",
              "      <td>Neuquén</td>\n",
              "      <td>NaN</td>\n",
              "      <td>NaN</td>\n",
              "      <td>NaN</td>\n",
              "      <td>NaN</td>\n",
              "      <td>Venta</td>\n",
              "      <td>PH</td>\n",
              "      <td>3.0</td>\n",
              "      <td>2.0</td>\n",
              "      <td>NaN</td>\n",
              "      <td>98.0</td>\n",
              "      <td>102000.0</td>\n",
              "      <td>USD</td>\n",
              "      <td>PH - Villa Farrell</td>\n",
              "    </tr>\n",
              "    <tr>\n",
              "      <th>...</th>\n",
              "      <td>...</td>\n",
              "      <td>...</td>\n",
              "      <td>...</td>\n",
              "      <td>...</td>\n",
              "      <td>...</td>\n",
              "      <td>...</td>\n",
              "      <td>...</td>\n",
              "      <td>...</td>\n",
              "      <td>...</td>\n",
              "      <td>...</td>\n",
              "      <td>...</td>\n",
              "      <td>...</td>\n",
              "      <td>...</td>\n",
              "      <td>...</td>\n",
              "      <td>...</td>\n",
              "      <td>...</td>\n",
              "      <td>...</td>\n",
              "      <td>...</td>\n",
              "      <td>...</td>\n",
              "      <td>...</td>\n",
              "    </tr>\n",
              "    <tr>\n",
              "      <th>460149</th>\n",
              "      <td>EWHC/xcODFkeEA0+pPE6Rw==</td>\n",
              "      <td>2021-01-05</td>\n",
              "      <td>2021-01-08</td>\n",
              "      <td>2021-01-05</td>\n",
              "      <td>-34.599594</td>\n",
              "      <td>-58.588715</td>\n",
              "      <td>Bs.As. G.B.A. Zona Oeste</td>\n",
              "      <td>Tres de Febrero</td>\n",
              "      <td>NaN</td>\n",
              "      <td>NaN</td>\n",
              "      <td>NaN</td>\n",
              "      <td>Venta</td>\n",
              "      <td>Local comercial</td>\n",
              "      <td>NaN</td>\n",
              "      <td>NaN</td>\n",
              "      <td>113.0</td>\n",
              "      <td>113.0</td>\n",
              "      <td>190000.0</td>\n",
              "      <td>USD</td>\n",
              "      <td>LOCAL COMERCIAL MAS DE 100 MTS. - Ciudad jardín-</td>\n",
              "    </tr>\n",
              "    <tr>\n",
              "      <th>460150</th>\n",
              "      <td>txKUq0LjMaORjJQeeqTOfw==</td>\n",
              "      <td>2021-01-05</td>\n",
              "      <td>2021-11-01</td>\n",
              "      <td>2021-01-05</td>\n",
              "      <td>-34.582777</td>\n",
              "      <td>-58.545220</td>\n",
              "      <td>Bs.As. G.B.A. Zona Norte</td>\n",
              "      <td>General San Martín</td>\n",
              "      <td>Villa Lynch</td>\n",
              "      <td>NaN</td>\n",
              "      <td>NaN</td>\n",
              "      <td>Venta</td>\n",
              "      <td>Local comercial</td>\n",
              "      <td>NaN</td>\n",
              "      <td>NaN</td>\n",
              "      <td>11580.0</td>\n",
              "      <td>11580.0</td>\n",
              "      <td>3500000.0</td>\n",
              "      <td>USD</td>\n",
              "      <td>Nave Industrial - Villa Lynch</td>\n",
              "    </tr>\n",
              "    <tr>\n",
              "      <th>460151</th>\n",
              "      <td>E0zwHT18DX8AxhU22hXgng==</td>\n",
              "      <td>2021-01-05</td>\n",
              "      <td>2021-03-01</td>\n",
              "      <td>2021-01-05</td>\n",
              "      <td>NaN</td>\n",
              "      <td>NaN</td>\n",
              "      <td>Bs.As. G.B.A. Zona Norte</td>\n",
              "      <td>General San Martín</td>\n",
              "      <td>NaN</td>\n",
              "      <td>NaN</td>\n",
              "      <td>NaN</td>\n",
              "      <td>Venta</td>\n",
              "      <td>Local comercial</td>\n",
              "      <td>NaN</td>\n",
              "      <td>NaN</td>\n",
              "      <td>915.0</td>\n",
              "      <td>915.0</td>\n",
              "      <td>800000.0</td>\n",
              "      <td>USD</td>\n",
              "      <td>importante edificio comercial en tres plantas ...</td>\n",
              "    </tr>\n",
              "    <tr>\n",
              "      <th>460152</th>\n",
              "      <td>Ec4Tvy/WX5f6RgfaJf2FHQ==</td>\n",
              "      <td>2021-01-05</td>\n",
              "      <td>2021-11-28</td>\n",
              "      <td>2021-01-05</td>\n",
              "      <td>-33.226234</td>\n",
              "      <td>-60.331848</td>\n",
              "      <td>Santa Fe</td>\n",
              "      <td>Villa Constitución</td>\n",
              "      <td>NaN</td>\n",
              "      <td>NaN</td>\n",
              "      <td>NaN</td>\n",
              "      <td>Alquiler</td>\n",
              "      <td>Local comercial</td>\n",
              "      <td>NaN</td>\n",
              "      <td>NaN</td>\n",
              "      <td>NaN</td>\n",
              "      <td>15.0</td>\n",
              "      <td>NaN</td>\n",
              "      <td>NaN</td>\n",
              "      <td>Local - Villa Constitucion</td>\n",
              "    </tr>\n",
              "    <tr>\n",
              "      <th>460153</th>\n",
              "      <td>Y7KBafQ+e5noGh2Pio0xLg==</td>\n",
              "      <td>2021-01-05</td>\n",
              "      <td>9999-12-31</td>\n",
              "      <td>2021-01-05</td>\n",
              "      <td>-26.827938</td>\n",
              "      <td>-65.220708</td>\n",
              "      <td>Tucumán</td>\n",
              "      <td>San Miguel de Tucumán</td>\n",
              "      <td>NaN</td>\n",
              "      <td>NaN</td>\n",
              "      <td>NaN</td>\n",
              "      <td>Venta</td>\n",
              "      <td>Local comercial</td>\n",
              "      <td>1.0</td>\n",
              "      <td>NaN</td>\n",
              "      <td>243.0</td>\n",
              "      <td>133.0</td>\n",
              "      <td>160000.0</td>\n",
              "      <td>USD</td>\n",
              "      <td>Local - San Miguel De Tucumán</td>\n",
              "    </tr>\n",
              "  </tbody>\n",
              "</table>\n",
              "<p>460154 rows × 20 columns</p>\n",
              "</div>\n",
              "    <div class=\"colab-df-buttons\">\n",
              "\n",
              "  <div class=\"colab-df-container\">\n",
              "    <button class=\"colab-df-convert\" onclick=\"convertToInteractive('df-2951b4ea-313b-419f-9304-5407aedcf175')\"\n",
              "            title=\"Convert this dataframe to an interactive table.\"\n",
              "            style=\"display:none;\">\n",
              "\n",
              "  <svg xmlns=\"http://www.w3.org/2000/svg\" height=\"24px\" viewBox=\"0 -960 960 960\">\n",
              "    <path d=\"M120-120v-720h720v720H120Zm60-500h600v-160H180v160Zm220 220h160v-160H400v160Zm0 220h160v-160H400v160ZM180-400h160v-160H180v160Zm440 0h160v-160H620v160ZM180-180h160v-160H180v160Zm440 0h160v-160H620v160Z\"/>\n",
              "  </svg>\n",
              "    </button>\n",
              "\n",
              "  <style>\n",
              "    .colab-df-container {\n",
              "      display:flex;\n",
              "      gap: 12px;\n",
              "    }\n",
              "\n",
              "    .colab-df-convert {\n",
              "      background-color: #E8F0FE;\n",
              "      border: none;\n",
              "      border-radius: 50%;\n",
              "      cursor: pointer;\n",
              "      display: none;\n",
              "      fill: #1967D2;\n",
              "      height: 32px;\n",
              "      padding: 0 0 0 0;\n",
              "      width: 32px;\n",
              "    }\n",
              "\n",
              "    .colab-df-convert:hover {\n",
              "      background-color: #E2EBFA;\n",
              "      box-shadow: 0px 1px 2px rgba(60, 64, 67, 0.3), 0px 1px 3px 1px rgba(60, 64, 67, 0.15);\n",
              "      fill: #174EA6;\n",
              "    }\n",
              "\n",
              "    .colab-df-buttons div {\n",
              "      margin-bottom: 4px;\n",
              "    }\n",
              "\n",
              "    [theme=dark] .colab-df-convert {\n",
              "      background-color: #3B4455;\n",
              "      fill: #D2E3FC;\n",
              "    }\n",
              "\n",
              "    [theme=dark] .colab-df-convert:hover {\n",
              "      background-color: #434B5C;\n",
              "      box-shadow: 0px 1px 3px 1px rgba(0, 0, 0, 0.15);\n",
              "      filter: drop-shadow(0px 1px 2px rgba(0, 0, 0, 0.3));\n",
              "      fill: #FFFFFF;\n",
              "    }\n",
              "  </style>\n",
              "\n",
              "    <script>\n",
              "      const buttonEl =\n",
              "        document.querySelector('#df-2951b4ea-313b-419f-9304-5407aedcf175 button.colab-df-convert');\n",
              "      buttonEl.style.display =\n",
              "        google.colab.kernel.accessAllowed ? 'block' : 'none';\n",
              "\n",
              "      async function convertToInteractive(key) {\n",
              "        const element = document.querySelector('#df-2951b4ea-313b-419f-9304-5407aedcf175');\n",
              "        const dataTable =\n",
              "          await google.colab.kernel.invokeFunction('convertToInteractive',\n",
              "                                                    [key], {});\n",
              "        if (!dataTable) return;\n",
              "\n",
              "        const docLinkHtml = 'Like what you see? Visit the ' +\n",
              "          '<a target=\"_blank\" href=https://colab.research.google.com/notebooks/data_table.ipynb>data table notebook</a>'\n",
              "          + ' to learn more about interactive tables.';\n",
              "        element.innerHTML = '';\n",
              "        dataTable['output_type'] = 'display_data';\n",
              "        await google.colab.output.renderOutput(dataTable, element);\n",
              "        const docLink = document.createElement('div');\n",
              "        docLink.innerHTML = docLinkHtml;\n",
              "        element.appendChild(docLink);\n",
              "      }\n",
              "    </script>\n",
              "  </div>\n",
              "\n",
              "\n",
              "<div id=\"df-bddc1d53-fa73-49e0-b852-9bd72a237cca\">\n",
              "  <button class=\"colab-df-quickchart\" onclick=\"quickchart('df-bddc1d53-fa73-49e0-b852-9bd72a237cca')\"\n",
              "            title=\"Suggest charts\"\n",
              "            style=\"display:none;\">\n",
              "\n",
              "<svg xmlns=\"http://www.w3.org/2000/svg\" height=\"24px\"viewBox=\"0 0 24 24\"\n",
              "     width=\"24px\">\n",
              "    <g>\n",
              "        <path d=\"M19 3H5c-1.1 0-2 .9-2 2v14c0 1.1.9 2 2 2h14c1.1 0 2-.9 2-2V5c0-1.1-.9-2-2-2zM9 17H7v-7h2v7zm4 0h-2V7h2v10zm4 0h-2v-4h2v4z\"/>\n",
              "    </g>\n",
              "</svg>\n",
              "  </button>\n",
              "\n",
              "<style>\n",
              "  .colab-df-quickchart {\n",
              "      --bg-color: #E8F0FE;\n",
              "      --fill-color: #1967D2;\n",
              "      --hover-bg-color: #E2EBFA;\n",
              "      --hover-fill-color: #174EA6;\n",
              "      --disabled-fill-color: #AAA;\n",
              "      --disabled-bg-color: #DDD;\n",
              "  }\n",
              "\n",
              "  [theme=dark] .colab-df-quickchart {\n",
              "      --bg-color: #3B4455;\n",
              "      --fill-color: #D2E3FC;\n",
              "      --hover-bg-color: #434B5C;\n",
              "      --hover-fill-color: #FFFFFF;\n",
              "      --disabled-bg-color: #3B4455;\n",
              "      --disabled-fill-color: #666;\n",
              "  }\n",
              "\n",
              "  .colab-df-quickchart {\n",
              "    background-color: var(--bg-color);\n",
              "    border: none;\n",
              "    border-radius: 50%;\n",
              "    cursor: pointer;\n",
              "    display: none;\n",
              "    fill: var(--fill-color);\n",
              "    height: 32px;\n",
              "    padding: 0;\n",
              "    width: 32px;\n",
              "  }\n",
              "\n",
              "  .colab-df-quickchart:hover {\n",
              "    background-color: var(--hover-bg-color);\n",
              "    box-shadow: 0 1px 2px rgba(60, 64, 67, 0.3), 0 1px 3px 1px rgba(60, 64, 67, 0.15);\n",
              "    fill: var(--button-hover-fill-color);\n",
              "  }\n",
              "\n",
              "  .colab-df-quickchart-complete:disabled,\n",
              "  .colab-df-quickchart-complete:disabled:hover {\n",
              "    background-color: var(--disabled-bg-color);\n",
              "    fill: var(--disabled-fill-color);\n",
              "    box-shadow: none;\n",
              "  }\n",
              "\n",
              "  .colab-df-spinner {\n",
              "    border: 2px solid var(--fill-color);\n",
              "    border-color: transparent;\n",
              "    border-bottom-color: var(--fill-color);\n",
              "    animation:\n",
              "      spin 1s steps(1) infinite;\n",
              "  }\n",
              "\n",
              "  @keyframes spin {\n",
              "    0% {\n",
              "      border-color: transparent;\n",
              "      border-bottom-color: var(--fill-color);\n",
              "      border-left-color: var(--fill-color);\n",
              "    }\n",
              "    20% {\n",
              "      border-color: transparent;\n",
              "      border-left-color: var(--fill-color);\n",
              "      border-top-color: var(--fill-color);\n",
              "    }\n",
              "    30% {\n",
              "      border-color: transparent;\n",
              "      border-left-color: var(--fill-color);\n",
              "      border-top-color: var(--fill-color);\n",
              "      border-right-color: var(--fill-color);\n",
              "    }\n",
              "    40% {\n",
              "      border-color: transparent;\n",
              "      border-right-color: var(--fill-color);\n",
              "      border-top-color: var(--fill-color);\n",
              "    }\n",
              "    60% {\n",
              "      border-color: transparent;\n",
              "      border-right-color: var(--fill-color);\n",
              "    }\n",
              "    80% {\n",
              "      border-color: transparent;\n",
              "      border-right-color: var(--fill-color);\n",
              "      border-bottom-color: var(--fill-color);\n",
              "    }\n",
              "    90% {\n",
              "      border-color: transparent;\n",
              "      border-bottom-color: var(--fill-color);\n",
              "    }\n",
              "  }\n",
              "</style>\n",
              "\n",
              "  <script>\n",
              "    async function quickchart(key) {\n",
              "      const quickchartButtonEl =\n",
              "        document.querySelector('#' + key + ' button');\n",
              "      quickchartButtonEl.disabled = true;  // To prevent multiple clicks.\n",
              "      quickchartButtonEl.classList.add('colab-df-spinner');\n",
              "      try {\n",
              "        const charts = await google.colab.kernel.invokeFunction(\n",
              "            'suggestCharts', [key], {});\n",
              "      } catch (error) {\n",
              "        console.error('Error during call to suggestCharts:', error);\n",
              "      }\n",
              "      quickchartButtonEl.classList.remove('colab-df-spinner');\n",
              "      quickchartButtonEl.classList.add('colab-df-quickchart-complete');\n",
              "    }\n",
              "    (() => {\n",
              "      let quickchartButtonEl =\n",
              "        document.querySelector('#df-bddc1d53-fa73-49e0-b852-9bd72a237cca button');\n",
              "      quickchartButtonEl.style.display =\n",
              "        google.colab.kernel.accessAllowed ? 'block' : 'none';\n",
              "    })();\n",
              "  </script>\n",
              "</div>\n",
              "    </div>\n",
              "  </div>\n"
            ],
            "application/vnd.google.colaboratory.intrinsic+json": {
              "type": "dataframe",
              "variable_name": "df"
            }
          },
          "metadata": {},
          "execution_count": 321
        }
      ],
      "source": [
        "df"
      ]
    },
    {
      "cell_type": "code",
      "execution_count": null,
      "metadata": {
        "id": "B_11_kQmxRb0"
      },
      "outputs": [],
      "source": [
        "#columna Place_16 se elimina, contenido total NaN\n",
        "#se ejecuta 1 sola vez bien\n",
        "df.drop(columns ='place_l6', inplace=True)"
      ]
    },
    {
      "cell_type": "code",
      "execution_count": null,
      "metadata": {
        "colab": {
          "base_uri": "https://localhost:8080/"
        },
        "id": "KRDC23IZKCQW",
        "outputId": "85f8cd06-7f3f-4200-b965-e39231a47fb7"
      },
      "outputs": [
        {
          "output_type": "execute_result",
          "data": {
            "text/plain": [
              "(460154, 19)"
            ]
          },
          "metadata": {},
          "execution_count": 323
        }
      ],
      "source": [
        "df.shape"
      ]
    },
    {
      "cell_type": "code",
      "execution_count": null,
      "metadata": {
        "colab": {
          "base_uri": "https://localhost:8080/"
        },
        "id": "8q95PZwA5axr",
        "outputId": "fe33a803-79be-424c-a149-206c32593d72"
      },
      "outputs": [
        {
          "output_type": "stream",
          "name": "stdout",
          "text": [
            "<class 'pandas.core.frame.DataFrame'>\n",
            "RangeIndex: 460154 entries, 0 to 460153\n",
            "Data columns (total 19 columns):\n",
            " #   Column                    Non-Null Count   Dtype         \n",
            "---  ------                    --------------   -----         \n",
            " 0   id                        460154 non-null  object        \n",
            " 1   start_date                460154 non-null  datetime64[ns]\n",
            " 2   end_date                  432807 non-null  datetime64[ns]\n",
            " 3   created_on                460154 non-null  datetime64[ns]\n",
            " 4   latitud                   419740 non-null  float64       \n",
            " 5   longitud                  419740 non-null  float64       \n",
            " 6   place_l2                  460154 non-null  object        \n",
            " 7   place_l3                  437665 non-null  object        \n",
            " 8   place_l4                  139020 non-null  object        \n",
            " 9   place_l5                  2430 non-null    object        \n",
            " 10  operation                 460154 non-null  object        \n",
            " 11  property_type             460154 non-null  object        \n",
            " 12  property_rooms            368498 non-null  float64       \n",
            " 13  property_bedrooms         344113 non-null  float64       \n",
            " 14  property_surface_total    397813 non-null  float64       \n",
            " 15  property_surface_covered  427916 non-null  float64       \n",
            " 16  property_price            442153 non-null  float64       \n",
            " 17  property_currency         441590 non-null  object        \n",
            " 18  property_title            460154 non-null  object        \n",
            "dtypes: datetime64[ns](3), float64(7), object(9)\n",
            "memory usage: 66.7+ MB\n"
          ]
        }
      ],
      "source": [
        "#convertir las columnas a sus tipo de datos\n",
        "#convertir las fechas\n",
        "df['start_date'] = pd.to_datetime(df['start_date'], errors = 'coerce')\n",
        "df['end_date'] = pd.to_datetime(df['end_date'], errors = 'coerce')\n",
        "df['created_on'] = pd.to_datetime(df['created_on'], errors = 'coerce')\n",
        "df.info()"
      ]
    },
    {
      "cell_type": "code",
      "execution_count": null,
      "metadata": {
        "colab": {
          "base_uri": "https://localhost:8080/"
        },
        "id": "WAgQ0qjKP5KI",
        "outputId": "580a1cdf-24c9-45c8-c4fe-abc15cad208e"
      },
      "outputs": [
        {
          "output_type": "execute_result",
          "data": {
            "text/plain": [
              "0"
            ]
          },
          "metadata": {},
          "execution_count": 325
        }
      ],
      "source": [
        "#si la columna   'operation'(Venta,Alquiler,Alquiler temporal)   tiene NaN\n",
        "df.operation.isnull().sum()"
      ]
    },
    {
      "cell_type": "code",
      "execution_count": null,
      "metadata": {
        "colab": {
          "base_uri": "https://localhost:8080/"
        },
        "id": "NmXxGRLKJl6x",
        "outputId": "0e5e7958-fc20-4371-dfc7-f980142c4a10"
      },
      "outputs": [
        {
          "output_type": "execute_result",
          "data": {
            "text/plain": [
              "operation\n",
              "Venta                337874\n",
              "Alquiler              98900\n",
              "Alquiler temporal     23380\n",
              "Name: count, dtype: int64"
            ]
          },
          "metadata": {},
          "execution_count": 326
        }
      ],
      "source": [
        "#tiene 3 categorias\n",
        "'''\n",
        "operation\n",
        "Venta                337874\n",
        "Alquiler              98900\n",
        "Alquiler temporal     23380\n",
        "Name: count, dtype: int64 '''\n",
        "\n",
        "df.operation.value_counts()"
      ]
    },
    {
      "cell_type": "code",
      "execution_count": null,
      "metadata": {
        "colab": {
          "base_uri": "https://localhost:8080/"
        },
        "id": "raLqjS-hJ7df",
        "outputId": "6da1e436-3394-4f75-8326-45075b4b0dfd"
      },
      "outputs": [
        {
          "output_type": "stream",
          "name": "stdout",
          "text": [
            "<class 'pandas.core.frame.DataFrame'>\n",
            "RangeIndex: 460154 entries, 0 to 460153\n",
            "Data columns (total 19 columns):\n",
            " #   Column                    Non-Null Count   Dtype         \n",
            "---  ------                    --------------   -----         \n",
            " 0   id                        460154 non-null  object        \n",
            " 1   start_date                460154 non-null  datetime64[ns]\n",
            " 2   end_date                  432807 non-null  datetime64[ns]\n",
            " 3   created_on                460154 non-null  datetime64[ns]\n",
            " 4   latitud                   419740 non-null  float64       \n",
            " 5   longitud                  419740 non-null  float64       \n",
            " 6   place_l2                  460154 non-null  object        \n",
            " 7   place_l3                  437665 non-null  object        \n",
            " 8   place_l4                  139020 non-null  object        \n",
            " 9   place_l5                  2430 non-null    object        \n",
            " 10  operation                 460154 non-null  category      \n",
            " 11  property_type             460154 non-null  object        \n",
            " 12  property_rooms            368498 non-null  float64       \n",
            " 13  property_bedrooms         344113 non-null  float64       \n",
            " 14  property_surface_total    397813 non-null  float64       \n",
            " 15  property_surface_covered  427916 non-null  float64       \n",
            " 16  property_price            442153 non-null  float64       \n",
            " 17  property_currency         441590 non-null  object        \n",
            " 18  property_title            460154 non-null  object        \n",
            "dtypes: category(1), datetime64[ns](3), float64(7), object(8)\n",
            "memory usage: 63.6+ MB\n"
          ]
        }
      ],
      "source": [
        "#operation lo paso a Dtype Category\n",
        "df.operation = pd.Categorical(df.operation)\n",
        "df.info()"
      ]
    },
    {
      "cell_type": "code",
      "execution_count": null,
      "metadata": {
        "colab": {
          "base_uri": "https://localhost:8080/"
        },
        "id": "bRR73Y3F7TOw",
        "outputId": "606ce68a-7889-4adb-fb4d-100fbc601549"
      },
      "outputs": [
        {
          "output_type": "execute_result",
          "data": {
            "text/plain": [
              "0"
            ]
          },
          "metadata": {},
          "execution_count": 328
        }
      ],
      "source": [
        "#si la columna   'property_type'(tipo: casa,ph,dep,,,)   tiene NaN\n",
        "df.property_type.isnull().sum()"
      ]
    },
    {
      "cell_type": "code",
      "execution_count": null,
      "metadata": {
        "colab": {
          "base_uri": "https://localhost:8080/"
        },
        "id": "BDgrlHZn7fEC",
        "outputId": "4df4f4d5-6a80-4c95-81f9-81c9ae10c0c5"
      },
      "outputs": [
        {
          "output_type": "execute_result",
          "data": {
            "text/plain": [
              "property_type\n",
              "Departamento       231358\n",
              "Casa               120768\n",
              "Lote                28748\n",
              "PH                  25910\n",
              "Local comercial     20546\n",
              "Oficina             16085\n",
              "Otro                 7713\n",
              "Cochera              4111\n",
              "Depósito             4050\n",
              "Casa de campo         865\n",
              "Name: count, dtype: int64"
            ]
          },
          "metadata": {},
          "execution_count": 329
        }
      ],
      "source": [
        "df.property_type.value_counts()"
      ]
    },
    {
      "cell_type": "code",
      "execution_count": null,
      "metadata": {
        "colab": {
          "base_uri": "https://localhost:8080/"
        },
        "id": "rIcaxycJ7kAQ",
        "outputId": "5cb37cf6-9060-402a-ac80-974f1ced337d"
      },
      "outputs": [
        {
          "output_type": "stream",
          "name": "stdout",
          "text": [
            "<class 'pandas.core.frame.DataFrame'>\n",
            "RangeIndex: 460154 entries, 0 to 460153\n",
            "Data columns (total 19 columns):\n",
            " #   Column                    Non-Null Count   Dtype         \n",
            "---  ------                    --------------   -----         \n",
            " 0   id                        460154 non-null  object        \n",
            " 1   start_date                460154 non-null  datetime64[ns]\n",
            " 2   end_date                  432807 non-null  datetime64[ns]\n",
            " 3   created_on                460154 non-null  datetime64[ns]\n",
            " 4   latitud                   419740 non-null  float64       \n",
            " 5   longitud                  419740 non-null  float64       \n",
            " 6   place_l2                  460154 non-null  object        \n",
            " 7   place_l3                  437665 non-null  object        \n",
            " 8   place_l4                  139020 non-null  object        \n",
            " 9   place_l5                  2430 non-null    object        \n",
            " 10  operation                 460154 non-null  category      \n",
            " 11  property_type             460154 non-null  category      \n",
            " 12  property_rooms            368498 non-null  float64       \n",
            " 13  property_bedrooms         344113 non-null  float64       \n",
            " 14  property_surface_total    397813 non-null  float64       \n",
            " 15  property_surface_covered  427916 non-null  float64       \n",
            " 16  property_price            442153 non-null  float64       \n",
            " 17  property_currency         441590 non-null  object        \n",
            " 18  property_title            460154 non-null  object        \n",
            "dtypes: category(2), datetime64[ns](3), float64(7), object(7)\n",
            "memory usage: 60.6+ MB\n"
          ]
        }
      ],
      "source": [
        "#property_type lo paso a Dtype Category\n",
        "df.property_type = pd.Categorical(df.property_type)\n",
        "df.info()"
      ]
    },
    {
      "cell_type": "code",
      "execution_count": null,
      "metadata": {
        "colab": {
          "base_uri": "https://localhost:8080/"
        },
        "id": "QNBtCMON7xsF",
        "outputId": "32d018ec-9c5d-401a-bc83-f475260439d8"
      },
      "outputs": [
        {
          "output_type": "execute_result",
          "data": {
            "text/plain": [
              "18564"
            ]
          },
          "metadata": {},
          "execution_count": 331
        }
      ],
      "source": [
        "#si la columna   'property_currency'(moneda)   tiene NaN\n",
        "df.property_currency.isnull().sum()"
      ]
    },
    {
      "cell_type": "code",
      "execution_count": null,
      "metadata": {
        "colab": {
          "base_uri": "https://localhost:8080/",
          "height": 35
        },
        "id": "qaswKVRL-LXS",
        "outputId": "ebb6f2b9-c6ea-4813-a1b0-f8c594f6f970"
      },
      "outputs": [
        {
          "output_type": "execute_result",
          "data": {
            "text/plain": [
              "'ejecutar antes de categorizar, parapoder cambiar los NaN'"
            ],
            "application/vnd.google.colaboratory.intrinsic+json": {
              "type": "string"
            }
          },
          "metadata": {},
          "execution_count": 332
        }
      ],
      "source": [
        "#A los NaN los coloco en la categoria SinDefinir\n",
        "df['property_currency'].fillna('SinDefinir', inplace=True)\n",
        "'''ejecutar antes de categorizar, parapoder cambiar los NaN'''"
      ]
    },
    {
      "cell_type": "code",
      "execution_count": null,
      "metadata": {
        "colab": {
          "base_uri": "https://localhost:8080/"
        },
        "id": "pXhM0qrF77FK",
        "outputId": "5a914cfc-e188-45f4-86cf-ecb0aea96514"
      },
      "outputs": [
        {
          "output_type": "execute_result",
          "data": {
            "text/plain": [
              "property_currency\n",
              "USD           349104\n",
              "ARS            88869\n",
              "SinDefinir     18564\n",
              "UYU             3506\n",
              "PEN               99\n",
              "COP               12\n",
              "Name: count, dtype: int64"
            ]
          },
          "metadata": {},
          "execution_count": 333
        }
      ],
      "source": [
        "#la suma de categorias= 441590 + los NaN=18564  = 460154 registros, q son el total de inicio\n",
        "df.property_currency.value_counts()"
      ]
    },
    {
      "cell_type": "code",
      "execution_count": null,
      "metadata": {
        "colab": {
          "base_uri": "https://localhost:8080/"
        },
        "id": "u1rKGN0i7xI2",
        "outputId": "6c95f898-031e-4eec-cd97-7faa0bccdc96"
      },
      "outputs": [
        {
          "output_type": "stream",
          "name": "stdout",
          "text": [
            "<class 'pandas.core.frame.DataFrame'>\n",
            "RangeIndex: 460154 entries, 0 to 460153\n",
            "Data columns (total 19 columns):\n",
            " #   Column                    Non-Null Count   Dtype         \n",
            "---  ------                    --------------   -----         \n",
            " 0   id                        460154 non-null  object        \n",
            " 1   start_date                460154 non-null  datetime64[ns]\n",
            " 2   end_date                  432807 non-null  datetime64[ns]\n",
            " 3   created_on                460154 non-null  datetime64[ns]\n",
            " 4   latitud                   419740 non-null  float64       \n",
            " 5   longitud                  419740 non-null  float64       \n",
            " 6   place_l2                  460154 non-null  object        \n",
            " 7   place_l3                  437665 non-null  object        \n",
            " 8   place_l4                  139020 non-null  object        \n",
            " 9   place_l5                  2430 non-null    object        \n",
            " 10  operation                 460154 non-null  category      \n",
            " 11  property_type             460154 non-null  category      \n",
            " 12  property_rooms            368498 non-null  float64       \n",
            " 13  property_bedrooms         344113 non-null  float64       \n",
            " 14  property_surface_total    397813 non-null  float64       \n",
            " 15  property_surface_covered  427916 non-null  float64       \n",
            " 16  property_price            442153 non-null  float64       \n",
            " 17  property_currency         460154 non-null  category      \n",
            " 18  property_title            460154 non-null  object        \n",
            "dtypes: category(3), datetime64[ns](3), float64(7), object(6)\n",
            "memory usage: 57.5+ MB\n"
          ]
        }
      ],
      "source": [
        "#property_type lo paso a Dtype Category\n",
        "df.property_currency = pd.Categorical(df.property_currency)\n",
        "df.info()"
      ]
    },
    {
      "cell_type": "code",
      "execution_count": null,
      "metadata": {
        "colab": {
          "base_uri": "https://localhost:8080/"
        },
        "id": "s5_6ibdtQpe4",
        "outputId": "08248e1d-c78e-4135-9a9e-4da6d81433aa"
      },
      "outputs": [
        {
          "output_type": "execute_result",
          "data": {
            "text/plain": [
              "0"
            ]
          },
          "metadata": {},
          "execution_count": 335
        }
      ],
      "source": [
        "#si la columna   'place_l2' (Provincia)   tiene NaN ?\n",
        "df.place_l2.isnull().sum()"
      ]
    },
    {
      "cell_type": "code",
      "execution_count": null,
      "metadata": {
        "colab": {
          "base_uri": "https://localhost:8080/"
        },
        "id": "7_VU5nYKQpVp",
        "outputId": "5b6cfe27-e6b8-4de6-ad0b-f2e37ae08279"
      },
      "outputs": [
        {
          "output_type": "execute_result",
          "data": {
            "text/plain": [
              "place_l2\n",
              "Capital Federal                 157563\n",
              "Bs.As. G.B.A. Zona Norte         89693\n",
              "Santa Fe                         47861\n",
              "Bs.As. G.B.A. Zona Sur           47754\n",
              "Bs.As. G.B.A. Zona Oeste         28352\n",
              "Córdoba                          22528\n",
              "Buenos Aires Costa Atlántica     12457\n",
              "Neuquén                           8788\n",
              "Montevideo                        7494\n",
              "Buenos Aires Interior             6274\n",
              "Maldonado                         5540\n",
              "Mendoza                           5395\n",
              "Río Negro                         5280\n",
              "Tucumán                           3571\n",
              "Colonia                           2535\n",
              "Salta                             1537\n",
              "Entre Ríos                        1216\n",
              "San Juan                           997\n",
              "La Pampa                           783\n",
              "Canelones                          744\n",
              "Chubut                             701\n",
              "San Luis                           677\n",
              "Misiones                           529\n",
              "Florida                            411\n",
              "Jujuy                              406\n",
              "Corrientes                         297\n",
              "Michigan                           251\n",
              "Chaco                              208\n",
              "Rocha                               85\n",
              "Tierra Del Fuego                    75\n",
              "Santiago Del Estero                 59\n",
              "Santa Catarina                      35\n",
              "Santa Cruz                          16\n",
              "Rio Grande do Norte                  9\n",
              "Maryland                             8\n",
              "Catamarca                            7\n",
              "Miami                                4\n",
              "La Rioja                             4\n",
              "Rio de Janeiro                       3\n",
              "Pennsylvania                         3\n",
              "Formosa                              2\n",
              "São Paulo                            1\n",
              "California                           1\n",
              "Name: count, dtype: int64"
            ]
          },
          "metadata": {},
          "execution_count": 336
        }
      ],
      "source": [
        "df.place_l2.value_counts()"
      ]
    },
    {
      "cell_type": "code",
      "execution_count": null,
      "metadata": {
        "colab": {
          "base_uri": "https://localhost:8080/"
        },
        "id": "tsSnEVwwQpMi",
        "outputId": "d493c4d2-e354-4bbc-b040-5d7901778644"
      },
      "outputs": [
        {
          "output_type": "stream",
          "name": "stdout",
          "text": [
            "<class 'pandas.core.frame.DataFrame'>\n",
            "RangeIndex: 460154 entries, 0 to 460153\n",
            "Data columns (total 19 columns):\n",
            " #   Column                    Non-Null Count   Dtype         \n",
            "---  ------                    --------------   -----         \n",
            " 0   id                        460154 non-null  object        \n",
            " 1   start_date                460154 non-null  datetime64[ns]\n",
            " 2   end_date                  432807 non-null  datetime64[ns]\n",
            " 3   created_on                460154 non-null  datetime64[ns]\n",
            " 4   latitud                   419740 non-null  float64       \n",
            " 5   longitud                  419740 non-null  float64       \n",
            " 6   place_l2                  460154 non-null  category      \n",
            " 7   place_l3                  437665 non-null  object        \n",
            " 8   place_l4                  139020 non-null  object        \n",
            " 9   place_l5                  2430 non-null    object        \n",
            " 10  operation                 460154 non-null  category      \n",
            " 11  property_type             460154 non-null  category      \n",
            " 12  property_rooms            368498 non-null  float64       \n",
            " 13  property_bedrooms         344113 non-null  float64       \n",
            " 14  property_surface_total    397813 non-null  float64       \n",
            " 15  property_surface_covered  427916 non-null  float64       \n",
            " 16  property_price            442153 non-null  float64       \n",
            " 17  property_currency         460154 non-null  category      \n",
            " 18  property_title            460154 non-null  object        \n",
            "dtypes: category(4), datetime64[ns](3), float64(7), object(5)\n",
            "memory usage: 54.4+ MB\n"
          ]
        }
      ],
      "source": [
        "#place_l2 lo paso a Dtype Category\n",
        "df.place_l2 = pd.Categorical(df.place_l2)\n",
        "df.info()"
      ]
    },
    {
      "cell_type": "code",
      "execution_count": null,
      "metadata": {
        "id": "MpTfnm6KW_th"
      },
      "outputs": [],
      "source": [
        "df_filter = df"
      ]
    },
    {
      "cell_type": "markdown",
      "metadata": {
        "id": "rv3K38SJW2vy"
      },
      "source": [
        "Ya tengo categorizado y ordenado las columnas, para generar df_filter por:\n",
        "\n",
        "*   ventas\n",
        "*   Moneda USD\n",
        "*   Casa, PH, Departamento\n",
        "*   Ubicados en CABA\n",
        "*   Analizar registros descartados, los semejantes al DF: df_filter\n",
        "\n",
        "\n",
        "\n"
      ]
    },
    {
      "cell_type": "code",
      "execution_count": null,
      "metadata": {
        "id": "ujybEDzYShv4"
      },
      "outputs": [],
      "source": [
        "#observo para filtrar primero por la columna que tenia 0 NaN y que tenga mas categorias\n",
        "# 1ro filtro por 'property_type'    [10 categorias]\n",
        "# 2do por 'operation'               [3 categoria]\n",
        "# 3ro por 'property_currency' y analiso que precios SinDefinir son validos(USD)  [5 categorias + 1 agregada]\n",
        "# 4to Ubicados en CABA"
      ]
    },
    {
      "cell_type": "code",
      "execution_count": null,
      "metadata": {
        "colab": {
          "base_uri": "https://localhost:8080/"
        },
        "id": "mGFnynbaGS4z",
        "outputId": "2bd8c14f-66bf-44f7-af96-d7f727dc9ec1"
      },
      "outputs": [
        {
          "output_type": "execute_result",
          "data": {
            "text/plain": [
              "property_type\n",
              "Departamento       231358\n",
              "Casa               120768\n",
              "Lote                28748\n",
              "PH                  25910\n",
              "Local comercial     20546\n",
              "Oficina             16085\n",
              "Otro                 7713\n",
              "Cochera              4111\n",
              "Depósito             4050\n",
              "Casa de campo         865\n",
              "Name: count, dtype: int64"
            ]
          },
          "metadata": {},
          "execution_count": 340
        }
      ],
      "source": [
        "df_filter.property_type.value_counts()"
      ]
    },
    {
      "cell_type": "code",
      "execution_count": null,
      "metadata": {
        "colab": {
          "base_uri": "https://localhost:8080/"
        },
        "id": "AK1QI9KbGdAX",
        "outputId": "67f96b56-9c82-4396-ce77-0c88de3b9ddc"
      },
      "outputs": [
        {
          "output_type": "execute_result",
          "data": {
            "text/plain": [
              "operation\n",
              "Venta                337874\n",
              "Alquiler              98900\n",
              "Alquiler temporal     23380\n",
              "Name: count, dtype: int64"
            ]
          },
          "metadata": {},
          "execution_count": 341
        }
      ],
      "source": [
        "df_filter.operation.value_counts()"
      ]
    },
    {
      "cell_type": "code",
      "execution_count": null,
      "metadata": {
        "colab": {
          "base_uri": "https://localhost:8080/"
        },
        "id": "ceAYN0PrGiv6",
        "outputId": "94358050-813c-45e7-ebd6-edca7023fc67"
      },
      "outputs": [
        {
          "output_type": "execute_result",
          "data": {
            "text/plain": [
              "property_currency\n",
              "USD           349104\n",
              "ARS            88869\n",
              "SinDefinir     18564\n",
              "UYU             3506\n",
              "PEN               99\n",
              "COP               12\n",
              "Name: count, dtype: int64"
            ]
          },
          "metadata": {},
          "execution_count": 342
        }
      ],
      "source": [
        "df_filter.property_currency.value_counts()"
      ]
    },
    {
      "cell_type": "code",
      "execution_count": null,
      "metadata": {
        "colab": {
          "base_uri": "https://localhost:8080/"
        },
        "id": "JAzM5grCRZIe",
        "outputId": "4d4b2bbd-b66c-44f0-d886-e2fc5d5acdfd"
      },
      "outputs": [
        {
          "output_type": "execute_result",
          "data": {
            "text/plain": [
              "place_l2\n",
              "Capital Federal                 157563\n",
              "Bs.As. G.B.A. Zona Norte         89693\n",
              "Santa Fe                         47861\n",
              "Bs.As. G.B.A. Zona Sur           47754\n",
              "Bs.As. G.B.A. Zona Oeste         28352\n",
              "Córdoba                          22528\n",
              "Buenos Aires Costa Atlántica     12457\n",
              "Neuquén                           8788\n",
              "Montevideo                        7494\n",
              "Buenos Aires Interior             6274\n",
              "Maldonado                         5540\n",
              "Mendoza                           5395\n",
              "Río Negro                         5280\n",
              "Tucumán                           3571\n",
              "Colonia                           2535\n",
              "Salta                             1537\n",
              "Entre Ríos                        1216\n",
              "San Juan                           997\n",
              "La Pampa                           783\n",
              "Canelones                          744\n",
              "Chubut                             701\n",
              "San Luis                           677\n",
              "Misiones                           529\n",
              "Florida                            411\n",
              "Jujuy                              406\n",
              "Corrientes                         297\n",
              "Michigan                           251\n",
              "Chaco                              208\n",
              "Rocha                               85\n",
              "Tierra Del Fuego                    75\n",
              "Santiago Del Estero                 59\n",
              "Santa Catarina                      35\n",
              "Santa Cruz                          16\n",
              "Rio Grande do Norte                  9\n",
              "Maryland                             8\n",
              "Catamarca                            7\n",
              "Miami                                4\n",
              "La Rioja                             4\n",
              "Rio de Janeiro                       3\n",
              "Pennsylvania                         3\n",
              "Formosa                              2\n",
              "California                           1\n",
              "São Paulo                            1\n",
              "Name: count, dtype: int64"
            ]
          },
          "metadata": {},
          "execution_count": 343
        }
      ],
      "source": [
        "df_filter.place_l2.value_counts()"
      ]
    },
    {
      "cell_type": "code",
      "execution_count": null,
      "metadata": {
        "colab": {
          "base_uri": "https://localhost:8080/"
        },
        "id": "O5KRWZRRGLMa",
        "outputId": "310bdf97-7b23-4974-fc17-1a4b760b3f27"
      },
      "outputs": [
        {
          "output_type": "execute_result",
          "data": {
            "text/plain": [
              "0          True\n",
              "1          True\n",
              "2          True\n",
              "3          True\n",
              "4          True\n",
              "          ...  \n",
              "460149    False\n",
              "460150    False\n",
              "460151    False\n",
              "460152    False\n",
              "460153    False\n",
              "Name: property_type, Length: 460154, dtype: bool"
            ]
          },
          "metadata": {},
          "execution_count": 344
        }
      ],
      "source": [
        "#filtro 1, obtengo registros Departamentos, Casa, PH\n",
        "df_filter_property_type = df_filter['property_type'].isin(['Departamento','Casa','PH'])\n",
        "df_filter_property_type"
      ]
    },
    {
      "cell_type": "code",
      "execution_count": null,
      "metadata": {
        "colab": {
          "base_uri": "https://localhost:8080/"
        },
        "id": "-fzBN5f-GK_R",
        "outputId": "2ad91f25-34a7-4f26-f747-0349599a5bdd"
      },
      "outputs": [
        {
          "output_type": "execute_result",
          "data": {
            "text/plain": [
              "(378036, 19)"
            ]
          },
          "metadata": {},
          "execution_count": 345
        }
      ],
      "source": [
        "df_filter = df_filter[df_filter_property_type]\n",
        "df_filter.shape"
      ]
    },
    {
      "cell_type": "code",
      "execution_count": null,
      "metadata": {
        "colab": {
          "base_uri": "https://localhost:8080/"
        },
        "id": "9y5NWPHUMuMM",
        "outputId": "0d1d2d09-8a4b-4032-8c8b-5f0f64e8ea58"
      },
      "outputs": [
        {
          "output_type": "execute_result",
          "data": {
            "text/plain": [
              "0         True\n",
              "1         True\n",
              "2         True\n",
              "3         True\n",
              "4         True\n",
              "          ... \n",
              "460092    True\n",
              "460093    True\n",
              "460094    True\n",
              "460095    True\n",
              "460096    True\n",
              "Name: operation, Length: 378036, dtype: bool"
            ]
          },
          "metadata": {},
          "execution_count": 346
        }
      ],
      "source": [
        "#filtro 2, obtengo registros Venta\n",
        "df_filter_operation = df_filter['operation']=='Venta'\n",
        "df_filter_operation"
      ]
    },
    {
      "cell_type": "code",
      "execution_count": null,
      "metadata": {
        "colab": {
          "base_uri": "https://localhost:8080/"
        },
        "id": "uLy69U30PRY3",
        "outputId": "4730400f-d82b-4e06-aa73-4960a17a9965"
      },
      "outputs": [
        {
          "output_type": "execute_result",
          "data": {
            "text/plain": [
              "(281399, 19)"
            ]
          },
          "metadata": {},
          "execution_count": 347
        }
      ],
      "source": [
        "df_filter = df_filter[df_filter_operation]\n",
        "df_filter.shape"
      ]
    },
    {
      "cell_type": "code",
      "source": [
        "# eliminamos la columna operation, por que filtramos y son todas operaciones de VENTAS\n",
        "df_filter.drop(columns ='operation', inplace=True)"
      ],
      "metadata": {
        "colab": {
          "base_uri": "https://localhost:8080/"
        },
        "id": "zYbgpdcr_OW6",
        "outputId": "ffed9582-96b5-4ce5-fc35-bb4a1ac15dea"
      },
      "execution_count": null,
      "outputs": [
        {
          "output_type": "stream",
          "name": "stderr",
          "text": [
            "<ipython-input-348-85a88ea003af>:2: SettingWithCopyWarning: \n",
            "A value is trying to be set on a copy of a slice from a DataFrame\n",
            "\n",
            "See the caveats in the documentation: https://pandas.pydata.org/pandas-docs/stable/user_guide/indexing.html#returning-a-view-versus-a-copy\n",
            "  df_filter.drop(columns ='operation', inplace=True)\n"
          ]
        }
      ]
    },
    {
      "cell_type": "code",
      "execution_count": null,
      "metadata": {
        "colab": {
          "base_uri": "https://localhost:8080/"
        },
        "id": "hUxtIddiSb8l",
        "outputId": "25367bc7-6edd-455b-b643-551f6b096def"
      },
      "outputs": [
        {
          "output_type": "execute_result",
          "data": {
            "text/plain": [
              "0"
            ]
          },
          "metadata": {},
          "execution_count": 349
        }
      ],
      "source": [
        "df_filter.property_currency.isnull().sum()"
      ]
    },
    {
      "cell_type": "code",
      "execution_count": null,
      "metadata": {
        "colab": {
          "base_uri": "https://localhost:8080/"
        },
        "id": "9uzTJ7-pStVb",
        "outputId": "1f7d6905-e54b-43ac-8fb8-ebdda65dfc72"
      },
      "outputs": [
        {
          "output_type": "execute_result",
          "data": {
            "text/plain": [
              "property_currency\n",
              "USD           267483\n",
              "SinDefinir     10476\n",
              "ARS             3368\n",
              "PEN               52\n",
              "COP               10\n",
              "UYU               10\n",
              "Name: count, dtype: int64"
            ]
          },
          "metadata": {},
          "execution_count": 350
        }
      ],
      "source": [
        "\n",
        "df_filter.property_currency.value_counts()"
      ]
    },
    {
      "cell_type": "code",
      "execution_count": null,
      "metadata": {
        "colab": {
          "base_uri": "https://localhost:8080/"
        },
        "id": "2Edo-kHiPX68",
        "outputId": "09996104-b6ee-499b-e7ee-ea2a3a635018"
      },
      "outputs": [
        {
          "output_type": "execute_result",
          "data": {
            "text/plain": [
              "0          True\n",
              "1          True\n",
              "2          True\n",
              "3          True\n",
              "4          True\n",
              "          ...  \n",
              "460092    False\n",
              "460093     True\n",
              "460094    False\n",
              "460095     True\n",
              "460096     True\n",
              "Name: property_currency, Length: 281399, dtype: bool"
            ]
          },
          "metadata": {},
          "execution_count": 351
        }
      ],
      "source": [
        "#filtro 3, obtengo registros USD , no me quedo registros en SinDefinir.\n",
        "df_filter_property_currency = df_filter['property_currency'].isin(['USD','SinDefinir'])\n",
        "df_filter_property_currency"
      ]
    },
    {
      "cell_type": "code",
      "execution_count": null,
      "metadata": {
        "colab": {
          "base_uri": "https://localhost:8080/"
        },
        "id": "2ci3xy4CPrs5",
        "outputId": "e6a16f11-948d-4208-fb64-9bec88871371"
      },
      "outputs": [
        {
          "output_type": "execute_result",
          "data": {
            "text/plain": [
              "(277959, 18)"
            ]
          },
          "metadata": {},
          "execution_count": 352
        }
      ],
      "source": [
        "df_filter = df_filter[df_filter_property_currency]\n",
        "df_filter.shape"
      ]
    },
    {
      "cell_type": "code",
      "execution_count": null,
      "metadata": {
        "colab": {
          "base_uri": "https://localhost:8080/"
        },
        "id": "xuVLmTtMSHwP",
        "outputId": "c6d9fe1e-e629-4ed5-b19f-9e32d33f0813"
      },
      "outputs": [
        {
          "output_type": "stream",
          "name": "stdout",
          "text": [
            "<class 'pandas.core.frame.DataFrame'>\n",
            "Index: 277959 entries, 0 to 460096\n",
            "Data columns (total 18 columns):\n",
            " #   Column                    Non-Null Count   Dtype         \n",
            "---  ------                    --------------   -----         \n",
            " 0   id                        277959 non-null  object        \n",
            " 1   start_date                277959 non-null  datetime64[ns]\n",
            " 2   end_date                  256941 non-null  datetime64[ns]\n",
            " 3   created_on                277959 non-null  datetime64[ns]\n",
            " 4   latitud                   254166 non-null  float64       \n",
            " 5   longitud                  254166 non-null  float64       \n",
            " 6   place_l2                  277959 non-null  category      \n",
            " 7   place_l3                  266868 non-null  object        \n",
            " 8   place_l4                  85967 non-null   object        \n",
            " 9   place_l5                  1363 non-null    object        \n",
            " 10  property_type             277959 non-null  category      \n",
            " 11  property_rooms            258691 non-null  float64       \n",
            " 12  property_bedrooms         249915 non-null  float64       \n",
            " 13  property_surface_total    243309 non-null  float64       \n",
            " 14  property_surface_covered  266349 non-null  float64       \n",
            " 15  property_price            267834 non-null  float64       \n",
            " 16  property_currency         277959 non-null  category      \n",
            " 17  property_title            277959 non-null  object        \n",
            "dtypes: category(3), datetime64[ns](3), float64(7), object(5)\n",
            "memory usage: 34.7+ MB\n"
          ]
        }
      ],
      "source": [
        "df_filter.info()"
      ]
    },
    {
      "cell_type": "code",
      "execution_count": null,
      "metadata": {
        "colab": {
          "base_uri": "https://localhost:8080/"
        },
        "id": "fBh7FOFSQBux",
        "outputId": "51433e73-b620-4bc8-cfff-a7b9b20ee065"
      },
      "outputs": [
        {
          "output_type": "execute_result",
          "data": {
            "text/plain": [
              "0         False\n",
              "1         False\n",
              "2         False\n",
              "3         False\n",
              "4         False\n",
              "          ...  \n",
              "460088    False\n",
              "460090     True\n",
              "460093    False\n",
              "460095    False\n",
              "460096    False\n",
              "Name: place_l2, Length: 277959, dtype: bool"
            ]
          },
          "metadata": {},
          "execution_count": 354
        }
      ],
      "source": [
        "#filtro 4, obtengo registros 'Capital Federal'\n",
        "df_filter_caba = df_filter['place_l2'] == 'Capital Federal'\n",
        "df_filter_caba"
      ]
    },
    {
      "cell_type": "code",
      "execution_count": null,
      "metadata": {
        "colab": {
          "base_uri": "https://localhost:8080/"
        },
        "id": "GVCkptaNT-j7",
        "outputId": "fded3753-d829-4c11-8f2f-27631470ddd6"
      },
      "outputs": [
        {
          "output_type": "execute_result",
          "data": {
            "text/plain": [
              "(95495, 18)"
            ]
          },
          "metadata": {},
          "execution_count": 355
        }
      ],
      "source": [
        "df_filter = df_filter[df_filter_caba]\n",
        "df_filter.shape"
      ]
    },
    {
      "cell_type": "code",
      "source": [
        "df_filter.place_l2.value_counts()"
      ],
      "metadata": {
        "colab": {
          "base_uri": "https://localhost:8080/"
        },
        "id": "PrYa3ABP6XY-",
        "outputId": "3e4ecf80-cf0d-43c1-b64c-c42db9bc963d"
      },
      "execution_count": null,
      "outputs": [
        {
          "output_type": "execute_result",
          "data": {
            "text/plain": [
              "place_l2\n",
              "Capital Federal                 95495\n",
              "Bs.As. G.B.A. Zona Norte            0\n",
              "Río Negro                           0\n",
              "Michigan                            0\n",
              "Misiones                            0\n",
              "Montevideo                          0\n",
              "Neuquén                             0\n",
              "Pennsylvania                        0\n",
              "Rio Grande do Norte                 0\n",
              "Rio de Janeiro                      0\n",
              "Rocha                               0\n",
              "Salta                               0\n",
              "Mendoza                             0\n",
              "San Juan                            0\n",
              "San Luis                            0\n",
              "Santa Catarina                      0\n",
              "Santa Cruz                          0\n",
              "Santa Fe                            0\n",
              "Santiago Del Estero                 0\n",
              "São Paulo                           0\n",
              "Tierra Del Fuego                    0\n",
              "Miami                               0\n",
              "Maryland                            0\n",
              "Bs.As. G.B.A. Zona Oeste            0\n",
              "Maldonado                           0\n",
              "Bs.As. G.B.A. Zona Sur              0\n",
              "Buenos Aires Costa Atlántica        0\n",
              "Buenos Aires Interior               0\n",
              "California                          0\n",
              "Canelones                           0\n",
              "Catamarca                           0\n",
              "Chaco                               0\n",
              "Chubut                              0\n",
              "Colonia                             0\n",
              "Corrientes                          0\n",
              "Córdoba                             0\n",
              "Entre Ríos                          0\n",
              "Florida                             0\n",
              "Formosa                             0\n",
              "Jujuy                               0\n",
              "La Pampa                            0\n",
              "La Rioja                            0\n",
              "Tucumán                             0\n",
              "Name: count, dtype: int64"
            ]
          },
          "metadata": {},
          "execution_count": 356
        }
      ]
    },
    {
      "cell_type": "code",
      "source": [
        "# Tengo 95495 registros\n",
        "df_filter.shape"
      ],
      "metadata": {
        "colab": {
          "base_uri": "https://localhost:8080/"
        },
        "id": "8I1kdT9e9Yw1",
        "outputId": "eb6377c5-95dc-4447-b672-11298db4be36"
      },
      "execution_count": null,
      "outputs": [
        {
          "output_type": "execute_result",
          "data": {
            "text/plain": [
              "(95495, 18)"
            ]
          },
          "metadata": {},
          "execution_count": 357
        }
      ]
    },
    {
      "cell_type": "code",
      "source": [
        "# Tengo 95495 registros , 435 NaN , 95060 con Contenido\n",
        "df_filter.place_l3.isnull().sum()"
      ],
      "metadata": {
        "colab": {
          "base_uri": "https://localhost:8080/"
        },
        "id": "nxRUWVz17TuQ",
        "outputId": "41dd4b2a-a0b5-49ff-e0e3-5a2f208b7acc"
      },
      "execution_count": null,
      "outputs": [
        {
          "output_type": "execute_result",
          "data": {
            "text/plain": [
              "435"
            ]
          },
          "metadata": {},
          "execution_count": 358
        }
      ]
    },
    {
      "cell_type": "code",
      "source": [
        "# Tengo 95495 registros , 91770 NaN , 3725 con Contenido\n",
        "df_filter.place_l4.isnull().sum()"
      ],
      "metadata": {
        "colab": {
          "base_uri": "https://localhost:8080/"
        },
        "id": "lnJ_29ej8Snl",
        "outputId": "4dbebf19-3b13-4467-bbd5-0d1fefd85670"
      },
      "execution_count": null,
      "outputs": [
        {
          "output_type": "execute_result",
          "data": {
            "text/plain": [
              "91770"
            ]
          },
          "metadata": {},
          "execution_count": 359
        }
      ]
    },
    {
      "cell_type": "code",
      "source": [
        "# Tengo 95495 registros , 95495 NaN , 0 con Contenido\n",
        "# Se puede eliminar\n",
        "df_filter.place_l5.isnull().sum()"
      ],
      "metadata": {
        "colab": {
          "base_uri": "https://localhost:8080/"
        },
        "id": "A4LYqjOv8W-G",
        "outputId": "9387ffe8-d7f7-423e-f6b9-5dffcf2d3792"
      },
      "execution_count": null,
      "outputs": [
        {
          "output_type": "execute_result",
          "data": {
            "text/plain": [
              "95495"
            ]
          },
          "metadata": {},
          "execution_count": 360
        }
      ]
    },
    {
      "cell_type": "code",
      "source": [
        "df_filter.place_l5.value_counts()"
      ],
      "metadata": {
        "colab": {
          "base_uri": "https://localhost:8080/"
        },
        "id": "H_ZFCtcn9I31",
        "outputId": "c07f1e1f-5522-4588-ebe0-6227553c7cb6"
      },
      "execution_count": null,
      "outputs": [
        {
          "output_type": "execute_result",
          "data": {
            "text/plain": [
              "Series([], Name: count, dtype: int64)"
            ]
          },
          "metadata": {},
          "execution_count": 361
        }
      ]
    },
    {
      "cell_type": "code",
      "source": [
        "# Se podría eliminar la columna 'place_l2' por que todos son Capital Federal.\n",
        "# Se podría eliminar la columna 'place_l5' los registros que quedaron son todos NaN\n",
        "#se ejecuta 1 sola vez bien\n",
        "df_filter.drop(columns ='place_l2', inplace=True)\n",
        "df_filter.drop(columns ='place_l5', inplace=True)"
      ],
      "metadata": {
        "id": "pCk__T3l6pzS"
      },
      "execution_count": null,
      "outputs": []
    },
    {
      "cell_type": "code",
      "source": [
        "df_filter.shape\n",
        "# registros 95495, columnas 16"
      ],
      "metadata": {
        "colab": {
          "base_uri": "https://localhost:8080/"
        },
        "id": "Oxmp1kA970hC",
        "outputId": "3219fe41-b2c3-4bce-ff84-dc8ffe57b08e"
      },
      "execution_count": null,
      "outputs": [
        {
          "output_type": "execute_result",
          "data": {
            "text/plain": [
              "(95495, 16)"
            ]
          },
          "metadata": {},
          "execution_count": 363
        }
      ]
    },
    {
      "cell_type": "code",
      "execution_count": null,
      "metadata": {
        "colab": {
          "base_uri": "https://localhost:8080/",
          "height": 843
        },
        "id": "HsyVUxBAPXvN",
        "outputId": "6ede4e6a-e523-4c68-c82a-5c6bf71fbab0"
      },
      "outputs": [
        {
          "output_type": "execute_result",
          "data": {
            "text/plain": [
              "                              id start_date   end_date created_on    latitud  \\\n",
              "25      CyZu6IaZgmQYGk8jmPajCg== 2021-09-09 2021-09-26 2021-09-09        NaN   \n",
              "42      d3Z0MblSb2IMBoOBMGJEEQ== 2021-09-09 2021-09-26 2021-09-09 -34.637319   \n",
              "43      rL7qPkQnomsMGu2ViS3sBw== 2021-09-09 2021-09-28 2021-09-09 -34.628647   \n",
              "44      IfZHM0GX583/RU9QQb8Orw== 2021-09-09 2022-03-09 2021-09-09 -34.599506   \n",
              "49      vuX/ccLAMVml4qWRFcOJUA== 2021-09-09 2022-01-05 2021-09-09 -34.610027   \n",
              "...                          ...        ...        ...        ...        ...   \n",
              "460072  v4f5Un9jO7hsD02MWLkKBQ== 2021-01-05 2022-09-02 2021-01-05 -34.603245   \n",
              "460073  Aq/Z+XyS8FHbOOxed4xtTw== 2021-01-05 2021-02-17 2021-01-05 -34.614063   \n",
              "460074  Rmamz8v4Wkh5xF7PA59Jqw== 2021-01-05 2021-01-27 2021-01-05 -34.614175   \n",
              "460075  7yl8Dfx5wobH21YdMU+Kgg== 2021-01-05 2021-01-27 2021-01-05 -34.614175   \n",
              "460090  9OVDfhoDvkY4rr/SX0ggVw== 2021-01-05 2021-01-08 2021-01-05 -34.599790   \n",
              "\n",
              "         longitud              place_l3 place_l4 property_type  \\\n",
              "25            NaN                   NaN      NaN          Casa   \n",
              "42     -58.361124                  Boca      NaN  Departamento   \n",
              "43     -58.361871                  Boca      NaN  Departamento   \n",
              "44     -58.404138                  Once      NaN  Departamento   \n",
              "49     -58.401934                  Once      NaN  Departamento   \n",
              "...           ...                   ...      ...           ...   \n",
              "460072 -58.489810      Villa del Parque      NaN  Departamento   \n",
              "460073 -58.482814      Villa del Parque      NaN  Departamento   \n",
              "460074 -58.479062      Villa del Parque      NaN  Departamento   \n",
              "460075 -58.479062      Villa del Parque      NaN  Departamento   \n",
              "460090 -58.373411  Centro / Microcentro      NaN  Departamento   \n",
              "\n",
              "        property_rooms  property_bedrooms  property_surface_total  \\\n",
              "25                 4.0                3.0                   171.0   \n",
              "42                 3.0                2.0                    58.0   \n",
              "43                 4.0                3.0                    70.0   \n",
              "44                 2.0                1.0                    43.0   \n",
              "49                 4.0                2.0                     NaN   \n",
              "...                ...                ...                     ...   \n",
              "460072             4.0                3.0                   130.0   \n",
              "460073             3.0                2.0                    68.0   \n",
              "460074             1.0                1.0                    51.0   \n",
              "460075             1.0                1.0                    37.0   \n",
              "460090             2.0                1.0                    84.0   \n",
              "\n",
              "        property_surface_covered  property_price property_currency  \\\n",
              "25                         133.0        210000.0               USD   \n",
              "42                          55.0         82900.0               USD   \n",
              "43                          70.0         99000.0               USD   \n",
              "44                          43.0             NaN        SinDefinir   \n",
              "49                         104.0        146000.0               USD   \n",
              "...                          ...             ...               ...   \n",
              "460072                     100.0        220000.0               USD   \n",
              "460073                      60.0        161000.0               USD   \n",
              "460074                      30.0         75500.0               USD   \n",
              "460075                      31.0         74500.0               USD   \n",
              "460090                      84.0        135000.0               USD   \n",
              "\n",
              "                                           property_title  \n",
              "25            VENTA CASA LLAVE EN MANO - COSTA ESMERALDA   \n",
              "42                 VENTA TRES AMBIENTES LA BOCA PISO ALTO  \n",
              "43             Departamento - 4 Ambientes - Catalinas Sur  \n",
              "44                                    Av Puyrredon al 924  \n",
              "49                    Venta departamento 4 ambientes Once  \n",
              "...                                                   ...  \n",
              "460072      Espectacular 4 amb130m2 con Balcon Terraza!!!  \n",
              "460073        3 ambientes con cochera listo para habitar!  \n",
              "460074  VENTA MONOAMBIENTE CON PATIO SOL DE MAÑANA ///...  \n",
              "460075  VENTA MONOAMBIENTE APAISADO y DIVISIBLE AL CF ...  \n",
              "460090               VENTA DEPTO 2 1/2 AMBIENTES - CENTRO  \n",
              "\n",
              "[95495 rows x 16 columns]"
            ],
            "text/html": [
              "\n",
              "  <div id=\"df-fa32e967-4580-42de-8e0c-0c1d1a040146\" class=\"colab-df-container\">\n",
              "    <div>\n",
              "<style scoped>\n",
              "    .dataframe tbody tr th:only-of-type {\n",
              "        vertical-align: middle;\n",
              "    }\n",
              "\n",
              "    .dataframe tbody tr th {\n",
              "        vertical-align: top;\n",
              "    }\n",
              "\n",
              "    .dataframe thead th {\n",
              "        text-align: right;\n",
              "    }\n",
              "</style>\n",
              "<table border=\"1\" class=\"dataframe\">\n",
              "  <thead>\n",
              "    <tr style=\"text-align: right;\">\n",
              "      <th></th>\n",
              "      <th>id</th>\n",
              "      <th>start_date</th>\n",
              "      <th>end_date</th>\n",
              "      <th>created_on</th>\n",
              "      <th>latitud</th>\n",
              "      <th>longitud</th>\n",
              "      <th>place_l3</th>\n",
              "      <th>place_l4</th>\n",
              "      <th>property_type</th>\n",
              "      <th>property_rooms</th>\n",
              "      <th>property_bedrooms</th>\n",
              "      <th>property_surface_total</th>\n",
              "      <th>property_surface_covered</th>\n",
              "      <th>property_price</th>\n",
              "      <th>property_currency</th>\n",
              "      <th>property_title</th>\n",
              "    </tr>\n",
              "  </thead>\n",
              "  <tbody>\n",
              "    <tr>\n",
              "      <th>25</th>\n",
              "      <td>CyZu6IaZgmQYGk8jmPajCg==</td>\n",
              "      <td>2021-09-09</td>\n",
              "      <td>2021-09-26</td>\n",
              "      <td>2021-09-09</td>\n",
              "      <td>NaN</td>\n",
              "      <td>NaN</td>\n",
              "      <td>NaN</td>\n",
              "      <td>NaN</td>\n",
              "      <td>Casa</td>\n",
              "      <td>4.0</td>\n",
              "      <td>3.0</td>\n",
              "      <td>171.0</td>\n",
              "      <td>133.0</td>\n",
              "      <td>210000.0</td>\n",
              "      <td>USD</td>\n",
              "      <td>VENTA CASA LLAVE EN MANO - COSTA ESMERALDA</td>\n",
              "    </tr>\n",
              "    <tr>\n",
              "      <th>42</th>\n",
              "      <td>d3Z0MblSb2IMBoOBMGJEEQ==</td>\n",
              "      <td>2021-09-09</td>\n",
              "      <td>2021-09-26</td>\n",
              "      <td>2021-09-09</td>\n",
              "      <td>-34.637319</td>\n",
              "      <td>-58.361124</td>\n",
              "      <td>Boca</td>\n",
              "      <td>NaN</td>\n",
              "      <td>Departamento</td>\n",
              "      <td>3.0</td>\n",
              "      <td>2.0</td>\n",
              "      <td>58.0</td>\n",
              "      <td>55.0</td>\n",
              "      <td>82900.0</td>\n",
              "      <td>USD</td>\n",
              "      <td>VENTA TRES AMBIENTES LA BOCA PISO ALTO</td>\n",
              "    </tr>\n",
              "    <tr>\n",
              "      <th>43</th>\n",
              "      <td>rL7qPkQnomsMGu2ViS3sBw==</td>\n",
              "      <td>2021-09-09</td>\n",
              "      <td>2021-09-28</td>\n",
              "      <td>2021-09-09</td>\n",
              "      <td>-34.628647</td>\n",
              "      <td>-58.361871</td>\n",
              "      <td>Boca</td>\n",
              "      <td>NaN</td>\n",
              "      <td>Departamento</td>\n",
              "      <td>4.0</td>\n",
              "      <td>3.0</td>\n",
              "      <td>70.0</td>\n",
              "      <td>70.0</td>\n",
              "      <td>99000.0</td>\n",
              "      <td>USD</td>\n",
              "      <td>Departamento - 4 Ambientes - Catalinas Sur</td>\n",
              "    </tr>\n",
              "    <tr>\n",
              "      <th>44</th>\n",
              "      <td>IfZHM0GX583/RU9QQb8Orw==</td>\n",
              "      <td>2021-09-09</td>\n",
              "      <td>2022-03-09</td>\n",
              "      <td>2021-09-09</td>\n",
              "      <td>-34.599506</td>\n",
              "      <td>-58.404138</td>\n",
              "      <td>Once</td>\n",
              "      <td>NaN</td>\n",
              "      <td>Departamento</td>\n",
              "      <td>2.0</td>\n",
              "      <td>1.0</td>\n",
              "      <td>43.0</td>\n",
              "      <td>43.0</td>\n",
              "      <td>NaN</td>\n",
              "      <td>SinDefinir</td>\n",
              "      <td>Av Puyrredon al 924</td>\n",
              "    </tr>\n",
              "    <tr>\n",
              "      <th>49</th>\n",
              "      <td>vuX/ccLAMVml4qWRFcOJUA==</td>\n",
              "      <td>2021-09-09</td>\n",
              "      <td>2022-01-05</td>\n",
              "      <td>2021-09-09</td>\n",
              "      <td>-34.610027</td>\n",
              "      <td>-58.401934</td>\n",
              "      <td>Once</td>\n",
              "      <td>NaN</td>\n",
              "      <td>Departamento</td>\n",
              "      <td>4.0</td>\n",
              "      <td>2.0</td>\n",
              "      <td>NaN</td>\n",
              "      <td>104.0</td>\n",
              "      <td>146000.0</td>\n",
              "      <td>USD</td>\n",
              "      <td>Venta departamento 4 ambientes Once</td>\n",
              "    </tr>\n",
              "    <tr>\n",
              "      <th>...</th>\n",
              "      <td>...</td>\n",
              "      <td>...</td>\n",
              "      <td>...</td>\n",
              "      <td>...</td>\n",
              "      <td>...</td>\n",
              "      <td>...</td>\n",
              "      <td>...</td>\n",
              "      <td>...</td>\n",
              "      <td>...</td>\n",
              "      <td>...</td>\n",
              "      <td>...</td>\n",
              "      <td>...</td>\n",
              "      <td>...</td>\n",
              "      <td>...</td>\n",
              "      <td>...</td>\n",
              "      <td>...</td>\n",
              "    </tr>\n",
              "    <tr>\n",
              "      <th>460072</th>\n",
              "      <td>v4f5Un9jO7hsD02MWLkKBQ==</td>\n",
              "      <td>2021-01-05</td>\n",
              "      <td>2022-09-02</td>\n",
              "      <td>2021-01-05</td>\n",
              "      <td>-34.603245</td>\n",
              "      <td>-58.489810</td>\n",
              "      <td>Villa del Parque</td>\n",
              "      <td>NaN</td>\n",
              "      <td>Departamento</td>\n",
              "      <td>4.0</td>\n",
              "      <td>3.0</td>\n",
              "      <td>130.0</td>\n",
              "      <td>100.0</td>\n",
              "      <td>220000.0</td>\n",
              "      <td>USD</td>\n",
              "      <td>Espectacular 4 amb130m2 con Balcon Terraza!!!</td>\n",
              "    </tr>\n",
              "    <tr>\n",
              "      <th>460073</th>\n",
              "      <td>Aq/Z+XyS8FHbOOxed4xtTw==</td>\n",
              "      <td>2021-01-05</td>\n",
              "      <td>2021-02-17</td>\n",
              "      <td>2021-01-05</td>\n",
              "      <td>-34.614063</td>\n",
              "      <td>-58.482814</td>\n",
              "      <td>Villa del Parque</td>\n",
              "      <td>NaN</td>\n",
              "      <td>Departamento</td>\n",
              "      <td>3.0</td>\n",
              "      <td>2.0</td>\n",
              "      <td>68.0</td>\n",
              "      <td>60.0</td>\n",
              "      <td>161000.0</td>\n",
              "      <td>USD</td>\n",
              "      <td>3 ambientes con cochera listo para habitar!</td>\n",
              "    </tr>\n",
              "    <tr>\n",
              "      <th>460074</th>\n",
              "      <td>Rmamz8v4Wkh5xF7PA59Jqw==</td>\n",
              "      <td>2021-01-05</td>\n",
              "      <td>2021-01-27</td>\n",
              "      <td>2021-01-05</td>\n",
              "      <td>-34.614175</td>\n",
              "      <td>-58.479062</td>\n",
              "      <td>Villa del Parque</td>\n",
              "      <td>NaN</td>\n",
              "      <td>Departamento</td>\n",
              "      <td>1.0</td>\n",
              "      <td>1.0</td>\n",
              "      <td>51.0</td>\n",
              "      <td>30.0</td>\n",
              "      <td>75500.0</td>\n",
              "      <td>USD</td>\n",
              "      <td>VENTA MONOAMBIENTE CON PATIO SOL DE MAÑANA ///...</td>\n",
              "    </tr>\n",
              "    <tr>\n",
              "      <th>460075</th>\n",
              "      <td>7yl8Dfx5wobH21YdMU+Kgg==</td>\n",
              "      <td>2021-01-05</td>\n",
              "      <td>2021-01-27</td>\n",
              "      <td>2021-01-05</td>\n",
              "      <td>-34.614175</td>\n",
              "      <td>-58.479062</td>\n",
              "      <td>Villa del Parque</td>\n",
              "      <td>NaN</td>\n",
              "      <td>Departamento</td>\n",
              "      <td>1.0</td>\n",
              "      <td>1.0</td>\n",
              "      <td>37.0</td>\n",
              "      <td>31.0</td>\n",
              "      <td>74500.0</td>\n",
              "      <td>USD</td>\n",
              "      <td>VENTA MONOAMBIENTE APAISADO y DIVISIBLE AL CF ...</td>\n",
              "    </tr>\n",
              "    <tr>\n",
              "      <th>460090</th>\n",
              "      <td>9OVDfhoDvkY4rr/SX0ggVw==</td>\n",
              "      <td>2021-01-05</td>\n",
              "      <td>2021-01-08</td>\n",
              "      <td>2021-01-05</td>\n",
              "      <td>-34.599790</td>\n",
              "      <td>-58.373411</td>\n",
              "      <td>Centro / Microcentro</td>\n",
              "      <td>NaN</td>\n",
              "      <td>Departamento</td>\n",
              "      <td>2.0</td>\n",
              "      <td>1.0</td>\n",
              "      <td>84.0</td>\n",
              "      <td>84.0</td>\n",
              "      <td>135000.0</td>\n",
              "      <td>USD</td>\n",
              "      <td>VENTA DEPTO 2 1/2 AMBIENTES - CENTRO</td>\n",
              "    </tr>\n",
              "  </tbody>\n",
              "</table>\n",
              "<p>95495 rows × 16 columns</p>\n",
              "</div>\n",
              "    <div class=\"colab-df-buttons\">\n",
              "\n",
              "  <div class=\"colab-df-container\">\n",
              "    <button class=\"colab-df-convert\" onclick=\"convertToInteractive('df-fa32e967-4580-42de-8e0c-0c1d1a040146')\"\n",
              "            title=\"Convert this dataframe to an interactive table.\"\n",
              "            style=\"display:none;\">\n",
              "\n",
              "  <svg xmlns=\"http://www.w3.org/2000/svg\" height=\"24px\" viewBox=\"0 -960 960 960\">\n",
              "    <path d=\"M120-120v-720h720v720H120Zm60-500h600v-160H180v160Zm220 220h160v-160H400v160Zm0 220h160v-160H400v160ZM180-400h160v-160H180v160Zm440 0h160v-160H620v160ZM180-180h160v-160H180v160Zm440 0h160v-160H620v160Z\"/>\n",
              "  </svg>\n",
              "    </button>\n",
              "\n",
              "  <style>\n",
              "    .colab-df-container {\n",
              "      display:flex;\n",
              "      gap: 12px;\n",
              "    }\n",
              "\n",
              "    .colab-df-convert {\n",
              "      background-color: #E8F0FE;\n",
              "      border: none;\n",
              "      border-radius: 50%;\n",
              "      cursor: pointer;\n",
              "      display: none;\n",
              "      fill: #1967D2;\n",
              "      height: 32px;\n",
              "      padding: 0 0 0 0;\n",
              "      width: 32px;\n",
              "    }\n",
              "\n",
              "    .colab-df-convert:hover {\n",
              "      background-color: #E2EBFA;\n",
              "      box-shadow: 0px 1px 2px rgba(60, 64, 67, 0.3), 0px 1px 3px 1px rgba(60, 64, 67, 0.15);\n",
              "      fill: #174EA6;\n",
              "    }\n",
              "\n",
              "    .colab-df-buttons div {\n",
              "      margin-bottom: 4px;\n",
              "    }\n",
              "\n",
              "    [theme=dark] .colab-df-convert {\n",
              "      background-color: #3B4455;\n",
              "      fill: #D2E3FC;\n",
              "    }\n",
              "\n",
              "    [theme=dark] .colab-df-convert:hover {\n",
              "      background-color: #434B5C;\n",
              "      box-shadow: 0px 1px 3px 1px rgba(0, 0, 0, 0.15);\n",
              "      filter: drop-shadow(0px 1px 2px rgba(0, 0, 0, 0.3));\n",
              "      fill: #FFFFFF;\n",
              "    }\n",
              "  </style>\n",
              "\n",
              "    <script>\n",
              "      const buttonEl =\n",
              "        document.querySelector('#df-fa32e967-4580-42de-8e0c-0c1d1a040146 button.colab-df-convert');\n",
              "      buttonEl.style.display =\n",
              "        google.colab.kernel.accessAllowed ? 'block' : 'none';\n",
              "\n",
              "      async function convertToInteractive(key) {\n",
              "        const element = document.querySelector('#df-fa32e967-4580-42de-8e0c-0c1d1a040146');\n",
              "        const dataTable =\n",
              "          await google.colab.kernel.invokeFunction('convertToInteractive',\n",
              "                                                    [key], {});\n",
              "        if (!dataTable) return;\n",
              "\n",
              "        const docLinkHtml = 'Like what you see? Visit the ' +\n",
              "          '<a target=\"_blank\" href=https://colab.research.google.com/notebooks/data_table.ipynb>data table notebook</a>'\n",
              "          + ' to learn more about interactive tables.';\n",
              "        element.innerHTML = '';\n",
              "        dataTable['output_type'] = 'display_data';\n",
              "        await google.colab.output.renderOutput(dataTable, element);\n",
              "        const docLink = document.createElement('div');\n",
              "        docLink.innerHTML = docLinkHtml;\n",
              "        element.appendChild(docLink);\n",
              "      }\n",
              "    </script>\n",
              "  </div>\n",
              "\n",
              "\n",
              "<div id=\"df-c01a5fc7-d43a-4fd0-b5f0-28abace4d082\">\n",
              "  <button class=\"colab-df-quickchart\" onclick=\"quickchart('df-c01a5fc7-d43a-4fd0-b5f0-28abace4d082')\"\n",
              "            title=\"Suggest charts\"\n",
              "            style=\"display:none;\">\n",
              "\n",
              "<svg xmlns=\"http://www.w3.org/2000/svg\" height=\"24px\"viewBox=\"0 0 24 24\"\n",
              "     width=\"24px\">\n",
              "    <g>\n",
              "        <path d=\"M19 3H5c-1.1 0-2 .9-2 2v14c0 1.1.9 2 2 2h14c1.1 0 2-.9 2-2V5c0-1.1-.9-2-2-2zM9 17H7v-7h2v7zm4 0h-2V7h2v10zm4 0h-2v-4h2v4z\"/>\n",
              "    </g>\n",
              "</svg>\n",
              "  </button>\n",
              "\n",
              "<style>\n",
              "  .colab-df-quickchart {\n",
              "      --bg-color: #E8F0FE;\n",
              "      --fill-color: #1967D2;\n",
              "      --hover-bg-color: #E2EBFA;\n",
              "      --hover-fill-color: #174EA6;\n",
              "      --disabled-fill-color: #AAA;\n",
              "      --disabled-bg-color: #DDD;\n",
              "  }\n",
              "\n",
              "  [theme=dark] .colab-df-quickchart {\n",
              "      --bg-color: #3B4455;\n",
              "      --fill-color: #D2E3FC;\n",
              "      --hover-bg-color: #434B5C;\n",
              "      --hover-fill-color: #FFFFFF;\n",
              "      --disabled-bg-color: #3B4455;\n",
              "      --disabled-fill-color: #666;\n",
              "  }\n",
              "\n",
              "  .colab-df-quickchart {\n",
              "    background-color: var(--bg-color);\n",
              "    border: none;\n",
              "    border-radius: 50%;\n",
              "    cursor: pointer;\n",
              "    display: none;\n",
              "    fill: var(--fill-color);\n",
              "    height: 32px;\n",
              "    padding: 0;\n",
              "    width: 32px;\n",
              "  }\n",
              "\n",
              "  .colab-df-quickchart:hover {\n",
              "    background-color: var(--hover-bg-color);\n",
              "    box-shadow: 0 1px 2px rgba(60, 64, 67, 0.3), 0 1px 3px 1px rgba(60, 64, 67, 0.15);\n",
              "    fill: var(--button-hover-fill-color);\n",
              "  }\n",
              "\n",
              "  .colab-df-quickchart-complete:disabled,\n",
              "  .colab-df-quickchart-complete:disabled:hover {\n",
              "    background-color: var(--disabled-bg-color);\n",
              "    fill: var(--disabled-fill-color);\n",
              "    box-shadow: none;\n",
              "  }\n",
              "\n",
              "  .colab-df-spinner {\n",
              "    border: 2px solid var(--fill-color);\n",
              "    border-color: transparent;\n",
              "    border-bottom-color: var(--fill-color);\n",
              "    animation:\n",
              "      spin 1s steps(1) infinite;\n",
              "  }\n",
              "\n",
              "  @keyframes spin {\n",
              "    0% {\n",
              "      border-color: transparent;\n",
              "      border-bottom-color: var(--fill-color);\n",
              "      border-left-color: var(--fill-color);\n",
              "    }\n",
              "    20% {\n",
              "      border-color: transparent;\n",
              "      border-left-color: var(--fill-color);\n",
              "      border-top-color: var(--fill-color);\n",
              "    }\n",
              "    30% {\n",
              "      border-color: transparent;\n",
              "      border-left-color: var(--fill-color);\n",
              "      border-top-color: var(--fill-color);\n",
              "      border-right-color: var(--fill-color);\n",
              "    }\n",
              "    40% {\n",
              "      border-color: transparent;\n",
              "      border-right-color: var(--fill-color);\n",
              "      border-top-color: var(--fill-color);\n",
              "    }\n",
              "    60% {\n",
              "      border-color: transparent;\n",
              "      border-right-color: var(--fill-color);\n",
              "    }\n",
              "    80% {\n",
              "      border-color: transparent;\n",
              "      border-right-color: var(--fill-color);\n",
              "      border-bottom-color: var(--fill-color);\n",
              "    }\n",
              "    90% {\n",
              "      border-color: transparent;\n",
              "      border-bottom-color: var(--fill-color);\n",
              "    }\n",
              "  }\n",
              "</style>\n",
              "\n",
              "  <script>\n",
              "    async function quickchart(key) {\n",
              "      const quickchartButtonEl =\n",
              "        document.querySelector('#' + key + ' button');\n",
              "      quickchartButtonEl.disabled = true;  // To prevent multiple clicks.\n",
              "      quickchartButtonEl.classList.add('colab-df-spinner');\n",
              "      try {\n",
              "        const charts = await google.colab.kernel.invokeFunction(\n",
              "            'suggestCharts', [key], {});\n",
              "      } catch (error) {\n",
              "        console.error('Error during call to suggestCharts:', error);\n",
              "      }\n",
              "      quickchartButtonEl.classList.remove('colab-df-spinner');\n",
              "      quickchartButtonEl.classList.add('colab-df-quickchart-complete');\n",
              "    }\n",
              "    (() => {\n",
              "      let quickchartButtonEl =\n",
              "        document.querySelector('#df-c01a5fc7-d43a-4fd0-b5f0-28abace4d082 button');\n",
              "      quickchartButtonEl.style.display =\n",
              "        google.colab.kernel.accessAllowed ? 'block' : 'none';\n",
              "    })();\n",
              "  </script>\n",
              "</div>\n",
              "    </div>\n",
              "  </div>\n"
            ],
            "application/vnd.google.colaboratory.intrinsic+json": {
              "type": "dataframe",
              "variable_name": "df_filter",
              "summary": "{\n  \"name\": \"df_filter\",\n  \"rows\": 95495,\n  \"fields\": [\n    {\n      \"column\": \"id\",\n      \"properties\": {\n        \"dtype\": \"string\",\n        \"num_unique_values\": 95495,\n        \"samples\": [\n          \"7jbLcXATsJf+xviqqdpCEQ==\",\n          \"MRCfW30rLTVnm1Cfa8WkpA==\",\n          \"zayFmEsoDaokhXmXrYx7Nw==\"\n        ],\n        \"semantic_type\": \"\",\n        \"description\": \"\"\n      }\n    },\n    {\n      \"column\": \"start_date\",\n      \"properties\": {\n        \"dtype\": \"date\",\n        \"min\": \"2021-01-01 00:00:00\",\n        \"max\": \"2021-12-31 00:00:00\",\n        \"num_unique_values\": 365,\n        \"samples\": [\n          \"2021-07-22 00:00:00\",\n          \"2021-08-29 00:00:00\",\n          \"2021-11-22 00:00:00\"\n        ],\n        \"semantic_type\": \"\",\n        \"description\": \"\"\n      }\n    },\n    {\n      \"column\": \"end_date\",\n      \"properties\": {\n        \"dtype\": \"date\",\n        \"min\": \"2021-01-02 00:00:00\",\n        \"max\": \"2022-09-19 00:00:00\",\n        \"num_unique_values\": 606,\n        \"samples\": [\n          \"2022-04-19 00:00:00\",\n          \"2021-08-13 00:00:00\",\n          \"2022-01-26 00:00:00\"\n        ],\n        \"semantic_type\": \"\",\n        \"description\": \"\"\n      }\n    },\n    {\n      \"column\": \"created_on\",\n      \"properties\": {\n        \"dtype\": \"date\",\n        \"min\": \"2021-01-01 00:00:00\",\n        \"max\": \"2021-12-31 00:00:00\",\n        \"num_unique_values\": 365,\n        \"samples\": [\n          \"2021-07-22 00:00:00\",\n          \"2021-08-29 00:00:00\",\n          \"2021-11-22 00:00:00\"\n        ],\n        \"semantic_type\": \"\",\n        \"description\": \"\"\n      }\n    },\n    {\n      \"column\": \"latitud\",\n      \"properties\": {\n        \"dtype\": \"number\",\n        \"std\": 0.18529025994030632,\n        \"min\": -53.788624,\n        \"max\": -24.219827,\n        \"num_unique_values\": 45695,\n        \"samples\": [\n          -34.5644549,\n          -34.619091,\n          -34.5802655928\n        ],\n        \"semantic_type\": \"\",\n        \"description\": \"\"\n      }\n    },\n    {\n      \"column\": \"longitud\",\n      \"properties\": {\n        \"dtype\": \"number\",\n        \"std\": 0.30213912737661286,\n        \"min\": -71.4711916762,\n        \"max\": -54.13333,\n        \"num_unique_values\": 45487,\n        \"samples\": [\n          -58.406741,\n          -58.3730683,\n          -58.3961628\n        ],\n        \"semantic_type\": \"\",\n        \"description\": \"\"\n      }\n    },\n    {\n      \"column\": \"place_l3\",\n      \"properties\": {\n        \"dtype\": \"category\",\n        \"num_unique_values\": 57,\n        \"samples\": [\n          \"Boca\",\n          \"Retiro\",\n          \"San Nicol\\u00e1s\"\n        ],\n        \"semantic_type\": \"\",\n        \"description\": \"\"\n      }\n    },\n    {\n      \"column\": \"place_l4\",\n      \"properties\": {\n        \"dtype\": \"category\",\n        \"num_unique_values\": 4,\n        \"samples\": [\n          \"Palermo Soho\",\n          \"Palermo Hollywood\",\n          \"Palermo Chico\"\n        ],\n        \"semantic_type\": \"\",\n        \"description\": \"\"\n      }\n    },\n    {\n      \"column\": \"property_type\",\n      \"properties\": {\n        \"dtype\": \"category\",\n        \"num_unique_values\": 3,\n        \"samples\": [\n          \"Casa\",\n          \"Departamento\",\n          \"PH\"\n        ],\n        \"semantic_type\": \"\",\n        \"description\": \"\"\n      }\n    },\n    {\n      \"column\": \"property_rooms\",\n      \"properties\": {\n        \"dtype\": \"number\",\n        \"std\": 1.4362195305363576,\n        \"min\": 1.0,\n        \"max\": 40.0,\n        \"num_unique_values\": 27,\n        \"samples\": [\n          9.0,\n          30.0,\n          8.0\n        ],\n        \"semantic_type\": \"\",\n        \"description\": \"\"\n      }\n    },\n    {\n      \"column\": \"property_bedrooms\",\n      \"properties\": {\n        \"dtype\": \"number\",\n        \"std\": 1.1388243859403753,\n        \"min\": -1.0,\n        \"max\": 70.0,\n        \"num_unique_values\": 24,\n        \"samples\": [\n          15.0,\n          32.0,\n          3.0\n        ],\n        \"semantic_type\": \"\",\n        \"description\": \"\"\n      }\n    },\n    {\n      \"column\": \"property_surface_total\",\n      \"properties\": {\n        \"dtype\": \"number\",\n        \"std\": 1028.0461450065761,\n        \"min\": 10.0,\n        \"max\": 137000.0,\n        \"num_unique_values\": 736,\n        \"samples\": [\n          1166.0,\n          52.0,\n          478.0\n        ],\n        \"semantic_type\": \"\",\n        \"description\": \"\"\n      }\n    },\n    {\n      \"column\": \"property_surface_covered\",\n      \"properties\": {\n        \"dtype\": \"number\",\n        \"std\": 1030.0015953492623,\n        \"min\": 1.0,\n        \"max\": 217000.0,\n        \"num_unique_values\": 602,\n        \"samples\": [\n          84.0,\n          221.0,\n          592.0\n        ],\n        \"semantic_type\": \"\",\n        \"description\": \"\"\n      }\n    },\n    {\n      \"column\": \"property_price\",\n      \"properties\": {\n        \"dtype\": \"number\",\n        \"std\": 318555.7155290026,\n        \"min\": 0.0,\n        \"max\": 21400000.0,\n        \"num_unique_values\": 4790,\n        \"samples\": [\n          685000.0,\n          276000.0,\n          37356.0\n        ],\n        \"semantic_type\": \"\",\n        \"description\": \"\"\n      }\n    },\n    {\n      \"column\": \"property_currency\",\n      \"properties\": {\n        \"dtype\": \"category\",\n        \"num_unique_values\": 2,\n        \"samples\": [\n          \"SinDefinir\",\n          \"USD\"\n        ],\n        \"semantic_type\": \"\",\n        \"description\": \"\"\n      }\n    },\n    {\n      \"column\": \"property_title\",\n      \"properties\": {\n        \"dtype\": \"string\",\n        \"num_unique_values\": 56165,\n        \"samples\": [\n          \"VENTA DEPARTAMENTO 3 AMBIENTES, VISTA AL FRENTE CON BALCON.\",\n          \"Venta-Monoambiente - Almagro- 75 mts- Apto profesional. Oportunidad\"\n        ],\n        \"semantic_type\": \"\",\n        \"description\": \"\"\n      }\n    }\n  ]\n}"
            }
          },
          "metadata": {},
          "execution_count": 364
        }
      ],
      "source": [
        "# Exportar DataFrame Filtrado\n",
        "df_filter\n",
        "# 95495 rows × 16 columns"
      ]
    },
    {
      "cell_type": "code",
      "source": [
        "#guardo el DF filtrado\n",
        "df_filter.to_csv('./datasets/prop_arg_2021_filtrado.csv',index=False)"
      ],
      "metadata": {
        "id": "AsKCzpkoEeW_"
      },
      "execution_count": null,
      "outputs": []
    },
    {
      "cell_type": "code",
      "source": [
        "# dividir 80 20\n",
        "from sklearn.model_selection import train_test_split\n",
        "\n",
        "columnas_modelo = df_filter.columns.tolist()\n",
        "columnas_modelo.remove('property_price')\n",
        "\n",
        "ds_trabajo_x = df_filter[columnas_modelo].copy()\n",
        "ds_trabajo_y = df_filter['property_price'].copy()\n",
        "\n",
        "x_train, x_test, y_train, y_test = train_test_split(ds_trabajo_x, ds_trabajo_y, test_size=0.2 , random_state=2)"
      ],
      "metadata": {
        "id": "h_QJrtF-WL08"
      },
      "execution_count": null,
      "outputs": []
    },
    {
      "cell_type": "code",
      "source": [
        "y_train"
      ],
      "metadata": {
        "id": "0q_Wt4-xWLoh",
        "colab": {
          "base_uri": "https://localhost:8080/"
        },
        "outputId": "e849952b-b9f2-4ece-bdfe-f30b6a706601"
      },
      "execution_count": null,
      "outputs": [
        {
          "output_type": "execute_result",
          "data": {
            "text/plain": [
              "103918    116500.0\n",
              "30346     145000.0\n",
              "147758    230000.0\n",
              "85349     105000.0\n",
              "194658    109000.0\n",
              "            ...   \n",
              "409097    115000.0\n",
              "147381    285000.0\n",
              "214143    129000.0\n",
              "350945    110000.0\n",
              "433701    980000.0\n",
              "Name: property_price, Length: 76396, dtype: float64"
            ]
          },
          "metadata": {},
          "execution_count": 367
        }
      ]
    },
    {
      "cell_type": "code",
      "source": [
        "y_test"
      ],
      "metadata": {
        "colab": {
          "base_uri": "https://localhost:8080/"
        },
        "id": "eDrIx3Y8rg4k",
        "outputId": "03984c84-dce2-4d0f-fb08-fd508c572191"
      },
      "execution_count": null,
      "outputs": [
        {
          "output_type": "execute_result",
          "data": {
            "text/plain": [
              "393103    252900.0\n",
              "275566    120000.0\n",
              "85393     135000.0\n",
              "183383     84900.0\n",
              "266524     78500.0\n",
              "            ...   \n",
              "323914    159000.0\n",
              "357630    275000.0\n",
              "311585     95000.0\n",
              "143596     97000.0\n",
              "256151    400000.0\n",
              "Name: property_price, Length: 19099, dtype: float64"
            ]
          },
          "metadata": {},
          "execution_count": 368
        }
      ]
    },
    {
      "cell_type": "code",
      "source": [
        "#guardo el DF de X ENTRENAMIENTO 80%\n",
        "x_train.to_csv('./datasets/x_columnas_entrenamiento.csv',index=False)"
      ],
      "metadata": {
        "id": "Y6WhmWFfr67P"
      },
      "execution_count": null,
      "outputs": []
    },
    {
      "cell_type": "code",
      "source": [
        "#guardo el DF de Y ENTRENAMIENTO 80%\n",
        "y_train.to_csv('./datasets/y_precios_entrenamiento.csv',index=False)"
      ],
      "metadata": {
        "id": "EHP_GChRr6uk"
      },
      "execution_count": null,
      "outputs": []
    },
    {
      "cell_type": "code",
      "source": [
        "#guardo el DF de X TEST 20%\n",
        "x_test.to_csv('./datasets/x_columnas_test.csv',index=False)"
      ],
      "metadata": {
        "id": "ihUdv9gsr6jm"
      },
      "execution_count": null,
      "outputs": []
    },
    {
      "cell_type": "code",
      "source": [
        "#guardo el DF de Y TEST 20%\n",
        "y_test.to_csv('./datasets/y_precios_test.csv',index=False)"
      ],
      "metadata": {
        "id": "9LelavSxr6Uk"
      },
      "execution_count": null,
      "outputs": []
    }
  ],
  "metadata": {
    "colab": {
      "provenance": [],
      "include_colab_link": true
    },
    "kernelspec": {
      "display_name": "Python 3",
      "name": "python3"
    },
    "language_info": {
      "name": "python"
    }
  },
  "nbformat": 4,
  "nbformat_minor": 0
}
