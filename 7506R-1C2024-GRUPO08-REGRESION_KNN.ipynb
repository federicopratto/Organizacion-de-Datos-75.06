{
  "nbformat": 4,
  "nbformat_minor": 0,
  "metadata": {
    "colab": {
      "provenance": [],
      "include_colab_link": true
    },
    "kernelspec": {
      "name": "python3",
      "display_name": "Python 3"
    },
    "language_info": {
      "name": "python"
    }
  },
  "cells": [
    {
      "cell_type": "markdown",
      "metadata": {
        "id": "view-in-github",
        "colab_type": "text"
      },
      "source": [
        "<a href=\"https://colab.research.google.com/github/sttesta3/7506R-1C2024-GRUPO08/blob/santiago/Regresion.ipynb\" target=\"_parent\"><img src=\"https://colab.research.google.com/assets/colab-badge.svg\" alt=\"Open In Colab\"/></a>"
      ]
    },
    {
      "cell_type": "code",
      "execution_count": 2,
      "metadata": {
        "id": "S5mZ0CvIh3l1"
      },
      "outputs": [],
      "source": [
        "# General libs\n",
        "import pandas as pd\n",
        "import numpy as np\n",
        "\n",
        "#Visualizaciones\n",
        "import seaborn as sns\n",
        "import matplotlib.pyplot as plt\n",
        "\n",
        "#Modelos\n",
        "from sklearn.neighbors import KNeighborsRegressor\n",
        "from sklearn.linear_model import LinearRegression\n",
        "\n",
        "# KFold cross validation\n",
        "from sklearn import metrics\n",
        "from sklearn.model_selection import cross_val_score\n"
      ]
    },
    {
      "cell_type": "markdown",
      "source": [
        "### Preparación de data\n",
        "##### Procedemos a limpiar la data para entrenar nuestro modelo ( debe ser de tipo numerico y sin nulls ) y dividimos en entrenamiento y en test."
      ],
      "metadata": {
        "id": "kQZdjV-w557k"
      }
    },
    {
      "cell_type": "code",
      "source": [
        "# Ruta donde van a estar todos los datasets\n",
        "ruta = \"https://raw.githubusercontent.com/sttesta3/7506R-1C2024-GRUPO08/fede/datasets/\"\n",
        "ds = pd.read_csv(ruta + \"ds_filtrado.csv\")\n",
        "\n",
        "ds.info()\n",
        "\n",
        "ds.drop(columns=\"start_date\",inplace=True)\n",
        "ds.drop(columns=\"place_l3\",inplace=True)\n",
        "ds.drop(columns=\"property_type\",inplace=True)\n",
        "\n",
        "from sklearn.model_selection import train_test_split\n",
        "ds_train, ds_test = train_test_split(ds, test_size=0.2 , random_state=2)\n",
        "\n",
        "ds_train.info()\n",
        "ds_test.info()\n",
        "\n",
        "x_train_knn=pd.DataFrame(ds_train, columns=[\"latitud\",\"longitud\",\"property_bedrooms\",\"property_rooms\",\"property_surface_total\",\"property_surface_covered\"])\n",
        "y_train_knn = ds_train.property_price\n",
        "\n",
        "x_test_knn = pd.DataFrame(ds_test, columns=[\"latitud\",\"longitud\",\"property_bedrooms\",\"property_rooms\",\"property_surface_total\",\"property_surface_covered\"])\n",
        "y_test_knn = ds_test.property_price\n"
      ],
      "metadata": {
        "colab": {
          "base_uri": "https://localhost:8080/"
        },
        "id": "NnXqVFqGj10A",
        "outputId": "8bd6223d-230f-496a-ff91-f2c46745b43c"
      },
      "execution_count": 3,
      "outputs": [
        {
          "output_type": "stream",
          "name": "stdout",
          "text": [
            "<class 'pandas.core.frame.DataFrame'>\n",
            "RangeIndex: 52366 entries, 0 to 52365\n",
            "Data columns (total 10 columns):\n",
            " #   Column                    Non-Null Count  Dtype  \n",
            "---  ------                    --------------  -----  \n",
            " 0   start_date                52366 non-null  object \n",
            " 1   latitud                   52366 non-null  float64\n",
            " 2   longitud                  52366 non-null  float64\n",
            " 3   place_l3                  52366 non-null  object \n",
            " 4   property_type             52366 non-null  object \n",
            " 5   property_rooms            52366 non-null  int64  \n",
            " 6   property_bedrooms         52366 non-null  int64  \n",
            " 7   property_surface_total    52366 non-null  float64\n",
            " 8   property_surface_covered  52366 non-null  float64\n",
            " 9   property_price            52366 non-null  float64\n",
            "dtypes: float64(5), int64(2), object(3)\n",
            "memory usage: 4.0+ MB\n",
            "<class 'pandas.core.frame.DataFrame'>\n",
            "Index: 41892 entries, 39631 to 23720\n",
            "Data columns (total 7 columns):\n",
            " #   Column                    Non-Null Count  Dtype  \n",
            "---  ------                    --------------  -----  \n",
            " 0   latitud                   41892 non-null  float64\n",
            " 1   longitud                  41892 non-null  float64\n",
            " 2   property_rooms            41892 non-null  int64  \n",
            " 3   property_bedrooms         41892 non-null  int64  \n",
            " 4   property_surface_total    41892 non-null  float64\n",
            " 5   property_surface_covered  41892 non-null  float64\n",
            " 6   property_price            41892 non-null  float64\n",
            "dtypes: float64(5), int64(2)\n",
            "memory usage: 2.6 MB\n",
            "<class 'pandas.core.frame.DataFrame'>\n",
            "Index: 10474 entries, 37650 to 2675\n",
            "Data columns (total 7 columns):\n",
            " #   Column                    Non-Null Count  Dtype  \n",
            "---  ------                    --------------  -----  \n",
            " 0   latitud                   10474 non-null  float64\n",
            " 1   longitud                  10474 non-null  float64\n",
            " 2   property_rooms            10474 non-null  int64  \n",
            " 3   property_bedrooms         10474 non-null  int64  \n",
            " 4   property_surface_total    10474 non-null  float64\n",
            " 5   property_surface_covered  10474 non-null  float64\n",
            " 6   property_price            10474 non-null  float64\n",
            "dtypes: float64(5), int64(2)\n",
            "memory usage: 654.6 KB\n"
          ]
        }
      ]
    },
    {
      "cell_type": "markdown",
      "source": [
        "### Revisión rapida de correlaciones\n",
        "#### Nota: Redundante con trabajo previo"
      ],
      "metadata": {
        "id": "O0axVlXE6pwn"
      }
    },
    {
      "cell_type": "code",
      "source": [
        "ds_train.corr().style.background_gradient(cmap='coolwarm')"
      ],
      "metadata": {
        "id": "9Ay--Guk1t_s",
        "outputId": "4e3d1ab0-0e7a-4bf9-a4d1-c235f3d5d544",
        "colab": {
          "base_uri": "https://localhost:8080/",
          "height": 269
        }
      },
      "execution_count": null,
      "outputs": [
        {
          "output_type": "execute_result",
          "data": {
            "text/plain": [
              "<pandas.io.formats.style.Styler at 0x7a59b3c9e050>"
            ],
            "text/html": [
              "<style type=\"text/css\">\n",
              "#T_52bea_row0_col0, #T_52bea_row1_col1, #T_52bea_row2_col2, #T_52bea_row3_col3, #T_52bea_row4_col4, #T_52bea_row5_col5, #T_52bea_row6_col6 {\n",
              "  background-color: #b40426;\n",
              "  color: #f1f1f1;\n",
              "}\n",
              "#T_52bea_row0_col1, #T_52bea_row0_col2, #T_52bea_row0_col3, #T_52bea_row0_col5, #T_52bea_row1_col0, #T_52bea_row1_col4, #T_52bea_row1_col6 {\n",
              "  background-color: #3b4cc0;\n",
              "  color: #f1f1f1;\n",
              "}\n",
              "#T_52bea_row0_col4, #T_52bea_row2_col0 {\n",
              "  background-color: #455cce;\n",
              "  color: #f1f1f1;\n",
              "}\n",
              "#T_52bea_row0_col6 {\n",
              "  background-color: #8caffe;\n",
              "  color: #000000;\n",
              "}\n",
              "#T_52bea_row1_col2, #T_52bea_row3_col0, #T_52bea_row4_col0 {\n",
              "  background-color: #485fd1;\n",
              "  color: #f1f1f1;\n",
              "}\n",
              "#T_52bea_row1_col3 {\n",
              "  background-color: #4961d2;\n",
              "  color: #f1f1f1;\n",
              "}\n",
              "#T_52bea_row1_col5, #T_52bea_row4_col1 {\n",
              "  background-color: #3d50c3;\n",
              "  color: #f1f1f1;\n",
              "}\n",
              "#T_52bea_row2_col1 {\n",
              "  background-color: #5470de;\n",
              "  color: #f1f1f1;\n",
              "}\n",
              "#T_52bea_row2_col3, #T_52bea_row3_col2 {\n",
              "  background-color: #d0473d;\n",
              "  color: #f1f1f1;\n",
              "}\n",
              "#T_52bea_row2_col4 {\n",
              "  background-color: #e57058;\n",
              "  color: #f1f1f1;\n",
              "}\n",
              "#T_52bea_row2_col5 {\n",
              "  background-color: #e16751;\n",
              "  color: #f1f1f1;\n",
              "}\n",
              "#T_52bea_row2_col6 {\n",
              "  background-color: #f6bfa6;\n",
              "  color: #000000;\n",
              "}\n",
              "#T_52bea_row3_col1 {\n",
              "  background-color: #5875e1;\n",
              "  color: #f1f1f1;\n",
              "}\n",
              "#T_52bea_row3_col4 {\n",
              "  background-color: #e9785d;\n",
              "  color: #f1f1f1;\n",
              "}\n",
              "#T_52bea_row3_col5, #T_52bea_row5_col3 {\n",
              "  background-color: #e36b54;\n",
              "  color: #f1f1f1;\n",
              "}\n",
              "#T_52bea_row3_col6 {\n",
              "  background-color: #f5c0a7;\n",
              "  color: #000000;\n",
              "}\n",
              "#T_52bea_row4_col2 {\n",
              "  background-color: #e7745b;\n",
              "  color: #f1f1f1;\n",
              "}\n",
              "#T_52bea_row4_col3 {\n",
              "  background-color: #e97a5f;\n",
              "  color: #f1f1f1;\n",
              "}\n",
              "#T_52bea_row4_col5 {\n",
              "  background-color: #ca3b37;\n",
              "  color: #f1f1f1;\n",
              "}\n",
              "#T_52bea_row4_col6 {\n",
              "  background-color: #f7a688;\n",
              "  color: #000000;\n",
              "}\n",
              "#T_52bea_row5_col0 {\n",
              "  background-color: #4c66d6;\n",
              "  color: #f1f1f1;\n",
              "}\n",
              "#T_52bea_row5_col1 {\n",
              "  background-color: #4f69d9;\n",
              "  color: #f1f1f1;\n",
              "}\n",
              "#T_52bea_row5_col2 {\n",
              "  background-color: #e0654f;\n",
              "  color: #f1f1f1;\n",
              "}\n",
              "#T_52bea_row5_col4 {\n",
              "  background-color: #c83836;\n",
              "  color: #f1f1f1;\n",
              "}\n",
              "#T_52bea_row5_col6 {\n",
              "  background-color: #f59c7d;\n",
              "  color: #000000;\n",
              "}\n",
              "#T_52bea_row6_col0 {\n",
              "  background-color: #a1c0ff;\n",
              "  color: #000000;\n",
              "}\n",
              "#T_52bea_row6_col1 {\n",
              "  background-color: #536edd;\n",
              "  color: #f1f1f1;\n",
              "}\n",
              "#T_52bea_row6_col2 {\n",
              "  background-color: #f7ba9f;\n",
              "  color: #000000;\n",
              "}\n",
              "#T_52bea_row6_col3 {\n",
              "  background-color: #f6bda2;\n",
              "  color: #000000;\n",
              "}\n",
              "#T_52bea_row6_col4 {\n",
              "  background-color: #f59f80;\n",
              "  color: #000000;\n",
              "}\n",
              "#T_52bea_row6_col5 {\n",
              "  background-color: #f49a7b;\n",
              "  color: #000000;\n",
              "}\n",
              "</style>\n",
              "<table id=\"T_52bea\" class=\"dataframe\">\n",
              "  <thead>\n",
              "    <tr>\n",
              "      <th class=\"blank level0\" >&nbsp;</th>\n",
              "      <th id=\"T_52bea_level0_col0\" class=\"col_heading level0 col0\" >latitud</th>\n",
              "      <th id=\"T_52bea_level0_col1\" class=\"col_heading level0 col1\" >longitud</th>\n",
              "      <th id=\"T_52bea_level0_col2\" class=\"col_heading level0 col2\" >property_rooms</th>\n",
              "      <th id=\"T_52bea_level0_col3\" class=\"col_heading level0 col3\" >property_bedrooms</th>\n",
              "      <th id=\"T_52bea_level0_col4\" class=\"col_heading level0 col4\" >property_surface_total</th>\n",
              "      <th id=\"T_52bea_level0_col5\" class=\"col_heading level0 col5\" >property_surface_covered</th>\n",
              "      <th id=\"T_52bea_level0_col6\" class=\"col_heading level0 col6\" >property_price</th>\n",
              "    </tr>\n",
              "  </thead>\n",
              "  <tbody>\n",
              "    <tr>\n",
              "      <th id=\"T_52bea_level0_row0\" class=\"row_heading level0 row0\" >latitud</th>\n",
              "      <td id=\"T_52bea_row0_col0\" class=\"data row0 col0\" >1.000000</td>\n",
              "      <td id=\"T_52bea_row0_col1\" class=\"data row0 col1\" >-0.131109</td>\n",
              "      <td id=\"T_52bea_row0_col2\" class=\"data row0 col2\" >-0.087504</td>\n",
              "      <td id=\"T_52bea_row0_col3\" class=\"data row0 col3\" >-0.079063</td>\n",
              "      <td id=\"T_52bea_row0_col4\" class=\"data row0 col4\" >-0.079114</td>\n",
              "      <td id=\"T_52bea_row0_col5\" class=\"data row0 col5\" >-0.062766</td>\n",
              "      <td id=\"T_52bea_row0_col6\" class=\"data row0 col6\" >0.215192</td>\n",
              "    </tr>\n",
              "    <tr>\n",
              "      <th id=\"T_52bea_level0_row1\" class=\"row_heading level0 row1\" >longitud</th>\n",
              "      <td id=\"T_52bea_row1_col0\" class=\"data row1 col0\" >-0.131109</td>\n",
              "      <td id=\"T_52bea_row1_col1\" class=\"data row1 col1\" >1.000000</td>\n",
              "      <td id=\"T_52bea_row1_col2\" class=\"data row1 col2\" >-0.038142</td>\n",
              "      <td id=\"T_52bea_row1_col3\" class=\"data row1 col3\" >-0.025028</td>\n",
              "      <td id=\"T_52bea_row1_col4\" class=\"data row1 col4\" >-0.120817</td>\n",
              "      <td id=\"T_52bea_row1_col5\" class=\"data row1 col5\" >-0.053173</td>\n",
              "      <td id=\"T_52bea_row1_col6\" class=\"data row1 col6\" >-0.042299</td>\n",
              "    </tr>\n",
              "    <tr>\n",
              "      <th id=\"T_52bea_level0_row2\" class=\"row_heading level0 row2\" >property_rooms</th>\n",
              "      <td id=\"T_52bea_row2_col0\" class=\"data row2 col0\" >-0.087504</td>\n",
              "      <td id=\"T_52bea_row2_col1\" class=\"data row2 col1\" >-0.038142</td>\n",
              "      <td id=\"T_52bea_row2_col2\" class=\"data row2 col2\" >1.000000</td>\n",
              "      <td id=\"T_52bea_row2_col3\" class=\"data row2 col3\" >0.912193</td>\n",
              "      <td id=\"T_52bea_row2_col4\" class=\"data row2 col4\" >0.820672</td>\n",
              "      <td id=\"T_52bea_row2_col5\" class=\"data row2 col5\" >0.854699</td>\n",
              "      <td id=\"T_52bea_row2_col6\" class=\"data row2 col6\" >0.627793</td>\n",
              "    </tr>\n",
              "    <tr>\n",
              "      <th id=\"T_52bea_level0_row3\" class=\"row_heading level0 row3\" >property_bedrooms</th>\n",
              "      <td id=\"T_52bea_row3_col0\" class=\"data row3 col0\" >-0.079063</td>\n",
              "      <td id=\"T_52bea_row3_col1\" class=\"data row3 col1\" >-0.025028</td>\n",
              "      <td id=\"T_52bea_row3_col2\" class=\"data row3 col2\" >0.912193</td>\n",
              "      <td id=\"T_52bea_row3_col3\" class=\"data row3 col3\" >1.000000</td>\n",
              "      <td id=\"T_52bea_row3_col4\" class=\"data row3 col4\" >0.806785</td>\n",
              "      <td id=\"T_52bea_row3_col5\" class=\"data row3 col5\" >0.843290</td>\n",
              "      <td id=\"T_52bea_row3_col6\" class=\"data row3 col6\" >0.622985</td>\n",
              "    </tr>\n",
              "    <tr>\n",
              "      <th id=\"T_52bea_level0_row4\" class=\"row_heading level0 row4\" >property_surface_total</th>\n",
              "      <td id=\"T_52bea_row4_col0\" class=\"data row4 col0\" >-0.079114</td>\n",
              "      <td id=\"T_52bea_row4_col1\" class=\"data row4 col1\" >-0.120817</td>\n",
              "      <td id=\"T_52bea_row4_col2\" class=\"data row4 col2\" >0.820672</td>\n",
              "      <td id=\"T_52bea_row4_col3\" class=\"data row4 col3\" >0.806785</td>\n",
              "      <td id=\"T_52bea_row4_col4\" class=\"data row4 col4\" >1.000000</td>\n",
              "      <td id=\"T_52bea_row4_col5\" class=\"data row4 col5\" >0.936291</td>\n",
              "      <td id=\"T_52bea_row4_col6\" class=\"data row4 col6\" >0.705222</td>\n",
              "    </tr>\n",
              "    <tr>\n",
              "      <th id=\"T_52bea_level0_row5\" class=\"row_heading level0 row5\" >property_surface_covered</th>\n",
              "      <td id=\"T_52bea_row5_col0\" class=\"data row5 col0\" >-0.062766</td>\n",
              "      <td id=\"T_52bea_row5_col1\" class=\"data row5 col1\" >-0.053173</td>\n",
              "      <td id=\"T_52bea_row5_col2\" class=\"data row5 col2\" >0.854699</td>\n",
              "      <td id=\"T_52bea_row5_col3\" class=\"data row5 col3\" >0.843290</td>\n",
              "      <td id=\"T_52bea_row5_col4\" class=\"data row5 col4\" >0.936291</td>\n",
              "      <td id=\"T_52bea_row5_col5\" class=\"data row5 col5\" >1.000000</td>\n",
              "      <td id=\"T_52bea_row5_col6\" class=\"data row5 col6\" >0.733226</td>\n",
              "    </tr>\n",
              "    <tr>\n",
              "      <th id=\"T_52bea_level0_row6\" class=\"row_heading level0 row6\" >property_price</th>\n",
              "      <td id=\"T_52bea_row6_col0\" class=\"data row6 col0\" >0.215192</td>\n",
              "      <td id=\"T_52bea_row6_col1\" class=\"data row6 col1\" >-0.042299</td>\n",
              "      <td id=\"T_52bea_row6_col2\" class=\"data row6 col2\" >0.627793</td>\n",
              "      <td id=\"T_52bea_row6_col3\" class=\"data row6 col3\" >0.622985</td>\n",
              "      <td id=\"T_52bea_row6_col4\" class=\"data row6 col4\" >0.705222</td>\n",
              "      <td id=\"T_52bea_row6_col5\" class=\"data row6 col5\" >0.733226</td>\n",
              "      <td id=\"T_52bea_row6_col6\" class=\"data row6 col6\" >1.000000</td>\n",
              "    </tr>\n",
              "  </tbody>\n",
              "</table>\n"
            ]
          },
          "metadata": {},
          "execution_count": 3
        }
      ]
    },
    {
      "cell_type": "markdown",
      "source": [
        "### Entrenamiento del modelo\n",
        "#### Entrenamiento base. Ajustamos cantidad de folds ( 13 optima )"
      ],
      "metadata": {
        "id": "BE225kqB61bI"
      }
    },
    {
      "cell_type": "code",
      "source": [
        "# Creo un modelo KNN regresor y ajustamos la cantidad de folds\n",
        "knn_regressor = KNeighborsRegressor().fit(x_train_knn, y_train_knn)\n",
        "y_pred_knn=knn_regressor.predict(x_test_knn)\n",
        "y_pred_knn\n",
        "\n",
        "\n",
        "def errores_modelo( y_pred, y_test):\n",
        "  mse = metrics.mean_squared_error(\n",
        "          y_true  = y_test_knn,\n",
        "          y_pred  = y_pred,\n",
        "          squared = True\n",
        "        )\n",
        "\n",
        "  rmse = metrics.mean_squared_error(\n",
        "          y_true  = y_test_knn,\n",
        "          y_pred  = y_pred,\n",
        "          squared = False\n",
        "         )\n",
        "\n",
        "  print(f\"El error (mse) de test es: {mse}\")\n",
        "  print(f\"El error (rmse) de test es: {rmse}\")\n",
        "\n",
        "errores_modelo( y_pred_knn, y_test_knn)\n",
        "knn_regressor.score(x_test_knn,y_test_knn)\n",
        "\n",
        "mean_scores_kfold = []\n",
        "for i in range(3,16):\n",
        "  scores = cross_val_score(knn_regressor, x_test_knn, y_test_knn, scoring=\"neg_mean_squared_error\", cv=i)\n",
        "  rmse_scores = np.sqrt(-scores)\n",
        "  print(i,\"folds:\",rmse_scores.mean())\n",
        "\n",
        "  mean_scores_kfold.append(rmse_scores.mean())\n",
        "  #print(i, \"| Mean:\", round(scores.mean(),3), \" | std:\", round(scores.std(),3))\n",
        "\n",
        "\n",
        "plt.plot(range(3,16), mean_scores_kfold, label=\"RMSE en kfolds\")\n",
        "plt.xlabel(\"Numero de folds\")\n",
        "plt.ylabel(\"RMSE\")\n",
        "plt.grid()\n",
        "plt.legend()\n",
        "plt.title(\"KNN: RMSE en función de folds\")\n",
        "plt.show()\n",
        "\n",
        "print(\"Cantidad de folds optima:\", mean_scores_kfold.index(min(mean_scores_kfold)) + 3,min(mean_scores_kfold))"
      ],
      "metadata": {
        "colab": {
          "base_uri": "https://localhost:8080/",
          "height": 750
        },
        "id": "76WiimUeliBp",
        "outputId": "797c3661-71b5-4267-e4cf-e2a65c769bb9"
      },
      "execution_count": null,
      "outputs": [
        {
          "output_type": "stream",
          "name": "stdout",
          "text": [
            "El error (mse) de test es: 1167342300.8941112\n",
            "El error (rmse) de test es: 34166.39139408947\n",
            "3 folds: 39429.40971361606\n",
            "4 folds: 39166.103980492895\n",
            "5 folds: 39063.131068747374\n",
            "6 folds: 38872.84016851\n",
            "7 folds: 38919.85067552493\n",
            "8 folds: 38831.34959813225\n",
            "9 folds: 38750.77669378834\n",
            "10 folds: 38854.13744384972\n",
            "11 folds: 38759.03114588876\n",
            "12 folds: 38789.79141210306\n",
            "13 folds: 38712.247842333985\n",
            "14 folds: 38746.67956373239\n",
            "15 folds: 38717.83958285856\n"
          ]
        },
        {
          "output_type": "display_data",
          "data": {
            "text/plain": [
              "<Figure size 640x480 with 1 Axes>"
            ],
            "image/png": "[encoded data removed]"
          },
          "metadata": {}
        },
        {
          "output_type": "stream",
          "name": "stdout",
          "text": [
            "Cantidad de folds optima: 13 38712.247842333985\n"
          ]
        }
      ]
    },
    {
      "cell_type": "markdown",
      "source": [
        "#### Ajustamos cantidad de vecinos óptima"
      ],
      "metadata": {
        "id": "xubJIFHQGGio"
      }
    },
    {
      "cell_type": "code",
      "source": [
        "# Encontrando la mejor cantidad de vecinos con minkowski p=2. Con cross validation\n",
        "def vecinos_segun_hp_cv_c_graf(pesos,algoritmo):\n",
        "  scores_entrenamiento_mean = []\n",
        "  scores_test_mean = []\n",
        "  scores_entrenamiento_std = []\n",
        "  scores_test_std = []\n",
        "\n",
        "  vecinos = np.arange(2,60,1)\n",
        "  for vecino in vecinos:\n",
        "    knn_tuning = KNeighborsRegressor(n_neighbors=vecino).fit(x_train_knn, y_train_knn)\n",
        "    cross_val_train = cross_val_score(knn_tuning, x_train_knn, y_train_knn, scoring=\"neg_mean_squared_error\", cv=13)\n",
        "    cross_val_test = cross_val_score(knn_tuning, x_test_knn, y_test_knn, scoring=\"neg_mean_squared_error\", cv=13)\n",
        "    scores_entrenamiento_mean.append(np.sqrt(-cross_val_train).mean())\n",
        "    scores_test_mean.append(np.sqrt(-cross_val_test).mean())\n",
        "    scores_entrenamiento_std.append(np.sqrt(-cross_val_train).std())\n",
        "    scores_test_std.append(np.sqrt(-cross_val_test).mean())\n",
        "\n",
        "#    print(vecino,\"vecinos | score test mean y std:\",round(np.sqrt(-cross_val_test).mean(),3),round(np.sqrt(-cross_val_test).std(),3), \"| score train mean y std: \",round(np.sqrt(-cross_val_train).mean(),3),round(np.sqrt(-cross_val_train).std(),3))\n",
        "\n",
        "\n",
        "\n",
        "  plt.plot(vecinos, scores_entrenamiento_mean, label=\"RMSE en entrenamiento\")\n",
        "  plt.plot(vecinos, scores_test_mean, label=\"RMSE en test\")\n",
        "  plt.xlabel(\"Numero de vecinos\")\n",
        "  plt.ylabel(\"RMSE\")\n",
        "  plt.legend()\n",
        "  plt.grid()\n",
        "  plt.title(\"KNN: RMSE en función de vecinos\")\n",
        "  plt.show()\n",
        "\n",
        "  print(\"Cantidad de vecinos optima:\", scores_test_mean.index(min(scores_test_mean)) + 2,min(scores_test_mean), \"Score entrenamiento: \", scores_entrenamiento_mean[scores_test_mean.index(min(scores_test_mean))])\n",
        "\n",
        "vecinos_segun_hp_cv_c_graf(\"uniform\",\"auto\")\n",
        "#vecinos_segun_hp_cv_c_graf(\"uniform\",\"brute\")\n",
        "#vecinos_segun_hp_cv_c_graf(\"distance\",\"brute\")"
      ],
      "metadata": {
        "id": "iIASNVKLw8-R",
        "outputId": "b19653a2-34af-4be4-fbd7-1fabad60d88d",
        "colab": {
          "base_uri": "https://localhost:8080/",
          "height": 489
        }
      },
      "execution_count": 4,
      "outputs": [
        {
          "output_type": "display_data",
          "data": {
            "text/plain": [
              "<Figure size 640x480 with 1 Axes>"
            ],
            "image/png": "[encoded data removed]"
          },
          "metadata": {}
        },
        {
          "output_type": "stream",
          "name": "stdout",
          "text": [
            "Cantidad de vecinos optima: 8 38349.98137521139 Score entrenamiento:  36159.022888700354\n"
          ]
        }
      ]
    },
    {
      "cell_type": "code",
      "source": [
        "# Encontrando la mejor cantidad de vecinos con minkowski p=2\n",
        "def vecinos_segun_hp(pesos,algoritmo,potencia,tamaño_hoja,cant_vecinos):\n",
        "  knn_tuning = KNeighborsRegressor(n_neighbors=cant_vecinos,weights=pesos,algorithm=algoritmo,p=potencia).fit(x_train_knn, y_train_knn)\n",
        "  print(\"Resultado en test: \",knn_tuning.score(x_test_knn,y_test_knn),\"Resultado en entrenamiento:\",knn_tuning.score(x_train_knn,y_train_knn))\n",
        "\n",
        "for i in range(1,2):\n",
        "  print(\"Potencia:\",i)\n",
        "  vecinos_segun_hp(\"uniform\",\"brute\",i,30,8)\n",
        "  vecinos_segun_hp(\"distance\",\"brute\",i,30,8)\n"
      ],
      "metadata": {
        "id": "-QeOCo1xhSWn",
        "outputId": "3227fc28-bb52-490c-f8e9-a7f3c076e948",
        "colab": {
          "base_uri": "https://localhost:8080/"
        }
      },
      "execution_count": null,
      "outputs": [
        {
          "output_type": "stream",
          "name": "stdout",
          "text": [
            "Potencia: 1\n",
            "Resultado en test:  0.6775012499353976 Resultado en entrenamiento: 0.7524697807169061\n",
            "Resultado en test:  0.750911527047413 Resultado en entrenamiento: 0.9945625195786439\n"
          ]
        }
      ]
    },
    {
      "cell_type": "markdown",
      "source": [
        "#### Análisis final de errores"
      ],
      "metadata": {
        "id": "KmqjFq1AGRYD"
      }
    },
    {
      "cell_type": "code",
      "source": [
        "# Analisis final.\n",
        "knn_final = KNeighborsRegressor(n_neighbors=8).fit(x_train_knn, y_train_knn)\n",
        "score_train = knn_final.score(x_train_knn,y_train_knn)\n",
        "score_test = knn_final.score(x_test_knn,y_test_knn)\n",
        "score_cross_validate = np.sqrt(-cross_val_score(knn_final, x_test_knn, y_test_knn, scoring=\"neg_mean_squared_error\", cv=13))\n",
        "\n",
        "errores_modelo(knn_final.predict(x_test_knn),y_test_knn)\n",
        "print(\"Entrenamiento:\",round(score_train,4),\"Test:\",round(score_test,4),\"Cross-validation\",round(score_cross_validate.mean(),2))\n"
      ],
      "metadata": {
        "id": "w_bmcVGbsf0v",
        "outputId": "9608a67e-281f-486b-b189-aed02be457cc",
        "colab": {
          "base_uri": "https://localhost:8080/"
        }
      },
      "execution_count": null,
      "outputs": [
        {
          "output_type": "stream",
          "name": "stdout",
          "text": [
            "El error (mse) de test es: 1207436769.1029618\n",
            "El error (rmse) de test es: 34748.19087525222\n",
            "Entrenamiento: 0.751 Test: 0.6766 Cross-validation 38349.98\n"
          ]
        }
      ]
    },
    {
      "cell_type": "code",
      "source": [
        "# Comparativa con modelo lineal\n",
        "lr_model = LinearRegression().fit(x_train_knn, y_train_knn)\n",
        "y_pred_lr = lr_model.predict(x_test_knn)\n",
        "\n",
        "errores_modelo( y_pred_lr, y_test_knn)\n",
        "lr_model.score(x_test_knn,y_test_knn)"
      ],
      "metadata": {
        "id": "n56sSQ8t4a-I",
        "outputId": "2b47cae6-c1b1-43e2-ad9a-f1e4568b6fe1",
        "colab": {
          "base_uri": "https://localhost:8080/"
        }
      },
      "execution_count": null,
      "outputs": [
        {
          "output_type": "stream",
          "name": "stdout",
          "text": [
            "El error (mse) de test es: 1430936225.65424\n",
            "El error (rmse) de test es: 37827.717690263045\n"
          ]
        },
        {
          "output_type": "execute_result",
          "data": {
            "text/plain": [
              "0.6167414947540028"
            ]
          },
          "metadata": {},
          "execution_count": 11
        }
      ]
    }
  ]
}
