{
  "cells": [
    {
      "cell_type": "markdown",
      "metadata": {
        "id": "view-in-github",
        "colab_type": "text"
      },
      "source": [
        "<a href=\"https://colab.research.google.com/github/sttesta3/7506R-1C2024-GRUPO08/blob/main/Pandas_TP_01_A.ipynb\" target=\"_parent\"><img src=\"https://colab.research.google.com/assets/colab-badge.svg\" alt=\"Open In Colab\"/></a>"
      ]
    },
    {
      "cell_type": "code",
      "execution_count": null,
      "metadata": {
        "id": "wYvbDLaCu2Zy",
        "colab": {
          "base_uri": "https://localhost:8080/"
        },
        "outputId": "30dc1cf2-1fd3-48a1-c357-05c8d41500ef"
      },
      "outputs": [
        {
          "output_type": "execute_result",
          "data": {
            "text/plain": [
              "(95495, 16)"
            ]
          },
          "metadata": {},
          "execution_count": 58
        }
      ],
      "source": [
        "import pandas as pd\n",
        "\n",
        "df =pd.read_csv('./datasets/prop_arg_2021_filtrado.csv')\n",
        "df.shape\n",
        "#registros originales : 460154 , columnas 20\n",
        "#registros filtrados  :  95495 , columnas 16"
      ]
    },
    {
      "cell_type": "code",
      "source": [
        "df.info()"
      ],
      "metadata": {
        "colab": {
          "base_uri": "https://localhost:8080/"
        },
        "id": "OrTBxgtnLG4J",
        "outputId": "ba4de963-5a9a-4407-d5a9-2edf0ee22fdf"
      },
      "execution_count": null,
      "outputs": [
        {
          "output_type": "stream",
          "name": "stdout",
          "text": [
            "<class 'pandas.core.frame.DataFrame'>\n",
            "RangeIndex: 95495 entries, 0 to 95494\n",
            "Data columns (total 16 columns):\n",
            " #   Column                    Non-Null Count  Dtype  \n",
            "---  ------                    --------------  -----  \n",
            " 0   id                        95495 non-null  object \n",
            " 1   start_date                95495 non-null  object \n",
            " 2   end_date                  90373 non-null  object \n",
            " 3   created_on                95495 non-null  object \n",
            " 4   latitud                   91703 non-null  float64\n",
            " 5   longitud                  91703 non-null  float64\n",
            " 6   place_l3                  95060 non-null  object \n",
            " 7   place_l4                  3725 non-null   object \n",
            " 8   property_type             95495 non-null  object \n",
            " 9   property_rooms            94398 non-null  float64\n",
            " 10  property_bedrooms         84348 non-null  float64\n",
            " 11  property_surface_total    90512 non-null  float64\n",
            " 12  property_surface_covered  92059 non-null  float64\n",
            " 13  property_price            94306 non-null  float64\n",
            " 14  property_currency         95495 non-null  object \n",
            " 15  property_title            95495 non-null  object \n",
            "dtypes: float64(7), object(9)\n",
            "memory usage: 11.7+ MB\n"
          ]
        }
      ]
    },
    {
      "cell_type": "code",
      "source": [
        "'''\n",
        "L3 = Barrio\n",
        "L4 = Sub barrio de Palermo\n",
        "'''"
      ],
      "metadata": {
        "colab": {
          "base_uri": "https://localhost:8080/",
          "height": 35
        },
        "id": "iIuk1JQeLHs3",
        "outputId": "bd8462f6-4e8e-468d-b5dc-24b61623837b"
      },
      "execution_count": null,
      "outputs": [
        {
          "output_type": "execute_result",
          "data": {
            "text/plain": [
              "'\\nL3 = Barrio\\nL4 = Sub barrio de Palermo\\n'"
            ],
            "application/vnd.google.colaboratory.intrinsic+json": {
              "type": "string"
            }
          },
          "metadata": {},
          "execution_count": 60
        }
      ]
    },
    {
      "cell_type": "code",
      "source": [
        "#si la columna   'place_l3' (Barrio)   tiene 0 NaN\n",
        "df.place_l3.isnull().sum()"
      ],
      "metadata": {
        "colab": {
          "base_uri": "https://localhost:8080/"
        },
        "id": "9c7ThdzwNAit",
        "outputId": "4a09ab6c-a5ea-48e4-e814-9fd5d5c72a9a"
      },
      "execution_count": null,
      "outputs": [
        {
          "output_type": "execute_result",
          "data": {
            "text/plain": [
              "435"
            ]
          },
          "metadata": {},
          "execution_count": 61
        }
      ]
    },
    {
      "cell_type": "code",
      "source": [
        "#A los NaN los coloco en la categoria 'Barrio SinDefinir'\n",
        "df['place_l3'].fillna('Barrio SinDefinir', inplace=True)\n",
        "'''ejecutar antes de categorizar, parapoder cambiar los NaN'''"
      ],
      "metadata": {
        "colab": {
          "base_uri": "https://localhost:8080/",
          "height": 35
        },
        "id": "5xknfjtWOv5I",
        "outputId": "64db7192-a95d-48fc-fc7c-4862615805c0"
      },
      "execution_count": null,
      "outputs": [
        {
          "output_type": "execute_result",
          "data": {
            "text/plain": [
              "'ejecutar antes de categorizar, parapoder cambiar los NaN'"
            ],
            "application/vnd.google.colaboratory.intrinsic+json": {
              "type": "string"
            }
          },
          "metadata": {},
          "execution_count": 62
        }
      ]
    },
    {
      "cell_type": "code",
      "source": [
        "df.place_l3.value_counts()"
      ],
      "metadata": {
        "colab": {
          "base_uri": "https://localhost:8080/"
        },
        "id": "JHHC3GnDNzo1",
        "outputId": "f3a28811-fdb5-4f10-eb20-62e57cdb606c"
      },
      "execution_count": null,
      "outputs": [
        {
          "output_type": "execute_result",
          "data": {
            "text/plain": [
              "place_l3\n",
              "Palermo                 14534\n",
              "Belgrano                 9038\n",
              "Caballito                7238\n",
              "Recoleta                 6412\n",
              "Villa Urquiza            4749\n",
              "Almagro                  4119\n",
              "Nuñez                    3587\n",
              "Villa Crespo             3206\n",
              "Flores                   3153\n",
              "Barrio Norte             3007\n",
              "Balvanera                2572\n",
              "Colegiales               1964\n",
              "Villa Devoto             1964\n",
              "Villa del Parque         1842\n",
              "Saavedra                 1838\n",
              "Puerto Madero            1542\n",
              "San Telmo                1396\n",
              "San Cristobal            1311\n",
              "San Nicolás              1304\n",
              "Retiro                   1275\n",
              "Barracas                 1261\n",
              "Boedo                    1252\n",
              "Floresta                 1211\n",
              "Monserrat                1123\n",
              "Parque Chacabuco         1085\n",
              "Villa Pueyrredón         1018\n",
              "Coghlan                   993\n",
              "Villa Luro                747\n",
              "Mataderos                 726\n",
              "Chacarita                 704\n",
              "Liniers                   675\n",
              "Villa Ortuzar             665\n",
              "Parque Patricios          645\n",
              "Villa Lugano              617\n",
              "Paternal                  570\n",
              "Congreso                  544\n",
              "Monte Castro              505\n",
              "Constitución              453\n",
              "Villa General Mitre       444\n",
              "Villa Santa Rita          441\n",
              "Barrio SinDefinir         435\n",
              "Once                      418\n",
              "Parque Chas               384\n",
              "Parque Avellaneda         383\n",
              "Boca                      365\n",
              "Versalles                 319\n",
              "Velez Sarsfield           244\n",
              "Agronomía                 236\n",
              "Abasto                    233\n",
              "Pompeya                   219\n",
              "Villa Real                143\n",
              "Tribunales                116\n",
              "Parque Centenario          93\n",
              "Centro / Microcentro       77\n",
              "Villa Soldati              45\n",
              "Villa Riachuelo            35\n",
              "Las Cañitas                13\n",
              "Catalinas                   7\n",
              "Name: count, dtype: int64"
            ]
          },
          "metadata": {},
          "execution_count": 63
        }
      ]
    },
    {
      "cell_type": "code",
      "source": [
        "#place_l3 lo paso a Dtype Category\n",
        "df.place_l3 = pd.Categorical(df.place_l3)\n",
        "df.info()"
      ],
      "metadata": {
        "colab": {
          "base_uri": "https://localhost:8080/"
        },
        "id": "HvssQW_MOb6V",
        "outputId": "c3d96b4d-17c1-45f6-9f26-9501162ad689"
      },
      "execution_count": null,
      "outputs": [
        {
          "output_type": "stream",
          "name": "stdout",
          "text": [
            "<class 'pandas.core.frame.DataFrame'>\n",
            "RangeIndex: 95495 entries, 0 to 95494\n",
            "Data columns (total 16 columns):\n",
            " #   Column                    Non-Null Count  Dtype   \n",
            "---  ------                    --------------  -----   \n",
            " 0   id                        95495 non-null  object  \n",
            " 1   start_date                95495 non-null  object  \n",
            " 2   end_date                  90373 non-null  object  \n",
            " 3   created_on                95495 non-null  object  \n",
            " 4   latitud                   91703 non-null  float64 \n",
            " 5   longitud                  91703 non-null  float64 \n",
            " 6   place_l3                  95495 non-null  category\n",
            " 7   place_l4                  3725 non-null   object  \n",
            " 8   property_type             95495 non-null  object  \n",
            " 9   property_rooms            94398 non-null  float64 \n",
            " 10  property_bedrooms         84348 non-null  float64 \n",
            " 11  property_surface_total    90512 non-null  float64 \n",
            " 12  property_surface_covered  92059 non-null  float64 \n",
            " 13  property_price            94306 non-null  float64 \n",
            " 14  property_currency         95495 non-null  object  \n",
            " 15  property_title            95495 non-null  object  \n",
            "dtypes: category(1), float64(7), object(8)\n",
            "memory usage: 11.0+ MB\n"
          ]
        }
      ]
    },
    {
      "cell_type": "code",
      "source": [
        "'''\n",
        "L4 = Sub barrio de Palermo\n",
        "'''\n",
        "#si la columna   'place_l4' (Sub barrio de Palermo)  tiene 91770 NaN\n",
        "df.place_l4.isnull().sum()"
      ],
      "metadata": {
        "colab": {
          "base_uri": "https://localhost:8080/"
        },
        "id": "BtbcAhOqNApQ",
        "outputId": "c0b026a7-7014-488c-f9f6-d29f9692eb63"
      },
      "execution_count": null,
      "outputs": [
        {
          "output_type": "execute_result",
          "data": {
            "text/plain": [
              "91770"
            ]
          },
          "metadata": {},
          "execution_count": 65
        }
      ]
    },
    {
      "cell_type": "code",
      "source": [
        "#A los NaN los coloco en la categoria 'Barrio privado SinDefinir'\n",
        "df['place_l4'].fillna('Sub barrio SinDefinir', inplace=True)\n",
        "'''ejecutar antes de categorizar, parapoder cambiar los NaN'''"
      ],
      "metadata": {
        "colab": {
          "base_uri": "https://localhost:8080/",
          "height": 35
        },
        "id": "U3tKpS0lPPCh",
        "outputId": "a21f963f-b80b-45fe-c177-88d9f89a5c47"
      },
      "execution_count": null,
      "outputs": [
        {
          "output_type": "execute_result",
          "data": {
            "text/plain": [
              "'ejecutar antes de categorizar, parapoder cambiar los NaN'"
            ],
            "application/vnd.google.colaboratory.intrinsic+json": {
              "type": "string"
            }
          },
          "metadata": {},
          "execution_count": 66
        }
      ]
    },
    {
      "cell_type": "code",
      "source": [
        "df.place_l4.value_counts()"
      ],
      "metadata": {
        "colab": {
          "base_uri": "https://localhost:8080/"
        },
        "id": "NtqIFMhaP6VH",
        "outputId": "c178abd4-3265-45c5-a6dc-8dc152477b15"
      },
      "execution_count": null,
      "outputs": [
        {
          "output_type": "execute_result",
          "data": {
            "text/plain": [
              "place_l4\n",
              "Sub barrio SinDefinir    91770\n",
              "Palermo Hollywood         1585\n",
              "Palermo Chico             1147\n",
              "Palermo Soho               821\n",
              "Palermo Viejo              172\n",
              "Name: count, dtype: int64"
            ]
          },
          "metadata": {},
          "execution_count": 67
        }
      ]
    },
    {
      "cell_type": "code",
      "source": [
        "#place_l4 lo paso a Dtype Category\n",
        "df.place_l4 = pd.Categorical(df.place_l4)\n",
        "df.info()"
      ],
      "metadata": {
        "colab": {
          "base_uri": "https://localhost:8080/"
        },
        "id": "jL_rNsKzP6C9",
        "outputId": "c9b70798-3ee2-4e6d-f557-8b40254049f7"
      },
      "execution_count": null,
      "outputs": [
        {
          "output_type": "stream",
          "name": "stdout",
          "text": [
            "<class 'pandas.core.frame.DataFrame'>\n",
            "RangeIndex: 95495 entries, 0 to 95494\n",
            "Data columns (total 16 columns):\n",
            " #   Column                    Non-Null Count  Dtype   \n",
            "---  ------                    --------------  -----   \n",
            " 0   id                        95495 non-null  object  \n",
            " 1   start_date                95495 non-null  object  \n",
            " 2   end_date                  90373 non-null  object  \n",
            " 3   created_on                95495 non-null  object  \n",
            " 4   latitud                   91703 non-null  float64 \n",
            " 5   longitud                  91703 non-null  float64 \n",
            " 6   place_l3                  95495 non-null  category\n",
            " 7   place_l4                  95495 non-null  category\n",
            " 8   property_type             95495 non-null  object  \n",
            " 9   property_rooms            94398 non-null  float64 \n",
            " 10  property_bedrooms         84348 non-null  float64 \n",
            " 11  property_surface_total    90512 non-null  float64 \n",
            " 12  property_surface_covered  92059 non-null  float64 \n",
            " 13  property_price            94306 non-null  float64 \n",
            " 14  property_currency         95495 non-null  object  \n",
            " 15  property_title            95495 non-null  object  \n",
            "dtypes: category(2), float64(7), object(7)\n",
            "memory usage: 10.4+ MB\n"
          ]
        }
      ]
    },
    {
      "cell_type": "code",
      "source": [
        "'''\n",
        "#convertir las columnas a sus tipo de datos\n",
        "#convertir las fechas\n",
        "df['start_date'] = pd.to_datetime(df['start_date'], errors = 'coerce')\n",
        "df['end_date'] = pd.to_datetime(df['end_date'], errors = 'coerce')\n",
        "df['created_on'] = pd.to_datetime(df['created_on'], errors = 'coerce')\n",
        "df.info()\n",
        "'''"
      ],
      "metadata": {
        "colab": {
          "base_uri": "https://localhost:8080/",
          "height": 70
        },
        "id": "D9ZuOVVESLvR",
        "outputId": "8e3c1f4d-4b3e-41b0-a45a-2e4a2e804971"
      },
      "execution_count": null,
      "outputs": [
        {
          "output_type": "execute_result",
          "data": {
            "text/plain": [
              "\"\\n#convertir las columnas a sus tipo de datos\\n#convertir las fechas\\ndf['start_date'] = pd.to_datetime(df['start_date'], errors = 'coerce')\\ndf['end_date'] = pd.to_datetime(df['end_date'], errors = 'coerce')\\ndf['created_on'] = pd.to_datetime(df['created_on'], errors = 'coerce')\\ndf.info()\\n\""
            ],
            "application/vnd.google.colaboratory.intrinsic+json": {
              "type": "string"
            }
          },
          "metadata": {},
          "execution_count": 69
        }
      ]
    },
    {
      "cell_type": "code",
      "source": [
        "#La columna   'property_type'(tipo: casa,ph,dep,,,)   tiene 0 NaN\n",
        "df.property_type.isnull().sum()"
      ],
      "metadata": {
        "colab": {
          "base_uri": "https://localhost:8080/"
        },
        "id": "y9cx5Z40SZUs",
        "outputId": "8ae85860-a13d-46a6-9590-35411e6e326e"
      },
      "execution_count": null,
      "outputs": [
        {
          "output_type": "execute_result",
          "data": {
            "text/plain": [
              "0"
            ]
          },
          "metadata": {},
          "execution_count": 70
        }
      ]
    },
    {
      "cell_type": "code",
      "source": [
        "df.property_type.value_counts()"
      ],
      "metadata": {
        "colab": {
          "base_uri": "https://localhost:8080/"
        },
        "id": "DsXUd-GfSbWi",
        "outputId": "c746e7ed-0cea-4a52-8e8a-ca822adcb3ce"
      },
      "execution_count": null,
      "outputs": [
        {
          "output_type": "execute_result",
          "data": {
            "text/plain": [
              "property_type\n",
              "Departamento    81871\n",
              "PH               9332\n",
              "Casa             4292\n",
              "Name: count, dtype: int64"
            ]
          },
          "metadata": {},
          "execution_count": 71
        }
      ]
    },
    {
      "cell_type": "code",
      "source": [
        "#property_type lo paso a Dtype Category\n",
        "df.property_type = pd.Categorical(df.property_type)\n",
        "df.info()"
      ],
      "metadata": {
        "colab": {
          "base_uri": "https://localhost:8080/"
        },
        "id": "VlMwswm8Sevx",
        "outputId": "95e2c410-f54b-4b3e-e18e-e8d337f41748"
      },
      "execution_count": null,
      "outputs": [
        {
          "output_type": "stream",
          "name": "stdout",
          "text": [
            "<class 'pandas.core.frame.DataFrame'>\n",
            "RangeIndex: 95495 entries, 0 to 95494\n",
            "Data columns (total 16 columns):\n",
            " #   Column                    Non-Null Count  Dtype   \n",
            "---  ------                    --------------  -----   \n",
            " 0   id                        95495 non-null  object  \n",
            " 1   start_date                95495 non-null  object  \n",
            " 2   end_date                  90373 non-null  object  \n",
            " 3   created_on                95495 non-null  object  \n",
            " 4   latitud                   91703 non-null  float64 \n",
            " 5   longitud                  91703 non-null  float64 \n",
            " 6   place_l3                  95495 non-null  category\n",
            " 7   place_l4                  95495 non-null  category\n",
            " 8   property_type             95495 non-null  category\n",
            " 9   property_rooms            94398 non-null  float64 \n",
            " 10  property_bedrooms         84348 non-null  float64 \n",
            " 11  property_surface_total    90512 non-null  float64 \n",
            " 12  property_surface_covered  92059 non-null  float64 \n",
            " 13  property_price            94306 non-null  float64 \n",
            " 14  property_currency         95495 non-null  object  \n",
            " 15  property_title            95495 non-null  object  \n",
            "dtypes: category(3), float64(7), object(6)\n",
            "memory usage: 9.7+ MB\n"
          ]
        }
      ]
    },
    {
      "cell_type": "code",
      "source": [
        "#si la columna   'property_currency'(moneda)   tiene NaN\n",
        "df.property_currency.isnull().sum()"
      ],
      "metadata": {
        "colab": {
          "base_uri": "https://localhost:8080/"
        },
        "id": "oY6dBmbASh_k",
        "outputId": "8e388d3a-b29c-42e9-9dd7-20381be49589"
      },
      "execution_count": null,
      "outputs": [
        {
          "output_type": "execute_result",
          "data": {
            "text/plain": [
              "0"
            ]
          },
          "metadata": {},
          "execution_count": 73
        }
      ]
    },
    {
      "cell_type": "code",
      "source": [
        "# tiene 94249 USD + 1246 SinDefinir  = 95495 registros totales\n",
        "'''cambiar a --------Moneda SinDefinir ------------'''\n",
        "df.property_currency.value_counts()"
      ],
      "metadata": {
        "colab": {
          "base_uri": "https://localhost:8080/"
        },
        "id": "e453LB3PSo7i",
        "outputId": "6d55df8c-b0b7-482e-92cc-94d756d455ab"
      },
      "execution_count": null,
      "outputs": [
        {
          "output_type": "execute_result",
          "data": {
            "text/plain": [
              "property_currency\n",
              "USD           94249\n",
              "SinDefinir     1246\n",
              "Name: count, dtype: int64"
            ]
          },
          "metadata": {},
          "execution_count": 74
        }
      ]
    },
    {
      "cell_type": "code",
      "source": [
        "#property_type lo paso a Dtype Category\n",
        "df.property_currency = pd.Categorical(df.property_currency)\n",
        "df.info()"
      ],
      "metadata": {
        "colab": {
          "base_uri": "https://localhost:8080/"
        },
        "id": "KVn8bcjaSqtj",
        "outputId": "11237695-6e51-4e81-8d7c-4f823c02b11e"
      },
      "execution_count": null,
      "outputs": [
        {
          "output_type": "stream",
          "name": "stdout",
          "text": [
            "<class 'pandas.core.frame.DataFrame'>\n",
            "RangeIndex: 95495 entries, 0 to 95494\n",
            "Data columns (total 16 columns):\n",
            " #   Column                    Non-Null Count  Dtype   \n",
            "---  ------                    --------------  -----   \n",
            " 0   id                        95495 non-null  object  \n",
            " 1   start_date                95495 non-null  object  \n",
            " 2   end_date                  90373 non-null  object  \n",
            " 3   created_on                95495 non-null  object  \n",
            " 4   latitud                   91703 non-null  float64 \n",
            " 5   longitud                  91703 non-null  float64 \n",
            " 6   place_l3                  95495 non-null  category\n",
            " 7   place_l4                  95495 non-null  category\n",
            " 8   property_type             95495 non-null  category\n",
            " 9   property_rooms            94398 non-null  float64 \n",
            " 10  property_bedrooms         84348 non-null  float64 \n",
            " 11  property_surface_total    90512 non-null  float64 \n",
            " 12  property_surface_covered  92059 non-null  float64 \n",
            " 13  property_price            94306 non-null  float64 \n",
            " 14  property_currency         95495 non-null  category\n",
            " 15  property_title            95495 non-null  object  \n",
            "dtypes: category(4), float64(7), object(5)\n",
            "memory usage: 9.1+ MB\n"
          ]
        }
      ]
    },
    {
      "cell_type": "code",
      "source": [
        "# Sin hay ID repetidos\n",
        "''' No hay id repetidos Lengh 95495 registros'''\n",
        "df.id.value_counts()"
      ],
      "metadata": {
        "colab": {
          "base_uri": "https://localhost:8080/"
        },
        "id": "gubLsAfvYzUK",
        "outputId": "64313e0d-5798-4e57-f68d-4ee9652a1002"
      },
      "execution_count": null,
      "outputs": [
        {
          "output_type": "execute_result",
          "data": {
            "text/plain": [
              "id\n",
              "CyZu6IaZgmQYGk8jmPajCg==    1\n",
              "2EJoSxf3DGe4vWCQ0Qieug==    1\n",
              "qTFXbqLzlOptfACpBv1t1Q==    1\n",
              "lCaRBzaOj7liQTERwx9LsQ==    1\n",
              "KDLHDiuBWlbnMJfODEPXhw==    1\n",
              "                           ..\n",
              "8uUAjIjppIKm3U0+u3rJRA==    1\n",
              "pCi1fMN2ybNXbOLfdNXUyA==    1\n",
              "lnvX18r3sCnkYO0MFod7HQ==    1\n",
              "iuTlhhT4CER/0UILFzL1HA==    1\n",
              "9OVDfhoDvkY4rr/SX0ggVw==    1\n",
              "Name: count, Length: 95495, dtype: int64"
            ]
          },
          "metadata": {},
          "execution_count": 76
        }
      ]
    },
    {
      "cell_type": "code",
      "source": [
        "'''\n",
        "<class 'pandas.core.frame.DataFrame'>\n",
        "RangeIndex: 95495 entries, 0 to 95494\n",
        "Data columns (total 16 columns):\n",
        " #   Column                    Non-Null Count  Dtype\n",
        "---  ------                    --------------  -----\n",
        " 0   id                        95495 non-null  object           Nº id unico\n",
        " 1   start_date                95495 non-null  datetime64[ns]   fecha ini             #time\n",
        " 2   end_date                  90373 non-null  datetime64[ns]   fecha fin             #time\n",
        " 3   created_on                95495 non-null  datetime64[ns]   fecha creacion        #time\n",
        " 4   latitud                   91703 non-null  float64          Nº coordenada\n",
        " 5   longitud                  91703 non-null  float64          Nº coordenada\n",
        " 6   place_l3                  95495 non-null  category         CAT Barrios de CABA\n",
        " 7   place_l4                  95495 non-null  category         CAT Sub barrios\n",
        " 8   property_type             95495 non-null  category         CAT Casa, Dep, PH\n",
        " 9   property_rooms            94398 non-null  float64          Nº ambientes\n",
        " 10  property_bedrooms         84348 non-null  float64          Nº dormitorio\n",
        " 11  property_surface_total    90512 non-null  float64          Nº superficie total\n",
        " 12  property_surface_covered  92059 non-null  float64          Nº superficie cubierta(construida)\n",
        " 13  property_price            94306 non-null  float64          Nº Precio\n",
        " 14  property_currency         95495 non-null  category         CAT Moneda\n",
        " 15  property_title            95495 non-null  object           String (Titulo para redes sociales)\n",
        "dtypes: category(4), datetime64[ns](3), float64(7), object(2)\n",
        "memory usage: 9.1+ MB\n",
        "\n",
        "'''"
      ],
      "metadata": {
        "id": "e3ARxj3XT3By",
        "colab": {
          "base_uri": "https://localhost:8080/",
          "height": 157
        },
        "outputId": "6e0576a2-bb77-448d-f616-36529b1dffcc"
      },
      "execution_count": null,
      "outputs": [
        {
          "output_type": "execute_result",
          "data": {
            "text/plain": [
              "\"\\n<class 'pandas.core.frame.DataFrame'>\\nRangeIndex: 95495 entries, 0 to 95494\\nData columns (total 16 columns):\\n #   Column                    Non-Null Count  Dtype\\n---  ------                    --------------  -----\\n 0   id                        95495 non-null  object           Nº id unico\\n 1   start_date                95495 non-null  datetime64[ns]   fecha ini             #time\\n 2   end_date                  90373 non-null  datetime64[ns]   fecha fin             #time\\n 3   created_on                95495 non-null  datetime64[ns]   fecha creacion        #time\\n 4   latitud                   91703 non-null  float64          Nº coordenada\\n 5   longitud                  91703 non-null  float64          Nº coordenada\\n 6   place_l3                  95495 non-null  category         CAT Barrios de CABA\\n 7   place_l4                  95495 non-null  category         CAT Sub barrios\\n 8   property_type             95495 non-null  category         CAT Casa, Dep, PH\\n 9   property_rooms            94398 non-null  float64          Nº ambientes\\n 10  property_bedrooms         84348 non-null  float64          Nº dormitorio\\n 11  property_surface_total    90512 non-null  float64          Nº superficie total\\n 12  property_surface_covered  92059 non-null  float64          Nº superficie cubierta(construida)\\n 13  property_price            94306 non-null  float64          Nº Precio\\n 14  property_currency         95495 non-null  category         CAT Moneda\\n 15  property_title            95495 non-null  object           String (Titulo para redes sociales)\\ndtypes: category(4), datetime64[ns](3), float64(7), object(2)\\nmemory usage: 9.1+ MB\\n\\n\""
            ],
            "application/vnd.google.colaboratory.intrinsic+json": {
              "type": "string"
            }
          },
          "metadata": {},
          "execution_count": 77
        }
      ]
    },
    {
      "cell_type": "code",
      "source": [
        "#Variables CUALITATIVAS\n",
        "#(Texto[nominales,ordinales], Numerica[nominales,ordinales])   .value_count()\n",
        "'''\n",
        "Cualitativas\n",
        "    TEXTO Nominales\n",
        "        6  place_l3                   CAT Barrios de CABA\n",
        "        7  place_l4                   CAT Sub barrios\n",
        "        8  property_type              CAT Casa, Dep, PH\n",
        "        14 property_currency          CAT Moneda\n",
        "        15 property_title             String (Titulo para redes sociales)\n",
        "    TEXTO Ordinales\n",
        "        -\n",
        "    NUMERICAS Nominales\n",
        "        0  id                         Nº id unico\n",
        "    NUMERICAS Ordinales\n",
        "        4  latitud                    Nº coordenada\n",
        "        5  longitud                   Nº coordenada\n",
        "\n",
        "'''\n",
        "#Variables CUANTITATIVAS\n",
        "#(Discreta, Continua)   .describe()\n",
        "'''\n",
        "Cuantitativas\n",
        "    DISCRETA\n",
        "        9  property_rooms             Nº ambientes\n",
        "        10 property_bedrooms          Nº dormitorio\n",
        "\n",
        "    CONTINUA\n",
        "        1  start_date                 fecha ini             #time\n",
        "        2  end_date                   fecha fin             #time\n",
        "        3  created_on                 fecha creacion        #time\n",
        "        11 property_surface_total     Nº superficie total\n",
        "        12 property_surface_covered   Nº superficie cubierta(construida)\n",
        "        13 property_price             Nº Precio\n",
        "\n",
        "'''"
      ],
      "metadata": {
        "id": "oKnjDw6sT9DF",
        "colab": {
          "base_uri": "https://localhost:8080/",
          "height": 104
        },
        "outputId": "7ae3a8cf-d8ca-4b74-d3b1-818f120b1873"
      },
      "execution_count": null,
      "outputs": [
        {
          "output_type": "execute_result",
          "data": {
            "text/plain": [
              "'\\nCuantitativas\\n    DISCRETA\\n        9  property_rooms             Nº ambientes\\n        10 property_bedrooms          Nº dormitorio\\n\\n    CONTINUA\\n        1  start_date                 fecha ini             #time\\n        2  end_date                   fecha fin             #time\\n        3  created_on                 fecha creacion        #time\\n        11 property_surface_total     Nº superficie total\\n        12 property_surface_covered   Nº superficie cubierta(construida)\\n        13 property_price             Nº Precio\\n\\n'"
            ],
            "application/vnd.google.colaboratory.intrinsic+json": {
              "type": "string"
            }
          },
          "metadata": {},
          "execution_count": 78
        }
      ]
    },
    {
      "cell_type": "markdown",
      "source": [
        "1) a) EXPLORACION INICIAL\n",
        "\n",
        "\n",
        "*   # Variables Cuantitativas: calcular medidas de resumen : media, mediana, moda, etc.\n",
        "*   # Variables Cualitativas: mostrar cantidad de valores posibles, y frecuencias de cada uno.\n",
        "*   # Determinar vriables irrelevantes en el análisis\n",
        "*   # Realizar un análisis gráfico de las distribuciones de las variables más relevantes\n",
        "*   # Analizar las correlaciones existentes entre las variables\n",
        "\n"
      ],
      "metadata": {
        "id": "Rr1leRvWY7pA"
      }
    },
    {
      "cell_type": "code",
      "source": [
        "# Variables Cuantitativas: calcular medidas de resumen : media, mediana, moda, etc."
      ],
      "metadata": {
        "id": "qrUiLinCW4r8"
      },
      "execution_count": null,
      "outputs": []
    },
    {
      "cell_type": "code",
      "source": [
        "# Me fijo si las fechas start_date son todas del 2021\n",
        "(df['start_date'] >= '2021-01-01').sum()"
      ],
      "metadata": {
        "colab": {
          "base_uri": "https://localhost:8080/"
        },
        "id": "GI_ht-XVJNi-",
        "outputId": "2f69a20d-7a31-4dce-9093-fc5ccfaa235e"
      },
      "execution_count": null,
      "outputs": [
        {
          "output_type": "execute_result",
          "data": {
            "text/plain": [
              "95495"
            ]
          },
          "metadata": {},
          "execution_count": 80
        }
      ]
    },
    {
      "cell_type": "code",
      "source": [
        "(df['start_date'] <= '2021-12-31').sum()"
      ],
      "metadata": {
        "colab": {
          "base_uri": "https://localhost:8080/"
        },
        "id": "TtSpHc5aGX9H",
        "outputId": "ad3abbb0-22a5-477d-d21d-d8c9d69d6810"
      },
      "execution_count": null,
      "outputs": [
        {
          "output_type": "execute_result",
          "data": {
            "text/plain": [
              "95495"
            ]
          },
          "metadata": {},
          "execution_count": 81
        }
      ]
    },
    {
      "cell_type": "code",
      "source": [
        "# separar las fechas y tomar relevantes el mes, el año es 2021 siempres.\n",
        "# descartar días es irrelevante"
      ],
      "metadata": {
        "id": "pmp4RXUcuv9t"
      },
      "execution_count": null,
      "outputs": []
    },
    {
      "cell_type": "code",
      "source": [
        "# divido la fecha en columnas 'anio','mes',dia'\n",
        "# Que pasa si la fecha es invalida ???\n",
        "import numpy as np\n",
        "import datetime\n",
        "\n",
        "df[['year_start','month_start','day_start']] = df['start_date'].str.split('-',expand=True)\n",
        "df.drop(columns ='start_date', inplace=True)\n",
        "df.drop(columns ='year_start', inplace=True)\n",
        "df.drop(columns ='day_start', inplace=True)"
      ],
      "metadata": {
        "id": "b1imR3wVGjG6"
      },
      "execution_count": null,
      "outputs": []
    },
    {
      "cell_type": "code",
      "source": [
        "df[['year_end','month_end','day_end']] = df['end_date'].str.split('-',expand=True)\n",
        "df.drop(columns ='end_date', inplace=True)\n",
        "df.drop(columns ='year_end', inplace=True)\n",
        "df.drop(columns ='day_end', inplace=True)"
      ],
      "metadata": {
        "id": "_9Yul1u4LNnI"
      },
      "execution_count": null,
      "outputs": []
    },
    {
      "cell_type": "code",
      "source": [
        "df[['year_on','month_on','day_on']] = df['created_on'].str.split('-',expand=True)\n",
        "df.drop(columns ='created_on', inplace=True)\n",
        "df.drop(columns ='year_on', inplace=True)\n",
        "df.drop(columns ='day_on', inplace=True)"
      ],
      "metadata": {
        "id": "pGeCGP2sJtCd"
      },
      "execution_count": null,
      "outputs": []
    },
    {
      "cell_type": "code",
      "source": [
        "df"
      ],
      "metadata": {
        "colab": {
          "base_uri": "https://localhost:8080/",
          "height": 860
        },
        "id": "m3gEX2CCLrx4",
        "outputId": "2964b40a-6693-4288-d9a1-6f45f0e73aaa"
      },
      "execution_count": null,
      "outputs": [
        {
          "output_type": "execute_result",
          "data": {
            "text/plain": [
              "                             id    latitud   longitud              place_l3  \\\n",
              "0      CyZu6IaZgmQYGk8jmPajCg==        NaN        NaN     Barrio SinDefinir   \n",
              "1      d3Z0MblSb2IMBoOBMGJEEQ== -34.637319 -58.361124                  Boca   \n",
              "2      rL7qPkQnomsMGu2ViS3sBw== -34.628647 -58.361871                  Boca   \n",
              "3      IfZHM0GX583/RU9QQb8Orw== -34.599506 -58.404138                  Once   \n",
              "4      vuX/ccLAMVml4qWRFcOJUA== -34.610027 -58.401934                  Once   \n",
              "...                         ...        ...        ...                   ...   \n",
              "95490  v4f5Un9jO7hsD02MWLkKBQ== -34.603245 -58.489810      Villa del Parque   \n",
              "95491  Aq/Z+XyS8FHbOOxed4xtTw== -34.614063 -58.482814      Villa del Parque   \n",
              "95492  Rmamz8v4Wkh5xF7PA59Jqw== -34.614175 -58.479062      Villa del Parque   \n",
              "95493  7yl8Dfx5wobH21YdMU+Kgg== -34.614175 -58.479062      Villa del Parque   \n",
              "95494  9OVDfhoDvkY4rr/SX0ggVw== -34.599790 -58.373411  Centro / Microcentro   \n",
              "\n",
              "                    place_l4 property_type  property_rooms  property_bedrooms  \\\n",
              "0      Sub barrio SinDefinir          Casa             4.0                3.0   \n",
              "1      Sub barrio SinDefinir  Departamento             3.0                2.0   \n",
              "2      Sub barrio SinDefinir  Departamento             4.0                3.0   \n",
              "3      Sub barrio SinDefinir  Departamento             2.0                1.0   \n",
              "4      Sub barrio SinDefinir  Departamento             4.0                2.0   \n",
              "...                      ...           ...             ...                ...   \n",
              "95490  Sub barrio SinDefinir  Departamento             4.0                3.0   \n",
              "95491  Sub barrio SinDefinir  Departamento             3.0                2.0   \n",
              "95492  Sub barrio SinDefinir  Departamento             1.0                1.0   \n",
              "95493  Sub barrio SinDefinir  Departamento             1.0                1.0   \n",
              "95494  Sub barrio SinDefinir  Departamento             2.0                1.0   \n",
              "\n",
              "       property_surface_total  property_surface_covered  property_price  \\\n",
              "0                       171.0                     133.0        210000.0   \n",
              "1                        58.0                      55.0         82900.0   \n",
              "2                        70.0                      70.0         99000.0   \n",
              "3                        43.0                      43.0             NaN   \n",
              "4                         NaN                     104.0        146000.0   \n",
              "...                       ...                       ...             ...   \n",
              "95490                   130.0                     100.0        220000.0   \n",
              "95491                    68.0                      60.0        161000.0   \n",
              "95492                    51.0                      30.0         75500.0   \n",
              "95493                    37.0                      31.0         74500.0   \n",
              "95494                    84.0                      84.0        135000.0   \n",
              "\n",
              "      property_currency                                     property_title  \\\n",
              "0                   USD        VENTA CASA LLAVE EN MANO - COSTA ESMERALDA    \n",
              "1                   USD             VENTA TRES AMBIENTES LA BOCA PISO ALTO   \n",
              "2                   USD         Departamento - 4 Ambientes - Catalinas Sur   \n",
              "3            SinDefinir                                Av Puyrredon al 924   \n",
              "4                   USD                Venta departamento 4 ambientes Once   \n",
              "...                 ...                                                ...   \n",
              "95490               USD      Espectacular 4 amb130m2 con Balcon Terraza!!!   \n",
              "95491               USD        3 ambientes con cochera listo para habitar!   \n",
              "95492               USD  VENTA MONOAMBIENTE CON PATIO SOL DE MAÑANA ///...   \n",
              "95493               USD  VENTA MONOAMBIENTE APAISADO y DIVISIBLE AL CF ...   \n",
              "95494               USD               VENTA DEPTO 2 1/2 AMBIENTES - CENTRO   \n",
              "\n",
              "      month_start month_end month_on  \n",
              "0              09        09       09  \n",
              "1              09        09       09  \n",
              "2              09        09       09  \n",
              "3              09        03       09  \n",
              "4              09        01       09  \n",
              "...           ...       ...      ...  \n",
              "95490          01        09       01  \n",
              "95491          01        02       01  \n",
              "95492          01        01       01  \n",
              "95493          01        01       01  \n",
              "95494          01        01       01  \n",
              "\n",
              "[95495 rows x 16 columns]"
            ],
            "text/html": [
              "\n",
              "  <div id=\"df-052464df-baf7-4f64-976b-aec2109e81ee\" class=\"colab-df-container\">\n",
              "    <div>\n",
              "<style scoped>\n",
              "    .dataframe tbody tr th:only-of-type {\n",
              "        vertical-align: middle;\n",
              "    }\n",
              "\n",
              "    .dataframe tbody tr th {\n",
              "        vertical-align: top;\n",
              "    }\n",
              "\n",
              "    .dataframe thead th {\n",
              "        text-align: right;\n",
              "    }\n",
              "</style>\n",
              "<table border=\"1\" class=\"dataframe\">\n",
              "  <thead>\n",
              "    <tr style=\"text-align: right;\">\n",
              "      <th></th>\n",
              "      <th>id</th>\n",
              "      <th>latitud</th>\n",
              "      <th>longitud</th>\n",
              "      <th>place_l3</th>\n",
              "      <th>place_l4</th>\n",
              "      <th>property_type</th>\n",
              "      <th>property_rooms</th>\n",
              "      <th>property_bedrooms</th>\n",
              "      <th>property_surface_total</th>\n",
              "      <th>property_surface_covered</th>\n",
              "      <th>property_price</th>\n",
              "      <th>property_currency</th>\n",
              "      <th>property_title</th>\n",
              "      <th>month_start</th>\n",
              "      <th>month_end</th>\n",
              "      <th>month_on</th>\n",
              "    </tr>\n",
              "  </thead>\n",
              "  <tbody>\n",
              "    <tr>\n",
              "      <th>0</th>\n",
              "      <td>CyZu6IaZgmQYGk8jmPajCg==</td>\n",
              "      <td>NaN</td>\n",
              "      <td>NaN</td>\n",
              "      <td>Barrio SinDefinir</td>\n",
              "      <td>Sub barrio SinDefinir</td>\n",
              "      <td>Casa</td>\n",
              "      <td>4.0</td>\n",
              "      <td>3.0</td>\n",
              "      <td>171.0</td>\n",
              "      <td>133.0</td>\n",
              "      <td>210000.0</td>\n",
              "      <td>USD</td>\n",
              "      <td>VENTA CASA LLAVE EN MANO - COSTA ESMERALDA</td>\n",
              "      <td>09</td>\n",
              "      <td>09</td>\n",
              "      <td>09</td>\n",
              "    </tr>\n",
              "    <tr>\n",
              "      <th>1</th>\n",
              "      <td>d3Z0MblSb2IMBoOBMGJEEQ==</td>\n",
              "      <td>-34.637319</td>\n",
              "      <td>-58.361124</td>\n",
              "      <td>Boca</td>\n",
              "      <td>Sub barrio SinDefinir</td>\n",
              "      <td>Departamento</td>\n",
              "      <td>3.0</td>\n",
              "      <td>2.0</td>\n",
              "      <td>58.0</td>\n",
              "      <td>55.0</td>\n",
              "      <td>82900.0</td>\n",
              "      <td>USD</td>\n",
              "      <td>VENTA TRES AMBIENTES LA BOCA PISO ALTO</td>\n",
              "      <td>09</td>\n",
              "      <td>09</td>\n",
              "      <td>09</td>\n",
              "    </tr>\n",
              "    <tr>\n",
              "      <th>2</th>\n",
              "      <td>rL7qPkQnomsMGu2ViS3sBw==</td>\n",
              "      <td>-34.628647</td>\n",
              "      <td>-58.361871</td>\n",
              "      <td>Boca</td>\n",
              "      <td>Sub barrio SinDefinir</td>\n",
              "      <td>Departamento</td>\n",
              "      <td>4.0</td>\n",
              "      <td>3.0</td>\n",
              "      <td>70.0</td>\n",
              "      <td>70.0</td>\n",
              "      <td>99000.0</td>\n",
              "      <td>USD</td>\n",
              "      <td>Departamento - 4 Ambientes - Catalinas Sur</td>\n",
              "      <td>09</td>\n",
              "      <td>09</td>\n",
              "      <td>09</td>\n",
              "    </tr>\n",
              "    <tr>\n",
              "      <th>3</th>\n",
              "      <td>IfZHM0GX583/RU9QQb8Orw==</td>\n",
              "      <td>-34.599506</td>\n",
              "      <td>-58.404138</td>\n",
              "      <td>Once</td>\n",
              "      <td>Sub barrio SinDefinir</td>\n",
              "      <td>Departamento</td>\n",
              "      <td>2.0</td>\n",
              "      <td>1.0</td>\n",
              "      <td>43.0</td>\n",
              "      <td>43.0</td>\n",
              "      <td>NaN</td>\n",
              "      <td>SinDefinir</td>\n",
              "      <td>Av Puyrredon al 924</td>\n",
              "      <td>09</td>\n",
              "      <td>03</td>\n",
              "      <td>09</td>\n",
              "    </tr>\n",
              "    <tr>\n",
              "      <th>4</th>\n",
              "      <td>vuX/ccLAMVml4qWRFcOJUA==</td>\n",
              "      <td>-34.610027</td>\n",
              "      <td>-58.401934</td>\n",
              "      <td>Once</td>\n",
              "      <td>Sub barrio SinDefinir</td>\n",
              "      <td>Departamento</td>\n",
              "      <td>4.0</td>\n",
              "      <td>2.0</td>\n",
              "      <td>NaN</td>\n",
              "      <td>104.0</td>\n",
              "      <td>146000.0</td>\n",
              "      <td>USD</td>\n",
              "      <td>Venta departamento 4 ambientes Once</td>\n",
              "      <td>09</td>\n",
              "      <td>01</td>\n",
              "      <td>09</td>\n",
              "    </tr>\n",
              "    <tr>\n",
              "      <th>...</th>\n",
              "      <td>...</td>\n",
              "      <td>...</td>\n",
              "      <td>...</td>\n",
              "      <td>...</td>\n",
              "      <td>...</td>\n",
              "      <td>...</td>\n",
              "      <td>...</td>\n",
              "      <td>...</td>\n",
              "      <td>...</td>\n",
              "      <td>...</td>\n",
              "      <td>...</td>\n",
              "      <td>...</td>\n",
              "      <td>...</td>\n",
              "      <td>...</td>\n",
              "      <td>...</td>\n",
              "      <td>...</td>\n",
              "    </tr>\n",
              "    <tr>\n",
              "      <th>95490</th>\n",
              "      <td>v4f5Un9jO7hsD02MWLkKBQ==</td>\n",
              "      <td>-34.603245</td>\n",
              "      <td>-58.489810</td>\n",
              "      <td>Villa del Parque</td>\n",
              "      <td>Sub barrio SinDefinir</td>\n",
              "      <td>Departamento</td>\n",
              "      <td>4.0</td>\n",
              "      <td>3.0</td>\n",
              "      <td>130.0</td>\n",
              "      <td>100.0</td>\n",
              "      <td>220000.0</td>\n",
              "      <td>USD</td>\n",
              "      <td>Espectacular 4 amb130m2 con Balcon Terraza!!!</td>\n",
              "      <td>01</td>\n",
              "      <td>09</td>\n",
              "      <td>01</td>\n",
              "    </tr>\n",
              "    <tr>\n",
              "      <th>95491</th>\n",
              "      <td>Aq/Z+XyS8FHbOOxed4xtTw==</td>\n",
              "      <td>-34.614063</td>\n",
              "      <td>-58.482814</td>\n",
              "      <td>Villa del Parque</td>\n",
              "      <td>Sub barrio SinDefinir</td>\n",
              "      <td>Departamento</td>\n",
              "      <td>3.0</td>\n",
              "      <td>2.0</td>\n",
              "      <td>68.0</td>\n",
              "      <td>60.0</td>\n",
              "      <td>161000.0</td>\n",
              "      <td>USD</td>\n",
              "      <td>3 ambientes con cochera listo para habitar!</td>\n",
              "      <td>01</td>\n",
              "      <td>02</td>\n",
              "      <td>01</td>\n",
              "    </tr>\n",
              "    <tr>\n",
              "      <th>95492</th>\n",
              "      <td>Rmamz8v4Wkh5xF7PA59Jqw==</td>\n",
              "      <td>-34.614175</td>\n",
              "      <td>-58.479062</td>\n",
              "      <td>Villa del Parque</td>\n",
              "      <td>Sub barrio SinDefinir</td>\n",
              "      <td>Departamento</td>\n",
              "      <td>1.0</td>\n",
              "      <td>1.0</td>\n",
              "      <td>51.0</td>\n",
              "      <td>30.0</td>\n",
              "      <td>75500.0</td>\n",
              "      <td>USD</td>\n",
              "      <td>VENTA MONOAMBIENTE CON PATIO SOL DE MAÑANA ///...</td>\n",
              "      <td>01</td>\n",
              "      <td>01</td>\n",
              "      <td>01</td>\n",
              "    </tr>\n",
              "    <tr>\n",
              "      <th>95493</th>\n",
              "      <td>7yl8Dfx5wobH21YdMU+Kgg==</td>\n",
              "      <td>-34.614175</td>\n",
              "      <td>-58.479062</td>\n",
              "      <td>Villa del Parque</td>\n",
              "      <td>Sub barrio SinDefinir</td>\n",
              "      <td>Departamento</td>\n",
              "      <td>1.0</td>\n",
              "      <td>1.0</td>\n",
              "      <td>37.0</td>\n",
              "      <td>31.0</td>\n",
              "      <td>74500.0</td>\n",
              "      <td>USD</td>\n",
              "      <td>VENTA MONOAMBIENTE APAISADO y DIVISIBLE AL CF ...</td>\n",
              "      <td>01</td>\n",
              "      <td>01</td>\n",
              "      <td>01</td>\n",
              "    </tr>\n",
              "    <tr>\n",
              "      <th>95494</th>\n",
              "      <td>9OVDfhoDvkY4rr/SX0ggVw==</td>\n",
              "      <td>-34.599790</td>\n",
              "      <td>-58.373411</td>\n",
              "      <td>Centro / Microcentro</td>\n",
              "      <td>Sub barrio SinDefinir</td>\n",
              "      <td>Departamento</td>\n",
              "      <td>2.0</td>\n",
              "      <td>1.0</td>\n",
              "      <td>84.0</td>\n",
              "      <td>84.0</td>\n",
              "      <td>135000.0</td>\n",
              "      <td>USD</td>\n",
              "      <td>VENTA DEPTO 2 1/2 AMBIENTES - CENTRO</td>\n",
              "      <td>01</td>\n",
              "      <td>01</td>\n",
              "      <td>01</td>\n",
              "    </tr>\n",
              "  </tbody>\n",
              "</table>\n",
              "<p>95495 rows × 16 columns</p>\n",
              "</div>\n",
              "    <div class=\"colab-df-buttons\">\n",
              "\n",
              "  <div class=\"colab-df-container\">\n",
              "    <button class=\"colab-df-convert\" onclick=\"convertToInteractive('df-052464df-baf7-4f64-976b-aec2109e81ee')\"\n",
              "            title=\"Convert this dataframe to an interactive table.\"\n",
              "            style=\"display:none;\">\n",
              "\n",
              "  <svg xmlns=\"http://www.w3.org/2000/svg\" height=\"24px\" viewBox=\"0 -960 960 960\">\n",
              "    <path d=\"M120-120v-720h720v720H120Zm60-500h600v-160H180v160Zm220 220h160v-160H400v160Zm0 220h160v-160H400v160ZM180-400h160v-160H180v160Zm440 0h160v-160H620v160ZM180-180h160v-160H180v160Zm440 0h160v-160H620v160Z\"/>\n",
              "  </svg>\n",
              "    </button>\n",
              "\n",
              "  <style>\n",
              "    .colab-df-container {\n",
              "      display:flex;\n",
              "      gap: 12px;\n",
              "    }\n",
              "\n",
              "    .colab-df-convert {\n",
              "      background-color: #E8F0FE;\n",
              "      border: none;\n",
              "      border-radius: 50%;\n",
              "      cursor: pointer;\n",
              "      display: none;\n",
              "      fill: #1967D2;\n",
              "      height: 32px;\n",
              "      padding: 0 0 0 0;\n",
              "      width: 32px;\n",
              "    }\n",
              "\n",
              "    .colab-df-convert:hover {\n",
              "      background-color: #E2EBFA;\n",
              "      box-shadow: 0px 1px 2px rgba(60, 64, 67, 0.3), 0px 1px 3px 1px rgba(60, 64, 67, 0.15);\n",
              "      fill: #174EA6;\n",
              "    }\n",
              "\n",
              "    .colab-df-buttons div {\n",
              "      margin-bottom: 4px;\n",
              "    }\n",
              "\n",
              "    [theme=dark] .colab-df-convert {\n",
              "      background-color: #3B4455;\n",
              "      fill: #D2E3FC;\n",
              "    }\n",
              "\n",
              "    [theme=dark] .colab-df-convert:hover {\n",
              "      background-color: #434B5C;\n",
              "      box-shadow: 0px 1px 3px 1px rgba(0, 0, 0, 0.15);\n",
              "      filter: drop-shadow(0px 1px 2px rgba(0, 0, 0, 0.3));\n",
              "      fill: #FFFFFF;\n",
              "    }\n",
              "  </style>\n",
              "\n",
              "    <script>\n",
              "      const buttonEl =\n",
              "        document.querySelector('#df-052464df-baf7-4f64-976b-aec2109e81ee button.colab-df-convert');\n",
              "      buttonEl.style.display =\n",
              "        google.colab.kernel.accessAllowed ? 'block' : 'none';\n",
              "\n",
              "      async function convertToInteractive(key) {\n",
              "        const element = document.querySelector('#df-052464df-baf7-4f64-976b-aec2109e81ee');\n",
              "        const dataTable =\n",
              "          await google.colab.kernel.invokeFunction('convertToInteractive',\n",
              "                                                    [key], {});\n",
              "        if (!dataTable) return;\n",
              "\n",
              "        const docLinkHtml = 'Like what you see? Visit the ' +\n",
              "          '<a target=\"_blank\" href=https://colab.research.google.com/notebooks/data_table.ipynb>data table notebook</a>'\n",
              "          + ' to learn more about interactive tables.';\n",
              "        element.innerHTML = '';\n",
              "        dataTable['output_type'] = 'display_data';\n",
              "        await google.colab.output.renderOutput(dataTable, element);\n",
              "        const docLink = document.createElement('div');\n",
              "        docLink.innerHTML = docLinkHtml;\n",
              "        element.appendChild(docLink);\n",
              "      }\n",
              "    </script>\n",
              "  </div>\n",
              "\n",
              "\n",
              "<div id=\"df-1083f4ab-326e-4299-bf70-4c193b945d56\">\n",
              "  <button class=\"colab-df-quickchart\" onclick=\"quickchart('df-1083f4ab-326e-4299-bf70-4c193b945d56')\"\n",
              "            title=\"Suggest charts\"\n",
              "            style=\"display:none;\">\n",
              "\n",
              "<svg xmlns=\"http://www.w3.org/2000/svg\" height=\"24px\"viewBox=\"0 0 24 24\"\n",
              "     width=\"24px\">\n",
              "    <g>\n",
              "        <path d=\"M19 3H5c-1.1 0-2 .9-2 2v14c0 1.1.9 2 2 2h14c1.1 0 2-.9 2-2V5c0-1.1-.9-2-2-2zM9 17H7v-7h2v7zm4 0h-2V7h2v10zm4 0h-2v-4h2v4z\"/>\n",
              "    </g>\n",
              "</svg>\n",
              "  </button>\n",
              "\n",
              "<style>\n",
              "  .colab-df-quickchart {\n",
              "      --bg-color: #E8F0FE;\n",
              "      --fill-color: #1967D2;\n",
              "      --hover-bg-color: #E2EBFA;\n",
              "      --hover-fill-color: #174EA6;\n",
              "      --disabled-fill-color: #AAA;\n",
              "      --disabled-bg-color: #DDD;\n",
              "  }\n",
              "\n",
              "  [theme=dark] .colab-df-quickchart {\n",
              "      --bg-color: #3B4455;\n",
              "      --fill-color: #D2E3FC;\n",
              "      --hover-bg-color: #434B5C;\n",
              "      --hover-fill-color: #FFFFFF;\n",
              "      --disabled-bg-color: #3B4455;\n",
              "      --disabled-fill-color: #666;\n",
              "  }\n",
              "\n",
              "  .colab-df-quickchart {\n",
              "    background-color: var(--bg-color);\n",
              "    border: none;\n",
              "    border-radius: 50%;\n",
              "    cursor: pointer;\n",
              "    display: none;\n",
              "    fill: var(--fill-color);\n",
              "    height: 32px;\n",
              "    padding: 0;\n",
              "    width: 32px;\n",
              "  }\n",
              "\n",
              "  .colab-df-quickchart:hover {\n",
              "    background-color: var(--hover-bg-color);\n",
              "    box-shadow: 0 1px 2px rgba(60, 64, 67, 0.3), 0 1px 3px 1px rgba(60, 64, 67, 0.15);\n",
              "    fill: var(--button-hover-fill-color);\n",
              "  }\n",
              "\n",
              "  .colab-df-quickchart-complete:disabled,\n",
              "  .colab-df-quickchart-complete:disabled:hover {\n",
              "    background-color: var(--disabled-bg-color);\n",
              "    fill: var(--disabled-fill-color);\n",
              "    box-shadow: none;\n",
              "  }\n",
              "\n",
              "  .colab-df-spinner {\n",
              "    border: 2px solid var(--fill-color);\n",
              "    border-color: transparent;\n",
              "    border-bottom-color: var(--fill-color);\n",
              "    animation:\n",
              "      spin 1s steps(1) infinite;\n",
              "  }\n",
              "\n",
              "  @keyframes spin {\n",
              "    0% {\n",
              "      border-color: transparent;\n",
              "      border-bottom-color: var(--fill-color);\n",
              "      border-left-color: var(--fill-color);\n",
              "    }\n",
              "    20% {\n",
              "      border-color: transparent;\n",
              "      border-left-color: var(--fill-color);\n",
              "      border-top-color: var(--fill-color);\n",
              "    }\n",
              "    30% {\n",
              "      border-color: transparent;\n",
              "      border-left-color: var(--fill-color);\n",
              "      border-top-color: var(--fill-color);\n",
              "      border-right-color: var(--fill-color);\n",
              "    }\n",
              "    40% {\n",
              "      border-color: transparent;\n",
              "      border-right-color: var(--fill-color);\n",
              "      border-top-color: var(--fill-color);\n",
              "    }\n",
              "    60% {\n",
              "      border-color: transparent;\n",
              "      border-right-color: var(--fill-color);\n",
              "    }\n",
              "    80% {\n",
              "      border-color: transparent;\n",
              "      border-right-color: var(--fill-color);\n",
              "      border-bottom-color: var(--fill-color);\n",
              "    }\n",
              "    90% {\n",
              "      border-color: transparent;\n",
              "      border-bottom-color: var(--fill-color);\n",
              "    }\n",
              "  }\n",
              "</style>\n",
              "\n",
              "  <script>\n",
              "    async function quickchart(key) {\n",
              "      const quickchartButtonEl =\n",
              "        document.querySelector('#' + key + ' button');\n",
              "      quickchartButtonEl.disabled = true;  // To prevent multiple clicks.\n",
              "      quickchartButtonEl.classList.add('colab-df-spinner');\n",
              "      try {\n",
              "        const charts = await google.colab.kernel.invokeFunction(\n",
              "            'suggestCharts', [key], {});\n",
              "      } catch (error) {\n",
              "        console.error('Error during call to suggestCharts:', error);\n",
              "      }\n",
              "      quickchartButtonEl.classList.remove('colab-df-spinner');\n",
              "      quickchartButtonEl.classList.add('colab-df-quickchart-complete');\n",
              "    }\n",
              "    (() => {\n",
              "      let quickchartButtonEl =\n",
              "        document.querySelector('#df-1083f4ab-326e-4299-bf70-4c193b945d56 button');\n",
              "      quickchartButtonEl.style.display =\n",
              "        google.colab.kernel.accessAllowed ? 'block' : 'none';\n",
              "    })();\n",
              "  </script>\n",
              "</div>\n",
              "    </div>\n",
              "  </div>\n"
            ],
            "application/vnd.google.colaboratory.intrinsic+json": {
              "type": "dataframe",
              "variable_name": "df",
              "summary": "{\n  \"name\": \"df\",\n  \"rows\": 95495,\n  \"fields\": [\n    {\n      \"column\": \"id\",\n      \"properties\": {\n        \"dtype\": \"string\",\n        \"num_unique_values\": 95495,\n        \"samples\": [\n          \"7jbLcXATsJf+xviqqdpCEQ==\",\n          \"MRCfW30rLTVnm1Cfa8WkpA==\",\n          \"zayFmEsoDaokhXmXrYx7Nw==\"\n        ],\n        \"semantic_type\": \"\",\n        \"description\": \"\"\n      }\n    },\n    {\n      \"column\": \"latitud\",\n      \"properties\": {\n        \"dtype\": \"number\",\n        \"std\": 0.18529025994030632,\n        \"min\": -53.788624,\n        \"max\": -24.219827,\n        \"num_unique_values\": 45695,\n        \"samples\": [\n          -34.5644549,\n          -34.619091,\n          -34.5802655928\n        ],\n        \"semantic_type\": \"\",\n        \"description\": \"\"\n      }\n    },\n    {\n      \"column\": \"longitud\",\n      \"properties\": {\n        \"dtype\": \"number\",\n        \"std\": 0.30213912737661286,\n        \"min\": -71.4711916762,\n        \"max\": -54.13333,\n        \"num_unique_values\": 45487,\n        \"samples\": [\n          -58.406741,\n          -58.3730683,\n          -58.3961628\n        ],\n        \"semantic_type\": \"\",\n        \"description\": \"\"\n      }\n    },\n    {\n      \"column\": \"place_l3\",\n      \"properties\": {\n        \"dtype\": \"category\",\n        \"num_unique_values\": 58,\n        \"samples\": [\n          \"Barrio SinDefinir\",\n          \"Nu\\u00f1ez\",\n          \"Villa Lugano\"\n        ],\n        \"semantic_type\": \"\",\n        \"description\": \"\"\n      }\n    },\n    {\n      \"column\": \"place_l4\",\n      \"properties\": {\n        \"dtype\": \"category\",\n        \"num_unique_values\": 5,\n        \"samples\": [\n          \"Palermo Chico\",\n          \"Palermo Hollywood\",\n          \"Palermo Soho\"\n        ],\n        \"semantic_type\": \"\",\n        \"description\": \"\"\n      }\n    },\n    {\n      \"column\": \"property_type\",\n      \"properties\": {\n        \"dtype\": \"category\",\n        \"num_unique_values\": 3,\n        \"samples\": [\n          \"Casa\",\n          \"Departamento\",\n          \"PH\"\n        ],\n        \"semantic_type\": \"\",\n        \"description\": \"\"\n      }\n    },\n    {\n      \"column\": \"property_rooms\",\n      \"properties\": {\n        \"dtype\": \"number\",\n        \"std\": 1.4362195305363576,\n        \"min\": 1.0,\n        \"max\": 40.0,\n        \"num_unique_values\": 27,\n        \"samples\": [\n          9.0,\n          30.0,\n          8.0\n        ],\n        \"semantic_type\": \"\",\n        \"description\": \"\"\n      }\n    },\n    {\n      \"column\": \"property_bedrooms\",\n      \"properties\": {\n        \"dtype\": \"number\",\n        \"std\": 1.1388243859403753,\n        \"min\": -1.0,\n        \"max\": 70.0,\n        \"num_unique_values\": 24,\n        \"samples\": [\n          15.0,\n          32.0,\n          3.0\n        ],\n        \"semantic_type\": \"\",\n        \"description\": \"\"\n      }\n    },\n    {\n      \"column\": \"property_surface_total\",\n      \"properties\": {\n        \"dtype\": \"number\",\n        \"std\": 1028.0461450065761,\n        \"min\": 10.0,\n        \"max\": 137000.0,\n        \"num_unique_values\": 736,\n        \"samples\": [\n          1166.0,\n          52.0,\n          478.0\n        ],\n        \"semantic_type\": \"\",\n        \"description\": \"\"\n      }\n    },\n    {\n      \"column\": \"property_surface_covered\",\n      \"properties\": {\n        \"dtype\": \"number\",\n        \"std\": 1030.0015953492623,\n        \"min\": 1.0,\n        \"max\": 217000.0,\n        \"num_unique_values\": 602,\n        \"samples\": [\n          84.0,\n          221.0,\n          592.0\n        ],\n        \"semantic_type\": \"\",\n        \"description\": \"\"\n      }\n    },\n    {\n      \"column\": \"property_price\",\n      \"properties\": {\n        \"dtype\": \"number\",\n        \"std\": 318555.7155290026,\n        \"min\": 0.0,\n        \"max\": 21400000.0,\n        \"num_unique_values\": 4790,\n        \"samples\": [\n          685000.0,\n          276000.0,\n          37356.0\n        ],\n        \"semantic_type\": \"\",\n        \"description\": \"\"\n      }\n    },\n    {\n      \"column\": \"property_currency\",\n      \"properties\": {\n        \"dtype\": \"category\",\n        \"num_unique_values\": 2,\n        \"samples\": [\n          \"SinDefinir\",\n          \"USD\"\n        ],\n        \"semantic_type\": \"\",\n        \"description\": \"\"\n      }\n    },\n    {\n      \"column\": \"property_title\",\n      \"properties\": {\n        \"dtype\": \"string\",\n        \"num_unique_values\": 56165,\n        \"samples\": [\n          \"VENTA DEPARTAMENTO 3 AMBIENTES, VISTA AL FRENTE CON BALCON.\",\n          \"Venta-Monoambiente - Almagro- 75 mts- Apto profesional. Oportunidad\"\n        ],\n        \"semantic_type\": \"\",\n        \"description\": \"\"\n      }\n    },\n    {\n      \"column\": \"month_start\",\n      \"properties\": {\n        \"dtype\": \"category\",\n        \"num_unique_values\": 12,\n        \"samples\": [\n          \"06\",\n          \"04\"\n        ],\n        \"semantic_type\": \"\",\n        \"description\": \"\"\n      }\n    },\n    {\n      \"column\": \"month_end\",\n      \"properties\": {\n        \"dtype\": \"category\",\n        \"num_unique_values\": 12,\n        \"samples\": [\n          \"08\",\n          \"07\"\n        ],\n        \"semantic_type\": \"\",\n        \"description\": \"\"\n      }\n    },\n    {\n      \"column\": \"month_on\",\n      \"properties\": {\n        \"dtype\": \"category\",\n        \"num_unique_values\": 12,\n        \"samples\": [\n          \"06\",\n          \"04\"\n        ],\n        \"semantic_type\": \"\",\n        \"description\": \"\"\n      }\n    }\n  ]\n}"
            }
          },
          "metadata": {},
          "execution_count": 86
        }
      ]
    },
    {
      "cell_type": "code",
      "source": [
        "# Nº ambientes\n",
        "df.property_rooms.describe()"
      ],
      "metadata": {
        "colab": {
          "base_uri": "https://localhost:8080/"
        },
        "id": "EQucT32lesen",
        "outputId": "9c78bede-3b6a-4a16-ef3f-749e2f92f066"
      },
      "execution_count": null,
      "outputs": [
        {
          "output_type": "execute_result",
          "data": {
            "text/plain": [
              "count    94398.00000\n",
              "mean         2.82917\n",
              "std          1.43622\n",
              "min          1.00000\n",
              "25%          2.00000\n",
              "50%          3.00000\n",
              "75%          4.00000\n",
              "max         40.00000\n",
              "Name: property_rooms, dtype: float64"
            ]
          },
          "metadata": {},
          "execution_count": 87
        }
      ]
    },
    {
      "cell_type": "code",
      "source": [
        "# Nº dormitorio\n",
        "df.property_bedrooms.describe()"
      ],
      "metadata": {
        "colab": {
          "base_uri": "https://localhost:8080/"
        },
        "id": "EjBXWmmQesT1",
        "outputId": "267035b4-5e09-460e-e024-ad100e53613c"
      },
      "execution_count": null,
      "outputs": [
        {
          "output_type": "execute_result",
          "data": {
            "text/plain": [
              "count    84348.000000\n",
              "mean         2.020546\n",
              "std          1.138824\n",
              "min         -1.000000\n",
              "25%          1.000000\n",
              "50%          2.000000\n",
              "75%          3.000000\n",
              "max         70.000000\n",
              "Name: property_bedrooms, dtype: float64"
            ]
          },
          "metadata": {},
          "execution_count": 88
        }
      ]
    },
    {
      "cell_type": "code",
      "source": [
        "# fecha mes inicial\n",
        "df.month_start.describe()"
      ],
      "metadata": {
        "colab": {
          "base_uri": "https://localhost:8080/"
        },
        "id": "dTyscceGexqA",
        "outputId": "55efb029-af6f-48fd-ce58-c02df7c108b3"
      },
      "execution_count": null,
      "outputs": [
        {
          "output_type": "execute_result",
          "data": {
            "text/plain": [
              "count     95495\n",
              "unique       12\n",
              "top          12\n",
              "freq      10063\n",
              "Name: month_start, dtype: object"
            ]
          },
          "metadata": {},
          "execution_count": 89
        }
      ]
    },
    {
      "cell_type": "code",
      "source": [
        "# fecha mes final\n",
        "df.month_end.describe()"
      ],
      "metadata": {
        "colab": {
          "base_uri": "https://localhost:8080/"
        },
        "id": "p7DQ-7h6exk7",
        "outputId": "6d74948e-9052-4969-f3ef-7da77eada227"
      },
      "execution_count": null,
      "outputs": [
        {
          "output_type": "execute_result",
          "data": {
            "text/plain": [
              "count     90373\n",
              "unique       12\n",
              "top          06\n",
              "freq      18025\n",
              "Name: month_end, dtype: object"
            ]
          },
          "metadata": {},
          "execution_count": 90
        }
      ]
    },
    {
      "cell_type": "code",
      "source": [
        "# fecha mes creacion\n",
        "df.month_on.describe()"
      ],
      "metadata": {
        "colab": {
          "base_uri": "https://localhost:8080/"
        },
        "id": "Rk6GUod7exgr",
        "outputId": "15510194-a1f5-47f8-cf1d-782fc2ec64ab"
      },
      "execution_count": null,
      "outputs": [
        {
          "output_type": "execute_result",
          "data": {
            "text/plain": [
              "count     95495\n",
              "unique       12\n",
              "top          12\n",
              "freq      10063\n",
              "Name: month_on, dtype: object"
            ]
          },
          "metadata": {},
          "execution_count": 91
        }
      ]
    },
    {
      "cell_type": "code",
      "source": [
        "# Nº superficie total\n",
        "df.property_surface_total.describe()"
      ],
      "metadata": {
        "colab": {
          "base_uri": "https://localhost:8080/"
        },
        "id": "zDPAvc54exbk",
        "outputId": "da17c4c8-9744-4c08-a864-be1fb2063cac"
      },
      "execution_count": null,
      "outputs": [
        {
          "output_type": "execute_result",
          "data": {
            "text/plain": [
              "count     90512.000000\n",
              "mean        110.879165\n",
              "std        1028.046145\n",
              "min          10.000000\n",
              "25%          45.000000\n",
              "50%          65.000000\n",
              "75%         105.000000\n",
              "max      137000.000000\n",
              "Name: property_surface_total, dtype: float64"
            ]
          },
          "metadata": {},
          "execution_count": 92
        }
      ]
    },
    {
      "cell_type": "code",
      "source": [
        "# Nº superficie cubierta(construida)\n",
        "df.property_surface_covered.describe()"
      ],
      "metadata": {
        "colab": {
          "base_uri": "https://localhost:8080/"
        },
        "id": "qvKx6gI-640B",
        "outputId": "fa730e43-1dbb-443d-aac0-75b44daded35"
      },
      "execution_count": null,
      "outputs": [
        {
          "output_type": "execute_result",
          "data": {
            "text/plain": [
              "count     92059.000000\n",
              "mean         89.588025\n",
              "std        1030.001595\n",
              "min           1.000000\n",
              "25%          40.000000\n",
              "50%          58.000000\n",
              "75%          89.000000\n",
              "max      217000.000000\n",
              "Name: property_surface_covered, dtype: float64"
            ]
          },
          "metadata": {},
          "execution_count": 93
        }
      ]
    },
    {
      "cell_type": "code",
      "source": [
        "# Nº Precio\n",
        "df.property_price.describe()"
      ],
      "metadata": {
        "colab": {
          "base_uri": "https://localhost:8080/"
        },
        "id": "itCD8ef164f3",
        "outputId": "ba8a115c-c26b-4417-dd5f-6c551dc93e02"
      },
      "execution_count": null,
      "outputs": [
        {
          "output_type": "execute_result",
          "data": {
            "text/plain": [
              "count    9.430600e+04\n",
              "mean     2.261015e+05\n",
              "std      3.185557e+05\n",
              "min      0.000000e+00\n",
              "25%      9.500000e+04\n",
              "50%      1.430000e+05\n",
              "75%      2.370000e+05\n",
              "max      2.140000e+07\n",
              "Name: property_price, dtype: float64"
            ]
          },
          "metadata": {},
          "execution_count": 94
        }
      ]
    },
    {
      "cell_type": "code",
      "source": [
        "# Variables Cualitativas: mostrar cantidad de valores posibles, y frecuencias de cada uno."
      ],
      "metadata": {
        "id": "MF57wsiwUj35"
      },
      "execution_count": null,
      "outputs": []
    },
    {
      "cell_type": "code",
      "source": [
        "# CAT Barrios de CABA\n",
        "df.place_l3.value_counts()"
      ],
      "metadata": {
        "colab": {
          "base_uri": "https://localhost:8080/"
        },
        "id": "j1SiiS0rdj1j",
        "outputId": "bdbf260d-ad47-47af-bb5b-58a791ea5f5f"
      },
      "execution_count": null,
      "outputs": [
        {
          "output_type": "execute_result",
          "data": {
            "text/plain": [
              "place_l3\n",
              "Palermo                 14534\n",
              "Belgrano                 9038\n",
              "Caballito                7238\n",
              "Recoleta                 6412\n",
              "Villa Urquiza            4749\n",
              "Almagro                  4119\n",
              "Nuñez                    3587\n",
              "Villa Crespo             3206\n",
              "Flores                   3153\n",
              "Barrio Norte             3007\n",
              "Balvanera                2572\n",
              "Colegiales               1964\n",
              "Villa Devoto             1964\n",
              "Villa del Parque         1842\n",
              "Saavedra                 1838\n",
              "Puerto Madero            1542\n",
              "San Telmo                1396\n",
              "San Cristobal            1311\n",
              "San Nicolás              1304\n",
              "Retiro                   1275\n",
              "Barracas                 1261\n",
              "Boedo                    1252\n",
              "Floresta                 1211\n",
              "Monserrat                1123\n",
              "Parque Chacabuco         1085\n",
              "Villa Pueyrredón         1018\n",
              "Coghlan                   993\n",
              "Villa Luro                747\n",
              "Mataderos                 726\n",
              "Chacarita                 704\n",
              "Liniers                   675\n",
              "Villa Ortuzar             665\n",
              "Parque Patricios          645\n",
              "Villa Lugano              617\n",
              "Paternal                  570\n",
              "Congreso                  544\n",
              "Monte Castro              505\n",
              "Constitución              453\n",
              "Villa General Mitre       444\n",
              "Villa Santa Rita          441\n",
              "Barrio SinDefinir         435\n",
              "Once                      418\n",
              "Parque Chas               384\n",
              "Parque Avellaneda         383\n",
              "Boca                      365\n",
              "Versalles                 319\n",
              "Velez Sarsfield           244\n",
              "Agronomía                 236\n",
              "Abasto                    233\n",
              "Pompeya                   219\n",
              "Villa Real                143\n",
              "Tribunales                116\n",
              "Parque Centenario          93\n",
              "Centro / Microcentro       77\n",
              "Villa Soldati              45\n",
              "Villa Riachuelo            35\n",
              "Las Cañitas                13\n",
              "Catalinas                   7\n",
              "Name: count, dtype: int64"
            ]
          },
          "metadata": {},
          "execution_count": 96
        }
      ]
    },
    {
      "cell_type": "code",
      "source": [
        "# CAT Sub barrios\n",
        "df.place_l4.value_counts()"
      ],
      "metadata": {
        "colab": {
          "base_uri": "https://localhost:8080/"
        },
        "id": "mmGUFB5WdwUC",
        "outputId": "e389ee50-b3c3-4448-d8da-1970623bf76b"
      },
      "execution_count": null,
      "outputs": [
        {
          "output_type": "execute_result",
          "data": {
            "text/plain": [
              "place_l4\n",
              "Sub barrio SinDefinir    91770\n",
              "Palermo Hollywood         1585\n",
              "Palermo Chico             1147\n",
              "Palermo Soho               821\n",
              "Palermo Viejo              172\n",
              "Name: count, dtype: int64"
            ]
          },
          "metadata": {},
          "execution_count": 97
        }
      ]
    },
    {
      "cell_type": "code",
      "source": [
        "# CAT Casa, Dep, PH\n",
        "df.property_type.value_counts()"
      ],
      "metadata": {
        "colab": {
          "base_uri": "https://localhost:8080/"
        },
        "id": "XXDsmgLod4QA",
        "outputId": "fe0fbcb6-cd45-409b-f686-81edfd99a060"
      },
      "execution_count": null,
      "outputs": [
        {
          "output_type": "execute_result",
          "data": {
            "text/plain": [
              "property_type\n",
              "Departamento    81871\n",
              "PH               9332\n",
              "Casa             4292\n",
              "Name: count, dtype: int64"
            ]
          },
          "metadata": {},
          "execution_count": 98
        }
      ]
    },
    {
      "cell_type": "code",
      "source": [
        "# CAT Moneda\n",
        "df.property_currency.value_counts()"
      ],
      "metadata": {
        "colab": {
          "base_uri": "https://localhost:8080/"
        },
        "id": "4vVdIBj9d_hD",
        "outputId": "d4e4f5c8-2c86-4e93-d593-667b859371da"
      },
      "execution_count": null,
      "outputs": [
        {
          "output_type": "execute_result",
          "data": {
            "text/plain": [
              "property_currency\n",
              "USD           94249\n",
              "SinDefinir     1246\n",
              "Name: count, dtype: int64"
            ]
          },
          "metadata": {},
          "execution_count": 99
        }
      ]
    },
    {
      "cell_type": "code",
      "source": [
        "# String (Titulo para redes sociales)\n",
        "df.property_title.value_counts()"
      ],
      "metadata": {
        "colab": {
          "base_uri": "https://localhost:8080/"
        },
        "id": "MeBCEbMheIuz",
        "outputId": "22ddf266-d964-4195-8a9b-80390b4a1b68"
      },
      "execution_count": null,
      "outputs": [
        {
          "output_type": "execute_result",
          "data": {
            "text/plain": [
              "property_title\n",
              "Departamento - Palermo                                                                                  1504\n",
              "Departamento - Recoleta                                                                                 1368\n",
              "Departamento - Belgrano                                                                                 1145\n",
              "Departamento - Caballito                                                                                 956\n",
              "Departamento - Almagro                                                                                   678\n",
              "                                                                                                        ... \n",
              "EVOQUE OLAZABAL - Mono/Studio de categoría APTO PROFESIONAL                                                1\n",
              "EVOQUE OLAZABAL - 3 ambientes de categoría APTO PROFESIONAL                                                1\n",
              "Gran 3 ambientes en pleno Villa del Parque                                                                 1\n",
              "Venta PH 3 Amb Con Patio Flores                                                                            1\n",
              "VENTA MONOAMBIENTE APAISADO y DIVISIBLE AL CF C/ BALCÓN Vta Ata, PISO ALTO. BAJAS EXP. // APTO CRED.       1\n",
              "Name: count, Length: 56165, dtype: int64"
            ]
          },
          "metadata": {},
          "execution_count": 100
        }
      ]
    },
    {
      "cell_type": "code",
      "source": [
        "# Nº id unico\n",
        "df.id.value_counts()"
      ],
      "metadata": {
        "colab": {
          "base_uri": "https://localhost:8080/"
        },
        "id": "2a6pOTp3eL6J",
        "outputId": "0402518c-1866-46b5-a046-24bfabb839e4"
      },
      "execution_count": null,
      "outputs": [
        {
          "output_type": "execute_result",
          "data": {
            "text/plain": [
              "id\n",
              "CyZu6IaZgmQYGk8jmPajCg==    1\n",
              "2EJoSxf3DGe4vWCQ0Qieug==    1\n",
              "qTFXbqLzlOptfACpBv1t1Q==    1\n",
              "lCaRBzaOj7liQTERwx9LsQ==    1\n",
              "KDLHDiuBWlbnMJfODEPXhw==    1\n",
              "                           ..\n",
              "8uUAjIjppIKm3U0+u3rJRA==    1\n",
              "pCi1fMN2ybNXbOLfdNXUyA==    1\n",
              "lnvX18r3sCnkYO0MFod7HQ==    1\n",
              "iuTlhhT4CER/0UILFzL1HA==    1\n",
              "9OVDfhoDvkY4rr/SX0ggVw==    1\n",
              "Name: count, Length: 95495, dtype: int64"
            ]
          },
          "metadata": {},
          "execution_count": 101
        }
      ]
    },
    {
      "cell_type": "code",
      "source": [
        "# Nº coordenada\n",
        "df.latitud.value_counts()"
      ],
      "metadata": {
        "colab": {
          "base_uri": "https://localhost:8080/"
        },
        "id": "tC5dAcaCeLvq",
        "outputId": "1bf05b4c-fbaa-4613-a237-d895c1cabe4c"
      },
      "execution_count": null,
      "outputs": [
        {
          "output_type": "execute_result",
          "data": {
            "text/plain": [
              "latitud\n",
              "-34.541250    150\n",
              "-34.619406    128\n",
              "-34.604538    116\n",
              "-34.541616    106\n",
              "-34.581910     97\n",
              "             ... \n",
              "-34.558604      1\n",
              "-34.638575      1\n",
              "-34.589646      1\n",
              "-34.585809      1\n",
              "-34.549662      1\n",
              "Name: count, Length: 45695, dtype: int64"
            ]
          },
          "metadata": {},
          "execution_count": 102
        }
      ]
    },
    {
      "cell_type": "code",
      "source": [
        "# Nº coordenada\n",
        "df.longitud.value_counts()"
      ],
      "metadata": {
        "colab": {
          "base_uri": "https://localhost:8080/"
        },
        "id": "URo9JYlseLlx",
        "outputId": "67ad1e3b-c19e-4228-d9a5-d8aeb99f8c95"
      },
      "execution_count": null,
      "outputs": [
        {
          "output_type": "execute_result",
          "data": {
            "text/plain": [
              "longitud\n",
              "-58.472966    150\n",
              "-58.451999    128\n",
              "-58.424956    116\n",
              "-58.473377    106\n",
              "-58.449381     97\n",
              "             ... \n",
              "-58.426576      1\n",
              "-58.430403      1\n",
              "-58.426660      1\n",
              "-58.411774      1\n",
              "-58.482814      1\n",
              "Name: count, Length: 45487, dtype: int64"
            ]
          },
          "metadata": {},
          "execution_count": 103
        }
      ]
    },
    {
      "cell_type": "code",
      "source": [
        "#Variables CUALITATIVAS\n",
        "#(Texto[nominales,ordinales], Numerica[nominales,ordinales])   .value_counts()\n",
        "'''\n",
        "Cualitativas\n",
        "    TEXTO Nominales\n",
        "        6  place_l3                   CAT Barrios de CABA                  # RELEVANTE\n",
        "        7  place_l4                   CAT Sub barrios                      # RELEVANTE\n",
        "        8  property_type              CAT Casa, Dep, PH                    # RELEVANTE\n",
        "        14 property_currency          CAT Moneda                           # irelevante\n",
        "        15 property_title             String (Titulo para redes sociales)  # irelevante\n",
        "    TEXTO Ordinales\n",
        "        -\n",
        "    NUMERICAS Nominales\n",
        "        0  id                         Nº id unico                          # irelevante\n",
        "    NUMERICAS Ordinales\n",
        "        4  latitud                    Nº coordenada                        # irelevante\n",
        "        5  longitud                   Nº coordenada                        # irelevante\n",
        "\n",
        "'''\n",
        "#Variables CUANTITATIVAS\n",
        "#(Discreta, Continua)   .describe()\n",
        "'''\n",
        "Cuantitativas\n",
        "    DISCRETA\n",
        "        9  property_rooms             Nº ambientes                          # RELEVANTE\n",
        "        10 property_bedrooms          Nº dormitorio                         # RELEVANTE\n",
        "\n",
        "    CONTINUA\n",
        "        1  month_date                 fecha ini             #time           # RELEVANTE\n",
        "        2  month_date                 fecha fin             #time           # RELEVANTE\n",
        "        3  month_on                   fecha creacion        #time           # RELEVANTE\n",
        "        11 property_surface_total     Nº superficie total                   # RELEVANTE\n",
        "        12 property_surface_covered   Nº superficie cubierta(construida)    # RELEVANTE\n",
        "        13 property_price             Nº Precio                             # RELEVANTE\n",
        "\n",
        "'''"
      ],
      "metadata": {
        "id": "AOi12ycX-vTZ",
        "colab": {
          "base_uri": "https://localhost:8080/",
          "height": 139
        },
        "outputId": "20328ff1-140e-4225-970f-8a84eef74073"
      },
      "execution_count": null,
      "outputs": [
        {
          "output_type": "execute_result",
          "data": {
            "text/plain": [
              "'\\nCuantitativas\\n    DISCRETA\\n        9  property_rooms             Nº ambientes                          # RELEVANTE\\n        10 property_bedrooms          Nº dormitorio                         # RELEVANTE\\n\\n    CONTINUA\\n        1  month_date                 fecha ini             #time           # RELEVANTE\\n        2  month_date                 fecha fin             #time           # RELEVANTE\\n        3  month_on                   fecha creacion        #time           # RELEVANTE\\n        11 property_surface_total     Nº superficie total                   # RELEVANTE\\n        12 property_surface_covered   Nº superficie cubierta(construida)    # RELEVANTE\\n        13 property_price             Nº Precio                             # RELEVANTE\\n\\n'"
            ],
            "application/vnd.google.colaboratory.intrinsic+json": {
              "type": "string"
            }
          },
          "metadata": {},
          "execution_count": 104
        }
      ]
    },
    {
      "cell_type": "code",
      "source": [
        "df.columns"
      ],
      "metadata": {
        "colab": {
          "base_uri": "https://localhost:8080/"
        },
        "id": "stnroAs2ONug",
        "outputId": "29dff18c-961a-461a-fc50-d4cea48bea82"
      },
      "execution_count": null,
      "outputs": [
        {
          "output_type": "execute_result",
          "data": {
            "text/plain": [
              "Index(['id', 'latitud', 'longitud', 'place_l3', 'place_l4', 'property_type',\n",
              "       'property_rooms', 'property_bedrooms', 'property_surface_total',\n",
              "       'property_surface_covered', 'property_price', 'property_currency',\n",
              "       'property_title', 'month_start', 'month_end', 'month_on'],\n",
              "      dtype='object')"
            ]
          },
          "metadata": {},
          "execution_count": 105
        }
      ]
    },
    {
      "cell_type": "code",
      "source": [
        "new_col_order=['id', 'month_start', 'month_end', 'month_on', 'latitud', 'longitud', 'place_l3', 'place_l4', 'property_type',\n",
        "       'property_rooms', 'property_bedrooms', 'property_surface_total',\n",
        "       'property_surface_covered', 'property_price', 'property_currency',\n",
        "       'property_title']\n",
        "df_order = df[new_col_order]"
      ],
      "metadata": {
        "id": "zNpQFKmIORRt"
      },
      "execution_count": null,
      "outputs": []
    },
    {
      "cell_type": "code",
      "source": [
        "df_order.info()"
      ],
      "metadata": {
        "colab": {
          "base_uri": "https://localhost:8080/"
        },
        "id": "kxO0TxjeN5Rc",
        "outputId": "54f2e192-b683-4ae4-d623-ae877e3c75f4"
      },
      "execution_count": null,
      "outputs": [
        {
          "output_type": "stream",
          "name": "stdout",
          "text": [
            "<class 'pandas.core.frame.DataFrame'>\n",
            "RangeIndex: 95495 entries, 0 to 95494\n",
            "Data columns (total 16 columns):\n",
            " #   Column                    Non-Null Count  Dtype   \n",
            "---  ------                    --------------  -----   \n",
            " 0   id                        95495 non-null  object  \n",
            " 1   month_start               95495 non-null  object  \n",
            " 2   month_end                 90373 non-null  object  \n",
            " 3   month_on                  95495 non-null  object  \n",
            " 4   latitud                   91703 non-null  float64 \n",
            " 5   longitud                  91703 non-null  float64 \n",
            " 6   place_l3                  95495 non-null  category\n",
            " 7   place_l4                  95495 non-null  category\n",
            " 8   property_type             95495 non-null  category\n",
            " 9   property_rooms            94398 non-null  float64 \n",
            " 10  property_bedrooms         84348 non-null  float64 \n",
            " 11  property_surface_total    90512 non-null  float64 \n",
            " 12  property_surface_covered  92059 non-null  float64 \n",
            " 13  property_price            94306 non-null  float64 \n",
            " 14  property_currency         95495 non-null  category\n",
            " 15  property_title            95495 non-null  object  \n",
            "dtypes: category(4), float64(7), object(5)\n",
            "memory usage: 9.1+ MB\n"
          ]
        }
      ]
    },
    {
      "cell_type": "code",
      "source": [
        "# Determinar variables irrelevantes en el análisis"
      ],
      "metadata": {
        "id": "0sGh7WsXT86f"
      },
      "execution_count": null,
      "outputs": []
    },
    {
      "cell_type": "code",
      "source": [
        "'''\n",
        "Si bién todo puede ser RELEVANTE, hay tipicamente variables mucho mas releventes que otras\n",
        ", que son las que se van a tomar en cuenta como RELEVANTES y las demas como IRRELEVANETES.\n",
        "\n",
        "14 property_currency          CAT Moneda                           # irrelevante\n",
        ": La moneda pedida tiene que ser en USD\n",
        ": no la elimino todavía, tiene valores SinDefinir\n",
        "\n",
        "15 property_title             String (Titulo para redes sociales)  # irelevante\n",
        ": Si bien un buen titulo puede ser relevante, es muy poco frecuente. se lo toma como irrelevante.\n",
        "\n",
        "0  id                         Nº id unico                          # irelevante\n",
        ": No me aporta ningún cambio en el precio de venta de una propiedad\n",
        "\n",
        "4  latitud                    Nº coordenada                        # irelevante\n",
        ": Se va a tomar como relevante el barrio, que es una ubicacion mas general\n",
        "\n",
        "5  longitud                   Nº coordenada                        # irelevante\n",
        ": Se va a tomar como relevante el barrio, que es una ubicacion mas general\n",
        "\n",
        "'''"
      ],
      "metadata": {
        "id": "zqQ-xs8-aO1G",
        "colab": {
          "base_uri": "https://localhost:8080/",
          "height": 157
        },
        "outputId": "2b32e213-d310-4a7b-be57-79fd74d191ef"
      },
      "execution_count": null,
      "outputs": [
        {
          "output_type": "execute_result",
          "data": {
            "text/plain": [
              "'\\nSi bién todo puede ser RELEVANTE, hay tipicamente variables mucho mas releventes que otras\\n, que son las que se van a tomar en cuenta como RELEVANTES y las demas como IRRELEVANETES.\\n\\n14 property_currency          CAT Moneda                           # irrelevante\\n: La moneda pedida tiene que ser en USD\\n: no la elimino todavía, tiene valores SinDefinir\\n\\n15 property_title             String (Titulo para redes sociales)  # irelevante\\n: Si bien un buen titulo puede ser relevante, es muy poco frecuente. se lo toma como irrelevante.\\n\\n0  id                         Nº id unico                          # irelevante\\n: No me aporta ningún cambio en el precio de venta de una propiedad\\n\\n4  latitud                    Nº coordenada                        # irelevante\\n: Se va a tomar como relevante el barrio, que es una ubicacion mas general\\n\\n5  longitud                   Nº coordenada                        # irelevante\\n: Se va a tomar como relevante el barrio, que es una ubicacion mas general\\n\\n'"
            ],
            "application/vnd.google.colaboratory.intrinsic+json": {
              "type": "string"
            }
          },
          "metadata": {},
          "execution_count": 109
        }
      ]
    },
    {
      "cell_type": "code",
      "source": [
        "# Eliminamos algunas columnas IRRELEVANTES\n",
        "df_order.drop(columns ='property_title', inplace=True)\n",
        "df_order.drop(columns ='latitud', inplace=True)\n",
        "df_order.drop(columns ='longitud', inplace=True)\n",
        "df_order.drop(columns ='id', inplace=True)"
      ],
      "metadata": {
        "colab": {
          "base_uri": "https://localhost:8080/"
        },
        "id": "De2MOaEu18TI",
        "outputId": "9882fbb2-9c41-4870-8648-389d76e826a2"
      },
      "execution_count": null,
      "outputs": [
        {
          "output_type": "stream",
          "name": "stderr",
          "text": [
            "<ipython-input-110-0e635b2e2571>:2: SettingWithCopyWarning: \n",
            "A value is trying to be set on a copy of a slice from a DataFrame\n",
            "\n",
            "See the caveats in the documentation: https://pandas.pydata.org/pandas-docs/stable/user_guide/indexing.html#returning-a-view-versus-a-copy\n",
            "  df_order.drop(columns ='property_title', inplace=True)\n",
            "<ipython-input-110-0e635b2e2571>:3: SettingWithCopyWarning: \n",
            "A value is trying to be set on a copy of a slice from a DataFrame\n",
            "\n",
            "See the caveats in the documentation: https://pandas.pydata.org/pandas-docs/stable/user_guide/indexing.html#returning-a-view-versus-a-copy\n",
            "  df_order.drop(columns ='latitud', inplace=True)\n",
            "<ipython-input-110-0e635b2e2571>:4: SettingWithCopyWarning: \n",
            "A value is trying to be set on a copy of a slice from a DataFrame\n",
            "\n",
            "See the caveats in the documentation: https://pandas.pydata.org/pandas-docs/stable/user_guide/indexing.html#returning-a-view-versus-a-copy\n",
            "  df_order.drop(columns ='longitud', inplace=True)\n",
            "<ipython-input-110-0e635b2e2571>:5: SettingWithCopyWarning: \n",
            "A value is trying to be set on a copy of a slice from a DataFrame\n",
            "\n",
            "See the caveats in the documentation: https://pandas.pydata.org/pandas-docs/stable/user_guide/indexing.html#returning-a-view-versus-a-copy\n",
            "  df_order.drop(columns ='id', inplace=True)\n"
          ]
        }
      ]
    },
    {
      "cell_type": "code",
      "source": [
        "# Realizar un análisis gráfico de las distribuciones de las variables más relevantes"
      ],
      "metadata": {
        "id": "ufV_qRAfZw-1"
      },
      "execution_count": null,
      "outputs": []
    },
    {
      "cell_type": "code",
      "source": [
        "'''\n",
        "Cualitativas\n",
        "    TEXTO Nominales\n",
        "        6  place_l3                   CAT Barrios de CABA                  # RELEVANTE\n",
        "        7  place_l4                   CAT Sub barrios                      # RELEVANTE\n",
        "        8  property_type              CAT Casa, Dep, PH                    # RELEVANTE\n",
        "'''\n",
        "#Variables CUANTITATIVAS\n",
        "#(Discreta, Continua)   .describe()\n",
        "'''\n",
        "Cuantitativas\n",
        "    DISCRETA\n",
        "        9  property_rooms             Nº ambientes                          # RELEVANTE\n",
        "        10 property_bedrooms          Nº dormitorio                         # RELEVANTE\n",
        "    CONTINUA\n",
        "        1  month_date                 fecha ini             #time           # RELEVANTE\n",
        "        2  month_date                 fecha fin             #time           # RELEVANTE\n",
        "        3  month_on                   fecha creacion        #time           # RELEVANTE\n",
        "        11 property_surface_total     Nº superficie total                   # RELEVANTE\n",
        "        12 property_surface_covered   Nº superficie cubierta(construida)    # RELEVANTE\n",
        "        13 property_price             Nº Precio                             # RELEVANTE\n",
        "'''"
      ],
      "metadata": {
        "id": "vMJozXHLaPM7",
        "colab": {
          "base_uri": "https://localhost:8080/",
          "height": 122
        },
        "outputId": "16be931e-2547-4614-ea35-ec8661974e7d"
      },
      "execution_count": null,
      "outputs": [
        {
          "output_type": "execute_result",
          "data": {
            "text/plain": [
              "'\\nCuantitativas\\n    DISCRETA\\n        9  property_rooms             Nº ambientes                          # RELEVANTE\\n        10 property_bedrooms          Nº dormitorio                         # RELEVANTE\\n    CONTINUA\\n        1  month_date                 fecha ini             #time           # RELEVANTE\\n        2  month_date                 fecha fin             #time           # RELEVANTE\\n        3  month_on                   fecha creacion        #time           # RELEVANTE\\n        11 property_surface_total     Nº superficie total                   # RELEVANTE\\n        12 property_surface_covered   Nº superficie cubierta(construida)    # RELEVANTE\\n        13 property_price             Nº Precio                             # RELEVANTE\\n'"
            ],
            "application/vnd.google.colaboratory.intrinsic+json": {
              "type": "string"
            }
          },
          "metadata": {},
          "execution_count": 112
        }
      ]
    },
    {
      "cell_type": "code",
      "source": [
        "#Vamos a usar seaborn y matplotlib\n",
        "import seaborn as sns\n",
        "from matplotlib import pyplot as plt"
      ],
      "metadata": {
        "id": "LPzYKuXmyShc"
      },
      "execution_count": null,
      "outputs": []
    },
    {
      "cell_type": "code",
      "source": [
        "df_order"
      ],
      "metadata": {
        "colab": {
          "base_uri": "https://localhost:8080/",
          "height": 791
        },
        "id": "r4U8YHflzbPs",
        "outputId": "b0a775a0-9302-4c97-e11f-fdb5da28bf76"
      },
      "execution_count": null,
      "outputs": [
        {
          "output_type": "execute_result",
          "data": {
            "text/plain": [
              "      month_start month_end month_on              place_l3  \\\n",
              "0              09        09       09     Barrio SinDefinir   \n",
              "1              09        09       09                  Boca   \n",
              "2              09        09       09                  Boca   \n",
              "3              09        03       09                  Once   \n",
              "4              09        01       09                  Once   \n",
              "...           ...       ...      ...                   ...   \n",
              "95490          01        09       01      Villa del Parque   \n",
              "95491          01        02       01      Villa del Parque   \n",
              "95492          01        01       01      Villa del Parque   \n",
              "95493          01        01       01      Villa del Parque   \n",
              "95494          01        01       01  Centro / Microcentro   \n",
              "\n",
              "                    place_l4 property_type  property_rooms  property_bedrooms  \\\n",
              "0      Sub barrio SinDefinir          Casa             4.0                3.0   \n",
              "1      Sub barrio SinDefinir  Departamento             3.0                2.0   \n",
              "2      Sub barrio SinDefinir  Departamento             4.0                3.0   \n",
              "3      Sub barrio SinDefinir  Departamento             2.0                1.0   \n",
              "4      Sub barrio SinDefinir  Departamento             4.0                2.0   \n",
              "...                      ...           ...             ...                ...   \n",
              "95490  Sub barrio SinDefinir  Departamento             4.0                3.0   \n",
              "95491  Sub barrio SinDefinir  Departamento             3.0                2.0   \n",
              "95492  Sub barrio SinDefinir  Departamento             1.0                1.0   \n",
              "95493  Sub barrio SinDefinir  Departamento             1.0                1.0   \n",
              "95494  Sub barrio SinDefinir  Departamento             2.0                1.0   \n",
              "\n",
              "       property_surface_total  property_surface_covered  property_price  \\\n",
              "0                       171.0                     133.0        210000.0   \n",
              "1                        58.0                      55.0         82900.0   \n",
              "2                        70.0                      70.0         99000.0   \n",
              "3                        43.0                      43.0             NaN   \n",
              "4                         NaN                     104.0        146000.0   \n",
              "...                       ...                       ...             ...   \n",
              "95490                   130.0                     100.0        220000.0   \n",
              "95491                    68.0                      60.0        161000.0   \n",
              "95492                    51.0                      30.0         75500.0   \n",
              "95493                    37.0                      31.0         74500.0   \n",
              "95494                    84.0                      84.0        135000.0   \n",
              "\n",
              "      property_currency  \n",
              "0                   USD  \n",
              "1                   USD  \n",
              "2                   USD  \n",
              "3            SinDefinir  \n",
              "4                   USD  \n",
              "...                 ...  \n",
              "95490               USD  \n",
              "95491               USD  \n",
              "95492               USD  \n",
              "95493               USD  \n",
              "95494               USD  \n",
              "\n",
              "[95495 rows x 12 columns]"
            ],
            "text/html": [
              "\n",
              "  <div id=\"df-9443674a-de23-4bb2-93b7-1da5a26a38a1\" class=\"colab-df-container\">\n",
              "    <div>\n",
              "<style scoped>\n",
              "    .dataframe tbody tr th:only-of-type {\n",
              "        vertical-align: middle;\n",
              "    }\n",
              "\n",
              "    .dataframe tbody tr th {\n",
              "        vertical-align: top;\n",
              "    }\n",
              "\n",
              "    .dataframe thead th {\n",
              "        text-align: right;\n",
              "    }\n",
              "</style>\n",
              "<table border=\"1\" class=\"dataframe\">\n",
              "  <thead>\n",
              "    <tr style=\"text-align: right;\">\n",
              "      <th></th>\n",
              "      <th>month_start</th>\n",
              "      <th>month_end</th>\n",
              "      <th>month_on</th>\n",
              "      <th>place_l3</th>\n",
              "      <th>place_l4</th>\n",
              "      <th>property_type</th>\n",
              "      <th>property_rooms</th>\n",
              "      <th>property_bedrooms</th>\n",
              "      <th>property_surface_total</th>\n",
              "      <th>property_surface_covered</th>\n",
              "      <th>property_price</th>\n",
              "      <th>property_currency</th>\n",
              "    </tr>\n",
              "  </thead>\n",
              "  <tbody>\n",
              "    <tr>\n",
              "      <th>0</th>\n",
              "      <td>09</td>\n",
              "      <td>09</td>\n",
              "      <td>09</td>\n",
              "      <td>Barrio SinDefinir</td>\n",
              "      <td>Sub barrio SinDefinir</td>\n",
              "      <td>Casa</td>\n",
              "      <td>4.0</td>\n",
              "      <td>3.0</td>\n",
              "      <td>171.0</td>\n",
              "      <td>133.0</td>\n",
              "      <td>210000.0</td>\n",
              "      <td>USD</td>\n",
              "    </tr>\n",
              "    <tr>\n",
              "      <th>1</th>\n",
              "      <td>09</td>\n",
              "      <td>09</td>\n",
              "      <td>09</td>\n",
              "      <td>Boca</td>\n",
              "      <td>Sub barrio SinDefinir</td>\n",
              "      <td>Departamento</td>\n",
              "      <td>3.0</td>\n",
              "      <td>2.0</td>\n",
              "      <td>58.0</td>\n",
              "      <td>55.0</td>\n",
              "      <td>82900.0</td>\n",
              "      <td>USD</td>\n",
              "    </tr>\n",
              "    <tr>\n",
              "      <th>2</th>\n",
              "      <td>09</td>\n",
              "      <td>09</td>\n",
              "      <td>09</td>\n",
              "      <td>Boca</td>\n",
              "      <td>Sub barrio SinDefinir</td>\n",
              "      <td>Departamento</td>\n",
              "      <td>4.0</td>\n",
              "      <td>3.0</td>\n",
              "      <td>70.0</td>\n",
              "      <td>70.0</td>\n",
              "      <td>99000.0</td>\n",
              "      <td>USD</td>\n",
              "    </tr>\n",
              "    <tr>\n",
              "      <th>3</th>\n",
              "      <td>09</td>\n",
              "      <td>03</td>\n",
              "      <td>09</td>\n",
              "      <td>Once</td>\n",
              "      <td>Sub barrio SinDefinir</td>\n",
              "      <td>Departamento</td>\n",
              "      <td>2.0</td>\n",
              "      <td>1.0</td>\n",
              "      <td>43.0</td>\n",
              "      <td>43.0</td>\n",
              "      <td>NaN</td>\n",
              "      <td>SinDefinir</td>\n",
              "    </tr>\n",
              "    <tr>\n",
              "      <th>4</th>\n",
              "      <td>09</td>\n",
              "      <td>01</td>\n",
              "      <td>09</td>\n",
              "      <td>Once</td>\n",
              "      <td>Sub barrio SinDefinir</td>\n",
              "      <td>Departamento</td>\n",
              "      <td>4.0</td>\n",
              "      <td>2.0</td>\n",
              "      <td>NaN</td>\n",
              "      <td>104.0</td>\n",
              "      <td>146000.0</td>\n",
              "      <td>USD</td>\n",
              "    </tr>\n",
              "    <tr>\n",
              "      <th>...</th>\n",
              "      <td>...</td>\n",
              "      <td>...</td>\n",
              "      <td>...</td>\n",
              "      <td>...</td>\n",
              "      <td>...</td>\n",
              "      <td>...</td>\n",
              "      <td>...</td>\n",
              "      <td>...</td>\n",
              "      <td>...</td>\n",
              "      <td>...</td>\n",
              "      <td>...</td>\n",
              "      <td>...</td>\n",
              "    </tr>\n",
              "    <tr>\n",
              "      <th>95490</th>\n",
              "      <td>01</td>\n",
              "      <td>09</td>\n",
              "      <td>01</td>\n",
              "      <td>Villa del Parque</td>\n",
              "      <td>Sub barrio SinDefinir</td>\n",
              "      <td>Departamento</td>\n",
              "      <td>4.0</td>\n",
              "      <td>3.0</td>\n",
              "      <td>130.0</td>\n",
              "      <td>100.0</td>\n",
              "      <td>220000.0</td>\n",
              "      <td>USD</td>\n",
              "    </tr>\n",
              "    <tr>\n",
              "      <th>95491</th>\n",
              "      <td>01</td>\n",
              "      <td>02</td>\n",
              "      <td>01</td>\n",
              "      <td>Villa del Parque</td>\n",
              "      <td>Sub barrio SinDefinir</td>\n",
              "      <td>Departamento</td>\n",
              "      <td>3.0</td>\n",
              "      <td>2.0</td>\n",
              "      <td>68.0</td>\n",
              "      <td>60.0</td>\n",
              "      <td>161000.0</td>\n",
              "      <td>USD</td>\n",
              "    </tr>\n",
              "    <tr>\n",
              "      <th>95492</th>\n",
              "      <td>01</td>\n",
              "      <td>01</td>\n",
              "      <td>01</td>\n",
              "      <td>Villa del Parque</td>\n",
              "      <td>Sub barrio SinDefinir</td>\n",
              "      <td>Departamento</td>\n",
              "      <td>1.0</td>\n",
              "      <td>1.0</td>\n",
              "      <td>51.0</td>\n",
              "      <td>30.0</td>\n",
              "      <td>75500.0</td>\n",
              "      <td>USD</td>\n",
              "    </tr>\n",
              "    <tr>\n",
              "      <th>95493</th>\n",
              "      <td>01</td>\n",
              "      <td>01</td>\n",
              "      <td>01</td>\n",
              "      <td>Villa del Parque</td>\n",
              "      <td>Sub barrio SinDefinir</td>\n",
              "      <td>Departamento</td>\n",
              "      <td>1.0</td>\n",
              "      <td>1.0</td>\n",
              "      <td>37.0</td>\n",
              "      <td>31.0</td>\n",
              "      <td>74500.0</td>\n",
              "      <td>USD</td>\n",
              "    </tr>\n",
              "    <tr>\n",
              "      <th>95494</th>\n",
              "      <td>01</td>\n",
              "      <td>01</td>\n",
              "      <td>01</td>\n",
              "      <td>Centro / Microcentro</td>\n",
              "      <td>Sub barrio SinDefinir</td>\n",
              "      <td>Departamento</td>\n",
              "      <td>2.0</td>\n",
              "      <td>1.0</td>\n",
              "      <td>84.0</td>\n",
              "      <td>84.0</td>\n",
              "      <td>135000.0</td>\n",
              "      <td>USD</td>\n",
              "    </tr>\n",
              "  </tbody>\n",
              "</table>\n",
              "<p>95495 rows × 12 columns</p>\n",
              "</div>\n",
              "    <div class=\"colab-df-buttons\">\n",
              "\n",
              "  <div class=\"colab-df-container\">\n",
              "    <button class=\"colab-df-convert\" onclick=\"convertToInteractive('df-9443674a-de23-4bb2-93b7-1da5a26a38a1')\"\n",
              "            title=\"Convert this dataframe to an interactive table.\"\n",
              "            style=\"display:none;\">\n",
              "\n",
              "  <svg xmlns=\"http://www.w3.org/2000/svg\" height=\"24px\" viewBox=\"0 -960 960 960\">\n",
              "    <path d=\"M120-120v-720h720v720H120Zm60-500h600v-160H180v160Zm220 220h160v-160H400v160Zm0 220h160v-160H400v160ZM180-400h160v-160H180v160Zm440 0h160v-160H620v160ZM180-180h160v-160H180v160Zm440 0h160v-160H620v160Z\"/>\n",
              "  </svg>\n",
              "    </button>\n",
              "\n",
              "  <style>\n",
              "    .colab-df-container {\n",
              "      display:flex;\n",
              "      gap: 12px;\n",
              "    }\n",
              "\n",
              "    .colab-df-convert {\n",
              "      background-color: #E8F0FE;\n",
              "      border: none;\n",
              "      border-radius: 50%;\n",
              "      cursor: pointer;\n",
              "      display: none;\n",
              "      fill: #1967D2;\n",
              "      height: 32px;\n",
              "      padding: 0 0 0 0;\n",
              "      width: 32px;\n",
              "    }\n",
              "\n",
              "    .colab-df-convert:hover {\n",
              "      background-color: #E2EBFA;\n",
              "      box-shadow: 0px 1px 2px rgba(60, 64, 67, 0.3), 0px 1px 3px 1px rgba(60, 64, 67, 0.15);\n",
              "      fill: #174EA6;\n",
              "    }\n",
              "\n",
              "    .colab-df-buttons div {\n",
              "      margin-bottom: 4px;\n",
              "    }\n",
              "\n",
              "    [theme=dark] .colab-df-convert {\n",
              "      background-color: #3B4455;\n",
              "      fill: #D2E3FC;\n",
              "    }\n",
              "\n",
              "    [theme=dark] .colab-df-convert:hover {\n",
              "      background-color: #434B5C;\n",
              "      box-shadow: 0px 1px 3px 1px rgba(0, 0, 0, 0.15);\n",
              "      filter: drop-shadow(0px 1px 2px rgba(0, 0, 0, 0.3));\n",
              "      fill: #FFFFFF;\n",
              "    }\n",
              "  </style>\n",
              "\n",
              "    <script>\n",
              "      const buttonEl =\n",
              "        document.querySelector('#df-9443674a-de23-4bb2-93b7-1da5a26a38a1 button.colab-df-convert');\n",
              "      buttonEl.style.display =\n",
              "        google.colab.kernel.accessAllowed ? 'block' : 'none';\n",
              "\n",
              "      async function convertToInteractive(key) {\n",
              "        const element = document.querySelector('#df-9443674a-de23-4bb2-93b7-1da5a26a38a1');\n",
              "        const dataTable =\n",
              "          await google.colab.kernel.invokeFunction('convertToInteractive',\n",
              "                                                    [key], {});\n",
              "        if (!dataTable) return;\n",
              "\n",
              "        const docLinkHtml = 'Like what you see? Visit the ' +\n",
              "          '<a target=\"_blank\" href=https://colab.research.google.com/notebooks/data_table.ipynb>data table notebook</a>'\n",
              "          + ' to learn more about interactive tables.';\n",
              "        element.innerHTML = '';\n",
              "        dataTable['output_type'] = 'display_data';\n",
              "        await google.colab.output.renderOutput(dataTable, element);\n",
              "        const docLink = document.createElement('div');\n",
              "        docLink.innerHTML = docLinkHtml;\n",
              "        element.appendChild(docLink);\n",
              "      }\n",
              "    </script>\n",
              "  </div>\n",
              "\n",
              "\n",
              "<div id=\"df-621cdb7e-0bec-4442-80fc-b512f6037e60\">\n",
              "  <button class=\"colab-df-quickchart\" onclick=\"quickchart('df-621cdb7e-0bec-4442-80fc-b512f6037e60')\"\n",
              "            title=\"Suggest charts\"\n",
              "            style=\"display:none;\">\n",
              "\n",
              "<svg xmlns=\"http://www.w3.org/2000/svg\" height=\"24px\"viewBox=\"0 0 24 24\"\n",
              "     width=\"24px\">\n",
              "    <g>\n",
              "        <path d=\"M19 3H5c-1.1 0-2 .9-2 2v14c0 1.1.9 2 2 2h14c1.1 0 2-.9 2-2V5c0-1.1-.9-2-2-2zM9 17H7v-7h2v7zm4 0h-2V7h2v10zm4 0h-2v-4h2v4z\"/>\n",
              "    </g>\n",
              "</svg>\n",
              "  </button>\n",
              "\n",
              "<style>\n",
              "  .colab-df-quickchart {\n",
              "      --bg-color: #E8F0FE;\n",
              "      --fill-color: #1967D2;\n",
              "      --hover-bg-color: #E2EBFA;\n",
              "      --hover-fill-color: #174EA6;\n",
              "      --disabled-fill-color: #AAA;\n",
              "      --disabled-bg-color: #DDD;\n",
              "  }\n",
              "\n",
              "  [theme=dark] .colab-df-quickchart {\n",
              "      --bg-color: #3B4455;\n",
              "      --fill-color: #D2E3FC;\n",
              "      --hover-bg-color: #434B5C;\n",
              "      --hover-fill-color: #FFFFFF;\n",
              "      --disabled-bg-color: #3B4455;\n",
              "      --disabled-fill-color: #666;\n",
              "  }\n",
              "\n",
              "  .colab-df-quickchart {\n",
              "    background-color: var(--bg-color);\n",
              "    border: none;\n",
              "    border-radius: 50%;\n",
              "    cursor: pointer;\n",
              "    display: none;\n",
              "    fill: var(--fill-color);\n",
              "    height: 32px;\n",
              "    padding: 0;\n",
              "    width: 32px;\n",
              "  }\n",
              "\n",
              "  .colab-df-quickchart:hover {\n",
              "    background-color: var(--hover-bg-color);\n",
              "    box-shadow: 0 1px 2px rgba(60, 64, 67, 0.3), 0 1px 3px 1px rgba(60, 64, 67, 0.15);\n",
              "    fill: var(--button-hover-fill-color);\n",
              "  }\n",
              "\n",
              "  .colab-df-quickchart-complete:disabled,\n",
              "  .colab-df-quickchart-complete:disabled:hover {\n",
              "    background-color: var(--disabled-bg-color);\n",
              "    fill: var(--disabled-fill-color);\n",
              "    box-shadow: none;\n",
              "  }\n",
              "\n",
              "  .colab-df-spinner {\n",
              "    border: 2px solid var(--fill-color);\n",
              "    border-color: transparent;\n",
              "    border-bottom-color: var(--fill-color);\n",
              "    animation:\n",
              "      spin 1s steps(1) infinite;\n",
              "  }\n",
              "\n",
              "  @keyframes spin {\n",
              "    0% {\n",
              "      border-color: transparent;\n",
              "      border-bottom-color: var(--fill-color);\n",
              "      border-left-color: var(--fill-color);\n",
              "    }\n",
              "    20% {\n",
              "      border-color: transparent;\n",
              "      border-left-color: var(--fill-color);\n",
              "      border-top-color: var(--fill-color);\n",
              "    }\n",
              "    30% {\n",
              "      border-color: transparent;\n",
              "      border-left-color: var(--fill-color);\n",
              "      border-top-color: var(--fill-color);\n",
              "      border-right-color: var(--fill-color);\n",
              "    }\n",
              "    40% {\n",
              "      border-color: transparent;\n",
              "      border-right-color: var(--fill-color);\n",
              "      border-top-color: var(--fill-color);\n",
              "    }\n",
              "    60% {\n",
              "      border-color: transparent;\n",
              "      border-right-color: var(--fill-color);\n",
              "    }\n",
              "    80% {\n",
              "      border-color: transparent;\n",
              "      border-right-color: var(--fill-color);\n",
              "      border-bottom-color: var(--fill-color);\n",
              "    }\n",
              "    90% {\n",
              "      border-color: transparent;\n",
              "      border-bottom-color: var(--fill-color);\n",
              "    }\n",
              "  }\n",
              "</style>\n",
              "\n",
              "  <script>\n",
              "    async function quickchart(key) {\n",
              "      const quickchartButtonEl =\n",
              "        document.querySelector('#' + key + ' button');\n",
              "      quickchartButtonEl.disabled = true;  // To prevent multiple clicks.\n",
              "      quickchartButtonEl.classList.add('colab-df-spinner');\n",
              "      try {\n",
              "        const charts = await google.colab.kernel.invokeFunction(\n",
              "            'suggestCharts', [key], {});\n",
              "      } catch (error) {\n",
              "        console.error('Error during call to suggestCharts:', error);\n",
              "      }\n",
              "      quickchartButtonEl.classList.remove('colab-df-spinner');\n",
              "      quickchartButtonEl.classList.add('colab-df-quickchart-complete');\n",
              "    }\n",
              "    (() => {\n",
              "      let quickchartButtonEl =\n",
              "        document.querySelector('#df-621cdb7e-0bec-4442-80fc-b512f6037e60 button');\n",
              "      quickchartButtonEl.style.display =\n",
              "        google.colab.kernel.accessAllowed ? 'block' : 'none';\n",
              "    })();\n",
              "  </script>\n",
              "</div>\n",
              "    </div>\n",
              "  </div>\n"
            ],
            "application/vnd.google.colaboratory.intrinsic+json": {
              "type": "dataframe",
              "variable_name": "df_order",
              "summary": "{\n  \"name\": \"df_order\",\n  \"rows\": 95495,\n  \"fields\": [\n    {\n      \"column\": \"month_start\",\n      \"properties\": {\n        \"dtype\": \"category\",\n        \"num_unique_values\": 12,\n        \"samples\": [\n          \"06\",\n          \"04\",\n          \"09\"\n        ],\n        \"semantic_type\": \"\",\n        \"description\": \"\"\n      }\n    },\n    {\n      \"column\": \"month_end\",\n      \"properties\": {\n        \"dtype\": \"category\",\n        \"num_unique_values\": 12,\n        \"samples\": [\n          \"08\",\n          \"07\",\n          \"09\"\n        ],\n        \"semantic_type\": \"\",\n        \"description\": \"\"\n      }\n    },\n    {\n      \"column\": \"month_on\",\n      \"properties\": {\n        \"dtype\": \"category\",\n        \"num_unique_values\": 12,\n        \"samples\": [\n          \"06\",\n          \"04\",\n          \"09\"\n        ],\n        \"semantic_type\": \"\",\n        \"description\": \"\"\n      }\n    },\n    {\n      \"column\": \"place_l3\",\n      \"properties\": {\n        \"dtype\": \"category\",\n        \"num_unique_values\": 58,\n        \"samples\": [\n          \"Barrio SinDefinir\",\n          \"Nu\\u00f1ez\",\n          \"Villa Lugano\"\n        ],\n        \"semantic_type\": \"\",\n        \"description\": \"\"\n      }\n    },\n    {\n      \"column\": \"place_l4\",\n      \"properties\": {\n        \"dtype\": \"category\",\n        \"num_unique_values\": 5,\n        \"samples\": [\n          \"Palermo Chico\",\n          \"Palermo Hollywood\",\n          \"Palermo Soho\"\n        ],\n        \"semantic_type\": \"\",\n        \"description\": \"\"\n      }\n    },\n    {\n      \"column\": \"property_type\",\n      \"properties\": {\n        \"dtype\": \"category\",\n        \"num_unique_values\": 3,\n        \"samples\": [\n          \"Casa\",\n          \"Departamento\",\n          \"PH\"\n        ],\n        \"semantic_type\": \"\",\n        \"description\": \"\"\n      }\n    },\n    {\n      \"column\": \"property_rooms\",\n      \"properties\": {\n        \"dtype\": \"number\",\n        \"std\": 1.4362195305363576,\n        \"min\": 1.0,\n        \"max\": 40.0,\n        \"num_unique_values\": 27,\n        \"samples\": [\n          9.0,\n          30.0,\n          8.0\n        ],\n        \"semantic_type\": \"\",\n        \"description\": \"\"\n      }\n    },\n    {\n      \"column\": \"property_bedrooms\",\n      \"properties\": {\n        \"dtype\": \"number\",\n        \"std\": 1.1388243859403753,\n        \"min\": -1.0,\n        \"max\": 70.0,\n        \"num_unique_values\": 24,\n        \"samples\": [\n          15.0,\n          32.0,\n          3.0\n        ],\n        \"semantic_type\": \"\",\n        \"description\": \"\"\n      }\n    },\n    {\n      \"column\": \"property_surface_total\",\n      \"properties\": {\n        \"dtype\": \"number\",\n        \"std\": 1028.0461450065761,\n        \"min\": 10.0,\n        \"max\": 137000.0,\n        \"num_unique_values\": 736,\n        \"samples\": [\n          1166.0,\n          52.0,\n          478.0\n        ],\n        \"semantic_type\": \"\",\n        \"description\": \"\"\n      }\n    },\n    {\n      \"column\": \"property_surface_covered\",\n      \"properties\": {\n        \"dtype\": \"number\",\n        \"std\": 1030.0015953492623,\n        \"min\": 1.0,\n        \"max\": 217000.0,\n        \"num_unique_values\": 602,\n        \"samples\": [\n          84.0,\n          221.0,\n          592.0\n        ],\n        \"semantic_type\": \"\",\n        \"description\": \"\"\n      }\n    },\n    {\n      \"column\": \"property_price\",\n      \"properties\": {\n        \"dtype\": \"number\",\n        \"std\": 318555.7155290026,\n        \"min\": 0.0,\n        \"max\": 21400000.0,\n        \"num_unique_values\": 4790,\n        \"samples\": [\n          685000.0,\n          276000.0,\n          37356.0\n        ],\n        \"semantic_type\": \"\",\n        \"description\": \"\"\n      }\n    },\n    {\n      \"column\": \"property_currency\",\n      \"properties\": {\n        \"dtype\": \"category\",\n        \"num_unique_values\": 2,\n        \"samples\": [\n          \"SinDefinir\",\n          \"USD\"\n        ],\n        \"semantic_type\": \"\",\n        \"description\": \"\"\n      }\n    }\n  ]\n}"
            }
          },
          "metadata": {},
          "execution_count": 114
        }
      ]
    },
    {
      "cell_type": "code",
      "source": [
        "df_order.info()"
      ],
      "metadata": {
        "colab": {
          "base_uri": "https://localhost:8080/"
        },
        "id": "McB8hUum1dKS",
        "outputId": "84a3e32a-5591-4721-96c7-9fbaadbc3215"
      },
      "execution_count": null,
      "outputs": [
        {
          "output_type": "stream",
          "name": "stdout",
          "text": [
            "<class 'pandas.core.frame.DataFrame'>\n",
            "RangeIndex: 95495 entries, 0 to 95494\n",
            "Data columns (total 12 columns):\n",
            " #   Column                    Non-Null Count  Dtype   \n",
            "---  ------                    --------------  -----   \n",
            " 0   month_start               95495 non-null  object  \n",
            " 1   month_end                 90373 non-null  object  \n",
            " 2   month_on                  95495 non-null  object  \n",
            " 3   place_l3                  95495 non-null  category\n",
            " 4   place_l4                  95495 non-null  category\n",
            " 5   property_type             95495 non-null  category\n",
            " 6   property_rooms            94398 non-null  float64 \n",
            " 7   property_bedrooms         84348 non-null  float64 \n",
            " 8   property_surface_total    90512 non-null  float64 \n",
            " 9   property_surface_covered  92059 non-null  float64 \n",
            " 10  property_price            94306 non-null  float64 \n",
            " 11  property_currency         95495 non-null  category\n",
            "dtypes: category(4), float64(5), object(3)\n",
            "memory usage: 6.2+ MB\n"
          ]
        }
      ]
    },
    {
      "cell_type": "code",
      "source": [
        "df_order.place_l3.value_counts()"
      ],
      "metadata": {
        "colab": {
          "base_uri": "https://localhost:8080/"
        },
        "id": "RjB8grHZ0G67",
        "outputId": "74433a78-d09c-4c99-fc76-ca05cae188b3"
      },
      "execution_count": null,
      "outputs": [
        {
          "output_type": "execute_result",
          "data": {
            "text/plain": [
              "place_l3\n",
              "Palermo                 14534\n",
              "Belgrano                 9038\n",
              "Caballito                7238\n",
              "Recoleta                 6412\n",
              "Villa Urquiza            4749\n",
              "Almagro                  4119\n",
              "Nuñez                    3587\n",
              "Villa Crespo             3206\n",
              "Flores                   3153\n",
              "Barrio Norte             3007\n",
              "Balvanera                2572\n",
              "Colegiales               1964\n",
              "Villa Devoto             1964\n",
              "Villa del Parque         1842\n",
              "Saavedra                 1838\n",
              "Puerto Madero            1542\n",
              "San Telmo                1396\n",
              "San Cristobal            1311\n",
              "San Nicolás              1304\n",
              "Retiro                   1275\n",
              "Barracas                 1261\n",
              "Boedo                    1252\n",
              "Floresta                 1211\n",
              "Monserrat                1123\n",
              "Parque Chacabuco         1085\n",
              "Villa Pueyrredón         1018\n",
              "Coghlan                   993\n",
              "Villa Luro                747\n",
              "Mataderos                 726\n",
              "Chacarita                 704\n",
              "Liniers                   675\n",
              "Villa Ortuzar             665\n",
              "Parque Patricios          645\n",
              "Villa Lugano              617\n",
              "Paternal                  570\n",
              "Congreso                  544\n",
              "Monte Castro              505\n",
              "Constitución              453\n",
              "Villa General Mitre       444\n",
              "Villa Santa Rita          441\n",
              "Barrio SinDefinir         435\n",
              "Once                      418\n",
              "Parque Chas               384\n",
              "Parque Avellaneda         383\n",
              "Boca                      365\n",
              "Versalles                 319\n",
              "Velez Sarsfield           244\n",
              "Agronomía                 236\n",
              "Abasto                    233\n",
              "Pompeya                   219\n",
              "Villa Real                143\n",
              "Tribunales                116\n",
              "Parque Centenario          93\n",
              "Centro / Microcentro       77\n",
              "Villa Soldati              45\n",
              "Villa Riachuelo            35\n",
              "Las Cañitas                13\n",
              "Catalinas                   7\n",
              "Name: count, dtype: int64"
            ]
          },
          "metadata": {},
          "execution_count": 116
        }
      ]
    },
    {
      "cell_type": "code",
      "source": [
        "#Grafico de Barras\n",
        "sns.countplot(data=df_order, x='month_start' )\n",
        "plt.show()"
      ],
      "metadata": {
        "colab": {
          "base_uri": "https://localhost:8080/",
          "height": 450
        },
        "id": "bwdMKKeRySWH",
        "outputId": "b06f90fa-9dc8-4891-8451-b6f01f5515d1"
      },
      "execution_count": null,
      "outputs": [
        {
          "output_type": "display_data",
          "data": {
            "text/plain": [
              "<Figure size 640x480 with 1 Axes>"
            ],
            "image/png": "[encoded data removed]"
          },
          "metadata": {}
        }
      ]
    },
    {
      "cell_type": "code",
      "source": [
        "#Grafico de Barras\n",
        "sns.countplot(data=df_order, x='month_end' )\n",
        "plt.show()"
      ],
      "metadata": {
        "colab": {
          "base_uri": "https://localhost:8080/",
          "height": 450
        },
        "id": "p8M-KNYe3sau",
        "outputId": "f996dbbb-8400-4e52-d48e-93d2f257c8d8"
      },
      "execution_count": null,
      "outputs": [
        {
          "output_type": "display_data",
          "data": {
            "text/plain": [
              "<Figure size 640x480 with 1 Axes>"
            ],
            "image/png": "[encoded data removed]"
          },
          "metadata": {}
        }
      ]
    },
    {
      "cell_type": "code",
      "source": [
        "#Grafico de Barras\n",
        "sns.countplot(data=df_order, x='month_on' )\n",
        "plt.show()"
      ],
      "metadata": {
        "colab": {
          "base_uri": "https://localhost:8080/",
          "height": 450
        },
        "id": "ixw-uBRC3sVv",
        "outputId": "bda58e91-0609-4c73-dc34-e3cdcf7f4fee"
      },
      "execution_count": null,
      "outputs": [
        {
          "output_type": "display_data",
          "data": {
            "text/plain": [
              "<Figure size 640x480 with 1 Axes>"
            ],
            "image/png": "[encoded data removed]"
          },
          "metadata": {}
        }
      ]
    },
    {
      "cell_type": "code",
      "source": [
        "#Grafico de Barras\n",
        "sns.countplot(data=df_order, x='place_l3' )\n",
        "plt.show()"
      ],
      "metadata": {
        "colab": {
          "base_uri": "https://localhost:8080/",
          "height": 450
        },
        "id": "Y6tykX1B3sH5",
        "outputId": "0d34f56c-57e4-454e-c914-8d1a16b832f9"
      },
      "execution_count": null,
      "outputs": [
        {
          "output_type": "display_data",
          "data": {
            "text/plain": [
              "<Figure size 640x480 with 1 Axes>"
            ],
            "image/png": "[encoded data removed]"
          },
          "metadata": {}
        }
      ]
    },
    {
      "cell_type": "code",
      "source": [
        "#Grafico de Barras\n",
        "sns.countplot(data=df_order, x='place_l4' )\n",
        "plt.show()"
      ],
      "metadata": {
        "colab": {
          "base_uri": "https://localhost:8080/",
          "height": 450
        },
        "id": "lJnWodNF3sDZ",
        "outputId": "90f0c3d7-929b-42ba-ceae-fe99188a5487"
      },
      "execution_count": null,
      "outputs": [
        {
          "output_type": "display_data",
          "data": {
            "text/plain": [
              "<Figure size 640x480 with 1 Axes>"
            ],
            "image/png": "[encoded data removed]"
          },
          "metadata": {}
        }
      ]
    },
    {
      "cell_type": "code",
      "source": [
        "#Grafico de Barras\n",
        "sns.countplot(data=df_order, x='property_type' )\n",
        "plt.show()"
      ],
      "metadata": {
        "colab": {
          "base_uri": "https://localhost:8080/",
          "height": 449
        },
        "id": "AmVgJMcK3r9-",
        "outputId": "b8b32106-62d8-4e2f-a702-33e45b214b6d"
      },
      "execution_count": null,
      "outputs": [
        {
          "output_type": "display_data",
          "data": {
            "text/plain": [
              "<Figure size 640x480 with 1 Axes>"
            ],
            "image/png": "[encoded data removed]"
          },
          "metadata": {}
        }
      ]
    },
    {
      "cell_type": "code",
      "source": [
        "#Grafico de Barras\n",
        "sns.countplot(data=df_order, x='property_rooms' )\n",
        "plt.show()"
      ],
      "metadata": {
        "colab": {
          "base_uri": "https://localhost:8080/",
          "height": 449
        },
        "id": "Ixjs94pd3r47",
        "outputId": "9f66ef5f-4504-451b-9393-7e0951ff5d26"
      },
      "execution_count": null,
      "outputs": [
        {
          "output_type": "display_data",
          "data": {
            "text/plain": [
              "<Figure size 640x480 with 1 Axes>"
            ],
            "image/png": "[encoded data removed]"
          },
          "metadata": {}
        }
      ]
    },
    {
      "cell_type": "code",
      "source": [
        "#Grafico de Barras\n",
        "sns.countplot(data=df_order, x='property_bedrooms' )\n",
        "plt.show()"
      ],
      "metadata": {
        "colab": {
          "base_uri": "https://localhost:8080/",
          "height": 450
        },
        "id": "Ot_Tgksb4vhl",
        "outputId": "18cc58a9-92ef-49a6-f2b1-4605cafd5873"
      },
      "execution_count": null,
      "outputs": [
        {
          "output_type": "display_data",
          "data": {
            "text/plain": [
              "<Figure size 640x480 with 1 Axes>"
            ],
            "image/png": "[encoded data removed]"
          },
          "metadata": {}
        }
      ]
    },
    {
      "cell_type": "code",
      "source": [
        "#Grafico de Barras\n",
        "sns.countplot(data=df_order, x='property_surface_total' )\n",
        "plt.show()"
      ],
      "metadata": {
        "colab": {
          "base_uri": "https://localhost:8080/",
          "height": 450
        },
        "id": "XoPIZ0B13rye",
        "outputId": "4bc6ac4f-0fcf-4daf-db16-d31e8213ffcd"
      },
      "execution_count": null,
      "outputs": [
        {
          "output_type": "display_data",
          "data": {
            "text/plain": [
              "<Figure size 640x480 with 1 Axes>"
            ],
            "image/png": "[encoded data removed]"
          },
          "metadata": {}
        }
      ]
    },
    {
      "cell_type": "code",
      "source": [
        "#Grafico de Barras\n",
        "sns.countplot(data=df_order, x='property_type' )\n",
        "plt.show()"
      ],
      "metadata": {
        "id": "4W6rPcqc3rtE",
        "colab": {
          "base_uri": "https://localhost:8080/",
          "height": 449
        },
        "outputId": "747dfbc4-10c1-4d6f-c8de-8145267a8a2b"
      },
      "execution_count": null,
      "outputs": [
        {
          "output_type": "display_data",
          "data": {
            "text/plain": [
              "<Figure size 640x480 with 1 Axes>"
            ],
            "image/png": "[encoded data removed]"
          },
          "metadata": {}
        }
      ]
    },
    {
      "cell_type": "code",
      "source": [
        "import matplotlib.pyplot as plt\n",
        "import numpy as np\n",
        "\n",
        "import matplotlib.cbook as cbook\n",
        "\n",
        "# load up some sample financial data\n",
        "df_order = cbook.get_sample_data('goog.npz')['price_data']\n",
        "# create two subplots with the shared x and y axes\n",
        "fig, (ax1, ax2) = plt.subplots(1, 2, sharex=True, sharey=True)\n",
        "\n",
        "pricemin = r[\"property_type\"].min()\n",
        "\n",
        "ax1.plot(r[\"property_price\"], r[\"property_type\"], lw=2)\n",
        "ax2.fill_between(r[\"property_price\"], pricemin, r[\"property_type\"], alpha=0.7)\n",
        "\n",
        "for ax in ax1, ax2:\n",
        "    ax.grid(True)\n",
        "    ax.label_outer()\n",
        "\n",
        "ax1.set_ylabel('price')\n",
        "\n",
        "fig.suptitle('Google (GOOG) daily closing price')\n",
        "fig.autofmt_xdate()"
      ],
      "metadata": {
        "id": "NSSlL3443rlO",
        "colab": {
          "base_uri": "https://localhost:8080/",
          "height": 265
        },
        "outputId": "468dc5c5-d20f-423d-b956-50df955d677a"
      },
      "execution_count": null,
      "outputs": [
        {
          "output_type": "stream",
          "name": "stderr",
          "text": [
            "<ipython-input-135-90e76a0aeec3>:7: MatplotlibDeprecationWarning: In a future release, get_sample_data will automatically load numpy arrays.  Set np_load to True to get the array and suppress this warning.  Set asfileobj to False to get the path to the data file and suppress this warning.\n",
            "  df_order = cbook.get_sample_data('goog.npz')['price_data']\n"
          ]
        },
        {
          "output_type": "error",
          "ename": "TypeError",
          "evalue": "'_io.BufferedReader' object is not subscriptable",
          "traceback": [
            "\u001b[0;31m---------------------------------------------------------------------------\u001b[0m",
            "\u001b[0;31mTypeError\u001b[0m                                 Traceback (most recent call last)",
            "\u001b[0;32m<ipython-input-135-90e76a0aeec3>\u001b[0m in \u001b[0;36m<cell line: 7>\u001b[0;34m()\u001b[0m\n\u001b[1;32m      5\u001b[0m \u001b[0;34m\u001b[0m\u001b[0m\n\u001b[1;32m      6\u001b[0m \u001b[0;31m# load up some sample financial data\u001b[0m\u001b[0;34m\u001b[0m\u001b[0;34m\u001b[0m\u001b[0m\n\u001b[0;32m----> 7\u001b[0;31m \u001b[0mdf_order\u001b[0m \u001b[0;34m=\u001b[0m \u001b[0mcbook\u001b[0m\u001b[0;34m.\u001b[0m\u001b[0mget_sample_data\u001b[0m\u001b[0;34m(\u001b[0m\u001b[0;34m'goog.npz'\u001b[0m\u001b[0;34m)\u001b[0m\u001b[0;34m[\u001b[0m\u001b[0;34m'price_data'\u001b[0m\u001b[0;34m]\u001b[0m\u001b[0;34m\u001b[0m\u001b[0;34m\u001b[0m\u001b[0m\n\u001b[0m\u001b[1;32m      8\u001b[0m \u001b[0;31m# create two subplots with the shared x and y axes\u001b[0m\u001b[0;34m\u001b[0m\u001b[0;34m\u001b[0m\u001b[0m\n\u001b[1;32m      9\u001b[0m \u001b[0mfig\u001b[0m\u001b[0;34m,\u001b[0m \u001b[0;34m(\u001b[0m\u001b[0max1\u001b[0m\u001b[0;34m,\u001b[0m \u001b[0max2\u001b[0m\u001b[0;34m)\u001b[0m \u001b[0;34m=\u001b[0m \u001b[0mplt\u001b[0m\u001b[0;34m.\u001b[0m\u001b[0msubplots\u001b[0m\u001b[0;34m(\u001b[0m\u001b[0;36m1\u001b[0m\u001b[0;34m,\u001b[0m \u001b[0;36m2\u001b[0m\u001b[0;34m,\u001b[0m \u001b[0msharex\u001b[0m\u001b[0;34m=\u001b[0m\u001b[0;32mTrue\u001b[0m\u001b[0;34m,\u001b[0m \u001b[0msharey\u001b[0m\u001b[0;34m=\u001b[0m\u001b[0;32mTrue\u001b[0m\u001b[0;34m)\u001b[0m\u001b[0;34m\u001b[0m\u001b[0;34m\u001b[0m\u001b[0m\n",
            "\u001b[0;31mTypeError\u001b[0m: '_io.BufferedReader' object is not subscriptable"
          ]
        }
      ]
    },
    {
      "cell_type": "code",
      "source": [],
      "metadata": {
        "id": "yZvWYTBa3rXd"
      },
      "execution_count": null,
      "outputs": []
    },
    {
      "cell_type": "code",
      "source": [
        "# Analizar las correlaciones existentes entre las variables"
      ],
      "metadata": {
        "id": "eSs9T0btZw0A"
      },
      "execution_count": null,
      "outputs": []
    },
    {
      "cell_type": "markdown",
      "source": [],
      "metadata": {
        "id": "a3RU-Ob9f0pC"
      }
    }
  ],
  "metadata": {
    "colab": {
      "provenance": [],
      "authorship_tag": "ABX9TyP4iaGxyn4MXlGKVsgF8fk8",
      "include_colab_link": true
    },
    "kernelspec": {
      "display_name": "Python 3",
      "name": "python3"
    },
    "language_info": {
      "name": "python"
    }
  },
  "nbformat": 4,
  "nbformat_minor": 0
}