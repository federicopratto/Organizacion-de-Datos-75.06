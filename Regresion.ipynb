{
  "nbformat": 4,
  "nbformat_minor": 0,
  "metadata": {
    "colab": {
      "provenance": [],
      "include_colab_link": true
    },
    "kernelspec": {
      "name": "python3",
      "display_name": "Python 3"
    },
    "language_info": {
      "name": "python"
    }
  },
  "cells": [
    {
      "cell_type": "markdown",
      "metadata": {
        "id": "view-in-github",
        "colab_type": "text"
      },
      "source": [
        "<a href=\"https://colab.research.google.com/github/sttesta3/7506R-1C2024-GRUPO08/blob/santiago/Regresion.ipynb\" target=\"_parent\"><img src=\"https://colab.research.google.com/assets/colab-badge.svg\" alt=\"Open In Colab\"/></a>"
      ]
    },
    {
      "cell_type": "code",
      "execution_count": 1,
      "metadata": {
        "id": "S5mZ0CvIh3l1"
      },
      "outputs": [],
      "source": [
        "# General libs\n",
        "import pandas as pd\n",
        "import numpy as np\n",
        "\n",
        "#Visualizaciones\n",
        "import seaborn as sns\n",
        "import matplotlib.pyplot as plt\n",
        "\n",
        "#Modelos\n",
        "from sklearn.neighbors import KNeighborsRegressor"
      ]
    },
    {
      "cell_type": "code",
      "source": [
        "# Ruta donde van a estar todos los datasets\n",
        "ruta = \"https://raw.githubusercontent.com/sttesta3/7506R-1C2024-GRUPO08/santiago/datasets/\"\n",
        "x_train = pd.read_csv(ruta + \"x_columnas_entrenamiento.csv\")\n",
        "y_train = pd.read_csv(ruta + \"y_precios_entrenamiento.csv\")\n",
        "\n",
        "x_test = pd.read_csv(ruta + \"x_columnas_test.csv\")\n",
        "y_test = pd.read_csv(ruta + \"y_precios_test.csv\")\n",
        "\n",
        "# Creamos dataset de TEST y limpiamos\n",
        "test = x_test.join(y_test)\n",
        "test_knn = test.select_dtypes(include='float64')\n",
        "\n",
        "test_knn.info()\n",
        "test_knn.dropna(inplace=True)\n",
        "test_knn.info()\n",
        "\n",
        "x_test_knn=pd.DataFrame(test_knn, columns=[\"latitud\",\"longitud\",\"property_rooms\",\"property_surface_total\",\"property_surface_covered\"])\n",
        "y_test_knn=test_knn.property_price\n",
        "\n",
        "# Creamos dataset de TEST y limpiamos\n",
        "x_train_knn = x_train.select_dtypes(include='float64')\n",
        "y_train_knn = y_train.select_dtypes(include='float64')\n",
        "train_knn = x_train_knn.join(y_train_knn)\n",
        "\n",
        "train_knn.info()\n",
        "train_knn.dropna(inplace=True)\n",
        "train_knn.info()\n",
        "\n",
        "y_train_knn=train_knn.property_price\n",
        "x_train_knn=pd.DataFrame(train_knn, columns=[\"latitud\",\"longitud\",\"property_rooms\",\"property_surface_total\",\"property_surface_covered\"])"
      ],
      "metadata": {
        "colab": {
          "base_uri": "https://localhost:8080/"
        },
        "id": "NnXqVFqGj10A",
        "outputId": "6cf1b6b8-78c1-4956-c3fd-f27dfdedb610"
      },
      "execution_count": 52,
      "outputs": [
        {
          "output_type": "stream",
          "name": "stdout",
          "text": [
            "<class 'pandas.core.frame.DataFrame'>\n",
            "RangeIndex: 19099 entries, 0 to 19098\n",
            "Data columns (total 7 columns):\n",
            " #   Column                    Non-Null Count  Dtype  \n",
            "---  ------                    --------------  -----  \n",
            " 0   latitud                   18291 non-null  float64\n",
            " 1   longitud                  18291 non-null  float64\n",
            " 2   property_rooms            18879 non-null  float64\n",
            " 3   property_bedrooms         16862 non-null  float64\n",
            " 4   property_surface_total    18122 non-null  float64\n",
            " 5   property_surface_covered  18402 non-null  float64\n",
            " 6   property_price            18839 non-null  float64\n",
            "dtypes: float64(7)\n",
            "memory usage: 1.0 MB\n",
            "<class 'pandas.core.frame.DataFrame'>\n",
            "Index: 14558 entries, 0 to 19097\n",
            "Data columns (total 7 columns):\n",
            " #   Column                    Non-Null Count  Dtype  \n",
            "---  ------                    --------------  -----  \n",
            " 0   latitud                   14558 non-null  float64\n",
            " 1   longitud                  14558 non-null  float64\n",
            " 2   property_rooms            14558 non-null  float64\n",
            " 3   property_bedrooms         14558 non-null  float64\n",
            " 4   property_surface_total    14558 non-null  float64\n",
            " 5   property_surface_covered  14558 non-null  float64\n",
            " 6   property_price            14558 non-null  float64\n",
            "dtypes: float64(7)\n",
            "memory usage: 909.9 KB\n",
            "<class 'pandas.core.frame.DataFrame'>\n",
            "RangeIndex: 76396 entries, 0 to 76395\n",
            "Data columns (total 7 columns):\n",
            " #   Column                    Non-Null Count  Dtype  \n",
            "---  ------                    --------------  -----  \n",
            " 0   latitud                   73412 non-null  float64\n",
            " 1   longitud                  73412 non-null  float64\n",
            " 2   property_rooms            75519 non-null  float64\n",
            " 3   property_bedrooms         67486 non-null  float64\n",
            " 4   property_surface_total    72390 non-null  float64\n",
            " 5   property_surface_covered  73657 non-null  float64\n",
            " 6   property_price            75467 non-null  float64\n",
            "dtypes: float64(7)\n",
            "memory usage: 4.1 MB\n",
            "<class 'pandas.core.frame.DataFrame'>\n",
            "Index: 58477 entries, 4 to 76395\n",
            "Data columns (total 7 columns):\n",
            " #   Column                    Non-Null Count  Dtype  \n",
            "---  ------                    --------------  -----  \n",
            " 0   latitud                   58477 non-null  float64\n",
            " 1   longitud                  58477 non-null  float64\n",
            " 2   property_rooms            58477 non-null  float64\n",
            " 3   property_bedrooms         58477 non-null  float64\n",
            " 4   property_surface_total    58477 non-null  float64\n",
            " 5   property_surface_covered  58477 non-null  float64\n",
            " 6   property_price            58477 non-null  float64\n",
            "dtypes: float64(7)\n",
            "memory usage: 3.6 MB\n",
            "<class 'pandas.core.frame.DataFrame'>\n",
            "Index: 14558 entries, 0 to 19097\n",
            "Data columns (total 7 columns):\n",
            " #   Column                    Non-Null Count  Dtype  \n",
            "---  ------                    --------------  -----  \n",
            " 0   latitud                   14558 non-null  float64\n",
            " 1   longitud                  14558 non-null  float64\n",
            " 2   property_rooms            14558 non-null  float64\n",
            " 3   property_bedrooms         14558 non-null  float64\n",
            " 4   property_surface_total    14558 non-null  float64\n",
            " 5   property_surface_covered  14558 non-null  float64\n",
            " 6   property_price            14558 non-null  float64\n",
            "dtypes: float64(7)\n",
            "memory usage: 909.9 KB\n"
          ]
        }
      ]
    },
    {
      "cell_type": "code",
      "source": [],
      "metadata": {
        "id": "ebA29XTTx91E"
      },
      "execution_count": null,
      "outputs": []
    },
    {
      "cell_type": "code",
      "source": [
        "# Creo un modelo KNN para regresion y lo ajusto\n",
        "knn_regressor = KNeighborsRegressor().fit(x_train_knn, y_train_knn)\n",
        "y_pred=knn_regressor.predict(x_test_knn)\n",
        "y_pred\n",
        "\n",
        "performance = pd.DataFrame({'Valor Real': y_test_knn,\n",
        "                            'Prediccion': y_pred,\n",
        "                            'Error': y_test_knn - y_pred})\n",
        "# View\n",
        "performance.head()\n",
        "\n",
        "from sklearn import metrics\n",
        "mse = metrics.mean_squared_error(\n",
        "        y_true  = y_test_knn,\n",
        "        y_pred  = y_pred,\n",
        "        squared = True\n",
        "       )\n",
        "\n",
        "rmse = metrics.mean_squared_error(\n",
        "        y_true  = y_test_knn,\n",
        "        y_pred  = y_pred,\n",
        "        squared = False\n",
        "       )\n",
        "\n",
        "print(f\"El error (mse) de test es: {mse}\")\n",
        "print(f\"El error (rmse) de test es: {rmse}\")"
      ],
      "metadata": {
        "colab": {
          "base_uri": "https://localhost:8080/"
        },
        "id": "76WiimUeliBp",
        "outputId": "1f56c616-6ef9-44fe-c58a-8c59a39d9264"
      },
      "execution_count": 54,
      "outputs": [
        {
          "output_type": "stream",
          "name": "stdout",
          "text": [
            "El error (mse) de test es: 22797010116.966652\n",
            "El error (rmse) de test es: 150986.78788876414\n"
          ]
        }
      ]
    }
  ]
}