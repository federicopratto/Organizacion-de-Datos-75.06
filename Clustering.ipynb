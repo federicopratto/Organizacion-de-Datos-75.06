{
  "nbformat": 4,
  "nbformat_minor": 0,
  "metadata": {
    "colab": {
      "provenance": [],
      "include_colab_link": true
    },
    "kernelspec": {
      "name": "python3",
      "display_name": "Python 3"
    },
    "language_info": {
      "name": "python"
    }
  },
  "cells": [
    {
      "cell_type": "markdown",
      "metadata": {
        "id": "view-in-github",
        "colab_type": "text"
      },
      "source": [
        "<a href=\"https://colab.research.google.com/github/sttesta3/7506R-1C2024-GRUPO08/blob/santiago/Clustering.ipynb\" target=\"_parent\"><img src=\"https://colab.research.google.com/assets/colab-badge.svg\" alt=\"Open In Colab\"/></a>"
      ]
    },
    {
      "cell_type": "code",
      "execution_count": null,
      "metadata": {
        "id": "Car-PN3fzJky"
      },
      "outputs": [],
      "source": [
        "# General libs\n",
        "import pandas as pd\n",
        "import numpy as np\n",
        "\n",
        "#Visualizaciones\n",
        "import seaborn as sns\n",
        "import matplotlib.pyplot as plt\n",
        "\n",
        "#Modelos\n",
        "from sklearn.cluster import KMeans\n",
        "\n",
        "# KFold cross validation\n",
        "from sklearn import metrics\n",
        "from sklearn.model_selection import train_test_split\n",
        "from sklearn.model_selection import cross_val_score\n",
        "\n",
        "#Otras librerías\n",
        "import os\n",
        "import warnings\n",
        "warnings.simplefilter(action='ignore', category=FutureWarning)\n",
        "warnings.simplefilter(action='ignore', category=UserWarning)"
      ]
    },
    {
      "cell_type": "code",
      "source": [
        "# Ruta donde van a estar todos los datasets\n",
        "ruta = \"https://raw.githubusercontent.com/sttesta3/7506R-1C2024-GRUPO08/fede/datasets/\"\n",
        "ds = pd.read_csv(ruta + \"ds_filtrado.csv\")\n",
        "\n",
        "ds.drop(columns=\"start_date\",inplace=True)\n",
        "ds.drop(columns=\"place_l3\",inplace=True)\n",
        "ds.drop(columns=\"property_type\",inplace=True)\n",
        "\n",
        "ds.info()\n",
        "\n",
        "ds_train, ds_test = train_test_split(ds, test_size=0.2 , random_state=2)"
      ],
      "metadata": {
        "colab": {
          "base_uri": "https://localhost:8080/"
        },
        "id": "X1mUdzJmzZoA",
        "outputId": "8746471b-6804-44b0-e3d2-b6d7870dc886"
      },
      "execution_count": null,
      "outputs": [
        {
          "output_type": "stream",
          "name": "stdout",
          "text": [
            "<class 'pandas.core.frame.DataFrame'>\n",
            "RangeIndex: 52366 entries, 0 to 52365\n",
            "Data columns (total 7 columns):\n",
            " #   Column                    Non-Null Count  Dtype  \n",
            "---  ------                    --------------  -----  \n",
            " 0   latitud                   52366 non-null  float64\n",
            " 1   longitud                  52366 non-null  float64\n",
            " 2   property_rooms            52366 non-null  int64  \n",
            " 3   property_bedrooms         52366 non-null  int64  \n",
            " 4   property_surface_total    52366 non-null  float64\n",
            " 5   property_surface_covered  52366 non-null  float64\n",
            " 6   property_price            52366 non-null  float64\n",
            "dtypes: float64(5), int64(2)\n",
            "memory usage: 2.8 MB\n"
          ]
        }
      ]
    },
    {
      "cell_type": "code",
      "execution_count": null,
      "metadata": {
        "id": "NhNTIbUHx3RN",
        "outputId": "d2c21deb-3d2d-4d0c-d001-463054980dfe",
        "colab": {
          "base_uri": "https://localhost:8080/",
          "height": 430
        }
      },
      "outputs": [
        {
          "output_type": "display_data",
          "data": {
            "text/plain": [
              "<Figure size 640x480 with 1 Axes>"
            ],
            "image/png": "[encoded data removed]"
          },
          "metadata": {}
        }
      ],
      "source": [
        "# Corro el algoritmo con K entre 2 y 10 y voy guardando el error para luego graficarlo.\n",
        "errores = []\n",
        "variacion = []\n",
        "\n",
        "for clusters in range(1,15):\n",
        "    km = KMeans(n_clusters=clusters)\n",
        "    km.fit(ds_train)\n",
        "    errores.append(km.inertia_)\n",
        "\n",
        "plt.plot(range(1,15), errores)\n",
        "plt.show()"
      ]
    },
    {
      "cell_type": "code",
      "source": [
        "# Corro el algoritmo con K entre 2 y 10 y voy guardando el error para luego graficarlo.\n",
        "errores = []\n",
        "variacion = []\n",
        "\n",
        "for clusters in range(1,15):\n",
        "    km = KMeans(n_clusters=clusters)\n",
        "    km.fit(ds_train)\n",
        "    errores.append(km.inertia_)\n",
        "    errores.append( np.sqrt(-cross_val_score(km, ds_train,scoring=\"neg_mean_squared_error\")).mean())\n",
        "\n",
        "plt.plot(range(1,15), errores)\n",
        "plt.show()"
      ],
      "metadata": {
        "id": "FoajYNxh66Nd"
      },
      "execution_count": null,
      "outputs": []
    },
    {
      "cell_type": "code",
      "source": [
        "variacion = []\n",
        "aceleracion = []\n",
        "\n",
        "for i in range(1,len(errores)):\n",
        "  variacion.append(errores[i-1] - errores[i])\n",
        "\n",
        "for i in range(1,len(variacion)):\n",
        "  aceleracion.append(variacion[i-1] - variacion[i])\n",
        "\n",
        "plt.plot(range(1,len(errores)),variacion)\n",
        "plt.plot(range(1,len(variacion)),aceleracion)\n",
        "plt.show()"
      ],
      "metadata": {
        "colab": {
          "base_uri": "https://localhost:8080/",
          "height": 445
        },
        "id": "_qPhxTXm3fEJ",
        "outputId": "971fc5a7-29c9-4a67-ce9a-76e75ada1819"
      },
      "execution_count": null,
      "outputs": [
        {
          "output_type": "display_data",
          "data": {
            "text/plain": [
              "<Figure size 640x480 with 1 Axes>"
            ],
            "image/png": "[encoded data removed]"
          },
          "metadata": {}
        }
      ]
    }
  ]
}